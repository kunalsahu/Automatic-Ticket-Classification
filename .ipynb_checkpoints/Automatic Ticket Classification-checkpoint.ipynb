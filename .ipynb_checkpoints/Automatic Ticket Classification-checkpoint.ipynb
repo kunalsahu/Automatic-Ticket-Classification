{
 "cells": [
  {
   "cell_type": "markdown",
   "metadata": {
    "id": "rhR-ZUkwJrFn"
   },
   "source": [
    "## Problem Statement\n",
    "\n",
    "You need to build a model that is able to classify customer complaints based on the products/services. By doing so, you can segregate these tickets into their relevant categories and, therefore, help in the quick resolution of the issue.\n",
    "\n",
    "You will be doing topic modelling on the <b>.json</b> data provided by the company. Since this data is not labelled, you need to apply NMF to analyse patterns and classify tickets into the following five clusters based on their products/services:\n",
    "\n",
    "* Credit card / Prepaid card\n",
    "\n",
    "* Bank account services\n",
    "\n",
    "* Theft/Dispute reporting\n",
    "\n",
    "* Mortgages/loans\n",
    "\n",
    "* Others\n",
    "\n",
    "\n",
    "With the help of topic modelling, you will be able to map each ticket onto its respective department/category. You can then use this data to train any supervised model such as logistic regression, decision tree or random forest. Using this trained model, you can classify any new customer complaint support ticket into its relevant department."
   ]
  },
  {
   "cell_type": "markdown",
   "metadata": {
    "id": "mcgXVNyaLUFS"
   },
   "source": [
    "## Pipelines that needs to be performed:\n",
    "\n",
    "You need to perform the following eight major tasks to complete the assignment:\n",
    "\n",
    "1.  Data loading\n",
    "\n",
    "2. Text preprocessing\n",
    "\n",
    "3. Exploratory data analysis (EDA)\n",
    "\n",
    "4. Feature extraction\n",
    "\n",
    "5. Topic modelling\n",
    "\n",
    "6. Model building using supervised learning\n",
    "\n",
    "7. Model training and evaluation\n",
    "\n",
    "8. Model inference"
   ]
  },
  {
   "cell_type": "markdown",
   "metadata": {
    "id": "JuLFIymAL58u"
   },
   "source": [
    "## Importing the necessary libraries"
   ]
  },
  {
   "cell_type": "code",
   "execution_count": 9,
   "metadata": {},
   "outputs": [
    {
     "name": "stdout",
     "output_type": "stream",
     "text": [
      "Requirement already satisfied: SpaCy in /Users/kunalsahu/anaconda3/lib/python3.10/site-packages (3.7.4)\n",
      "Requirement already satisfied: spacy-legacy<3.1.0,>=3.0.11 in /Users/kunalsahu/anaconda3/lib/python3.10/site-packages (from SpaCy) (3.0.12)\n",
      "Requirement already satisfied: spacy-loggers<2.0.0,>=1.0.0 in /Users/kunalsahu/anaconda3/lib/python3.10/site-packages (from SpaCy) (1.0.5)\n",
      "Requirement already satisfied: murmurhash<1.1.0,>=0.28.0 in /Users/kunalsahu/anaconda3/lib/python3.10/site-packages (from SpaCy) (1.0.10)\n",
      "Requirement already satisfied: cymem<2.1.0,>=2.0.2 in /Users/kunalsahu/anaconda3/lib/python3.10/site-packages (from SpaCy) (2.0.8)\n",
      "Requirement already satisfied: preshed<3.1.0,>=3.0.2 in /Users/kunalsahu/anaconda3/lib/python3.10/site-packages (from SpaCy) (3.0.9)\n",
      "Requirement already satisfied: thinc<8.3.0,>=8.2.2 in /Users/kunalsahu/anaconda3/lib/python3.10/site-packages (from SpaCy) (8.2.3)\n",
      "Requirement already satisfied: wasabi<1.2.0,>=0.9.1 in /Users/kunalsahu/anaconda3/lib/python3.10/site-packages (from SpaCy) (1.1.2)\n",
      "Requirement already satisfied: srsly<3.0.0,>=2.4.3 in /Users/kunalsahu/anaconda3/lib/python3.10/site-packages (from SpaCy) (2.4.8)\n",
      "Requirement already satisfied: catalogue<2.1.0,>=2.0.6 in /Users/kunalsahu/anaconda3/lib/python3.10/site-packages (from SpaCy) (2.0.10)\n",
      "Requirement already satisfied: weasel<0.4.0,>=0.1.0 in /Users/kunalsahu/anaconda3/lib/python3.10/site-packages (from SpaCy) (0.3.4)\n",
      "Requirement already satisfied: typer<0.10.0,>=0.3.0 in /Users/kunalsahu/anaconda3/lib/python3.10/site-packages (from SpaCy) (0.9.0)\n",
      "Requirement already satisfied: smart-open<7.0.0,>=5.2.1 in /Users/kunalsahu/anaconda3/lib/python3.10/site-packages (from SpaCy) (5.2.1)\n",
      "Requirement already satisfied: tqdm<5.0.0,>=4.38.0 in /Users/kunalsahu/anaconda3/lib/python3.10/site-packages (from SpaCy) (4.64.1)\n",
      "Requirement already satisfied: requests<3.0.0,>=2.13.0 in /Users/kunalsahu/anaconda3/lib/python3.10/site-packages (from SpaCy) (2.28.1)\n",
      "Requirement already satisfied: pydantic!=1.8,!=1.8.1,<3.0.0,>=1.7.4 in /Users/kunalsahu/anaconda3/lib/python3.10/site-packages (from SpaCy) (2.6.4)\n",
      "Requirement already satisfied: jinja2 in /Users/kunalsahu/anaconda3/lib/python3.10/site-packages (from SpaCy) (3.1.2)\n",
      "Requirement already satisfied: setuptools in /Users/kunalsahu/anaconda3/lib/python3.10/site-packages (from SpaCy) (65.6.3)\n",
      "Requirement already satisfied: packaging>=20.0 in /Users/kunalsahu/anaconda3/lib/python3.10/site-packages (from SpaCy) (22.0)\n",
      "Requirement already satisfied: langcodes<4.0.0,>=3.2.0 in /Users/kunalsahu/anaconda3/lib/python3.10/site-packages (from SpaCy) (3.3.0)\n",
      "Requirement already satisfied: numpy>=1.19.0 in /Users/kunalsahu/anaconda3/lib/python3.10/site-packages (from SpaCy) (1.23.5)\n",
      "Requirement already satisfied: annotated-types>=0.4.0 in /Users/kunalsahu/anaconda3/lib/python3.10/site-packages (from pydantic!=1.8,!=1.8.1,<3.0.0,>=1.7.4->SpaCy) (0.6.0)\n",
      "Requirement already satisfied: pydantic-core==2.16.3 in /Users/kunalsahu/anaconda3/lib/python3.10/site-packages (from pydantic!=1.8,!=1.8.1,<3.0.0,>=1.7.4->SpaCy) (2.16.3)\n",
      "Requirement already satisfied: typing-extensions>=4.6.1 in /Users/kunalsahu/anaconda3/lib/python3.10/site-packages (from pydantic!=1.8,!=1.8.1,<3.0.0,>=1.7.4->SpaCy) (4.10.0)\n",
      "Requirement already satisfied: charset-normalizer<3,>=2 in /Users/kunalsahu/anaconda3/lib/python3.10/site-packages (from requests<3.0.0,>=2.13.0->SpaCy) (2.0.4)\n",
      "Requirement already satisfied: idna<4,>=2.5 in /Users/kunalsahu/anaconda3/lib/python3.10/site-packages (from requests<3.0.0,>=2.13.0->SpaCy) (3.4)\n",
      "Requirement already satisfied: urllib3<1.27,>=1.21.1 in /Users/kunalsahu/anaconda3/lib/python3.10/site-packages (from requests<3.0.0,>=2.13.0->SpaCy) (1.26.14)\n",
      "Requirement already satisfied: certifi>=2017.4.17 in /Users/kunalsahu/anaconda3/lib/python3.10/site-packages (from requests<3.0.0,>=2.13.0->SpaCy) (2022.12.7)\n",
      "Requirement already satisfied: blis<0.8.0,>=0.7.8 in /Users/kunalsahu/anaconda3/lib/python3.10/site-packages (from thinc<8.3.0,>=8.2.2->SpaCy) (0.7.11)\n",
      "Requirement already satisfied: confection<1.0.0,>=0.0.1 in /Users/kunalsahu/anaconda3/lib/python3.10/site-packages (from thinc<8.3.0,>=8.2.2->SpaCy) (0.1.4)\n",
      "Requirement already satisfied: click<9.0.0,>=7.1.1 in /Users/kunalsahu/anaconda3/lib/python3.10/site-packages (from typer<0.10.0,>=0.3.0->SpaCy) (8.0.4)\n",
      "Requirement already satisfied: cloudpathlib<0.17.0,>=0.7.0 in /Users/kunalsahu/anaconda3/lib/python3.10/site-packages (from weasel<0.4.0,>=0.1.0->SpaCy) (0.16.0)\n",
      "Requirement already satisfied: MarkupSafe>=2.0 in /Users/kunalsahu/anaconda3/lib/python3.10/site-packages (from jinja2->SpaCy) (2.1.1)\n",
      "Collecting en-core-web-sm==3.7.1\n",
      "  Using cached https://github.com/explosion/spacy-models/releases/download/en_core_web_sm-3.7.1/en_core_web_sm-3.7.1-py3-none-any.whl (12.8 MB)\n",
      "Requirement already satisfied: spacy<3.8.0,>=3.7.2 in /Users/kunalsahu/anaconda3/lib/python3.10/site-packages (from en-core-web-sm==3.7.1) (3.7.4)\n",
      "Requirement already satisfied: spacy-legacy<3.1.0,>=3.0.11 in /Users/kunalsahu/anaconda3/lib/python3.10/site-packages (from spacy<3.8.0,>=3.7.2->en-core-web-sm==3.7.1) (3.0.12)\n",
      "Requirement already satisfied: spacy-loggers<2.0.0,>=1.0.0 in /Users/kunalsahu/anaconda3/lib/python3.10/site-packages (from spacy<3.8.0,>=3.7.2->en-core-web-sm==3.7.1) (1.0.5)\n",
      "Requirement already satisfied: murmurhash<1.1.0,>=0.28.0 in /Users/kunalsahu/anaconda3/lib/python3.10/site-packages (from spacy<3.8.0,>=3.7.2->en-core-web-sm==3.7.1) (1.0.10)\n",
      "Requirement already satisfied: cymem<2.1.0,>=2.0.2 in /Users/kunalsahu/anaconda3/lib/python3.10/site-packages (from spacy<3.8.0,>=3.7.2->en-core-web-sm==3.7.1) (2.0.8)\n",
      "Requirement already satisfied: preshed<3.1.0,>=3.0.2 in /Users/kunalsahu/anaconda3/lib/python3.10/site-packages (from spacy<3.8.0,>=3.7.2->en-core-web-sm==3.7.1) (3.0.9)\n",
      "Requirement already satisfied: thinc<8.3.0,>=8.2.2 in /Users/kunalsahu/anaconda3/lib/python3.10/site-packages (from spacy<3.8.0,>=3.7.2->en-core-web-sm==3.7.1) (8.2.3)\n",
      "Requirement already satisfied: wasabi<1.2.0,>=0.9.1 in /Users/kunalsahu/anaconda3/lib/python3.10/site-packages (from spacy<3.8.0,>=3.7.2->en-core-web-sm==3.7.1) (1.1.2)\n",
      "Requirement already satisfied: srsly<3.0.0,>=2.4.3 in /Users/kunalsahu/anaconda3/lib/python3.10/site-packages (from spacy<3.8.0,>=3.7.2->en-core-web-sm==3.7.1) (2.4.8)\n",
      "Requirement already satisfied: catalogue<2.1.0,>=2.0.6 in /Users/kunalsahu/anaconda3/lib/python3.10/site-packages (from spacy<3.8.0,>=3.7.2->en-core-web-sm==3.7.1) (2.0.10)\n",
      "Requirement already satisfied: weasel<0.4.0,>=0.1.0 in /Users/kunalsahu/anaconda3/lib/python3.10/site-packages (from spacy<3.8.0,>=3.7.2->en-core-web-sm==3.7.1) (0.3.4)\n",
      "Requirement already satisfied: typer<0.10.0,>=0.3.0 in /Users/kunalsahu/anaconda3/lib/python3.10/site-packages (from spacy<3.8.0,>=3.7.2->en-core-web-sm==3.7.1) (0.9.0)\n",
      "Requirement already satisfied: smart-open<7.0.0,>=5.2.1 in /Users/kunalsahu/anaconda3/lib/python3.10/site-packages (from spacy<3.8.0,>=3.7.2->en-core-web-sm==3.7.1) (5.2.1)\n",
      "Requirement already satisfied: tqdm<5.0.0,>=4.38.0 in /Users/kunalsahu/anaconda3/lib/python3.10/site-packages (from spacy<3.8.0,>=3.7.2->en-core-web-sm==3.7.1) (4.64.1)\n",
      "Requirement already satisfied: requests<3.0.0,>=2.13.0 in /Users/kunalsahu/anaconda3/lib/python3.10/site-packages (from spacy<3.8.0,>=3.7.2->en-core-web-sm==3.7.1) (2.28.1)\n",
      "Requirement already satisfied: pydantic!=1.8,!=1.8.1,<3.0.0,>=1.7.4 in /Users/kunalsahu/anaconda3/lib/python3.10/site-packages (from spacy<3.8.0,>=3.7.2->en-core-web-sm==3.7.1) (2.6.4)\n",
      "Requirement already satisfied: jinja2 in /Users/kunalsahu/anaconda3/lib/python3.10/site-packages (from spacy<3.8.0,>=3.7.2->en-core-web-sm==3.7.1) (3.1.2)\n",
      "Requirement already satisfied: setuptools in /Users/kunalsahu/anaconda3/lib/python3.10/site-packages (from spacy<3.8.0,>=3.7.2->en-core-web-sm==3.7.1) (65.6.3)\n",
      "Requirement already satisfied: packaging>=20.0 in /Users/kunalsahu/anaconda3/lib/python3.10/site-packages (from spacy<3.8.0,>=3.7.2->en-core-web-sm==3.7.1) (22.0)\n",
      "Requirement already satisfied: langcodes<4.0.0,>=3.2.0 in /Users/kunalsahu/anaconda3/lib/python3.10/site-packages (from spacy<3.8.0,>=3.7.2->en-core-web-sm==3.7.1) (3.3.0)\n",
      "Requirement already satisfied: numpy>=1.19.0 in /Users/kunalsahu/anaconda3/lib/python3.10/site-packages (from spacy<3.8.0,>=3.7.2->en-core-web-sm==3.7.1) (1.23.5)\n",
      "Requirement already satisfied: annotated-types>=0.4.0 in /Users/kunalsahu/anaconda3/lib/python3.10/site-packages (from pydantic!=1.8,!=1.8.1,<3.0.0,>=1.7.4->spacy<3.8.0,>=3.7.2->en-core-web-sm==3.7.1) (0.6.0)\n",
      "Requirement already satisfied: pydantic-core==2.16.3 in /Users/kunalsahu/anaconda3/lib/python3.10/site-packages (from pydantic!=1.8,!=1.8.1,<3.0.0,>=1.7.4->spacy<3.8.0,>=3.7.2->en-core-web-sm==3.7.1) (2.16.3)\n",
      "Requirement already satisfied: typing-extensions>=4.6.1 in /Users/kunalsahu/anaconda3/lib/python3.10/site-packages (from pydantic!=1.8,!=1.8.1,<3.0.0,>=1.7.4->spacy<3.8.0,>=3.7.2->en-core-web-sm==3.7.1) (4.10.0)\n"
     ]
    },
    {
     "name": "stdout",
     "output_type": "stream",
     "text": [
      "Requirement already satisfied: charset-normalizer<3,>=2 in /Users/kunalsahu/anaconda3/lib/python3.10/site-packages (from requests<3.0.0,>=2.13.0->spacy<3.8.0,>=3.7.2->en-core-web-sm==3.7.1) (2.0.4)\n",
      "Requirement already satisfied: idna<4,>=2.5 in /Users/kunalsahu/anaconda3/lib/python3.10/site-packages (from requests<3.0.0,>=2.13.0->spacy<3.8.0,>=3.7.2->en-core-web-sm==3.7.1) (3.4)\n",
      "Requirement already satisfied: urllib3<1.27,>=1.21.1 in /Users/kunalsahu/anaconda3/lib/python3.10/site-packages (from requests<3.0.0,>=2.13.0->spacy<3.8.0,>=3.7.2->en-core-web-sm==3.7.1) (1.26.14)\n",
      "Requirement already satisfied: certifi>=2017.4.17 in /Users/kunalsahu/anaconda3/lib/python3.10/site-packages (from requests<3.0.0,>=2.13.0->spacy<3.8.0,>=3.7.2->en-core-web-sm==3.7.1) (2022.12.7)\n",
      "Requirement already satisfied: blis<0.8.0,>=0.7.8 in /Users/kunalsahu/anaconda3/lib/python3.10/site-packages (from thinc<8.3.0,>=8.2.2->spacy<3.8.0,>=3.7.2->en-core-web-sm==3.7.1) (0.7.11)\n",
      "Requirement already satisfied: confection<1.0.0,>=0.0.1 in /Users/kunalsahu/anaconda3/lib/python3.10/site-packages (from thinc<8.3.0,>=8.2.2->spacy<3.8.0,>=3.7.2->en-core-web-sm==3.7.1) (0.1.4)\n",
      "Requirement already satisfied: click<9.0.0,>=7.1.1 in /Users/kunalsahu/anaconda3/lib/python3.10/site-packages (from typer<0.10.0,>=0.3.0->spacy<3.8.0,>=3.7.2->en-core-web-sm==3.7.1) (8.0.4)\n",
      "Requirement already satisfied: cloudpathlib<0.17.0,>=0.7.0 in /Users/kunalsahu/anaconda3/lib/python3.10/site-packages (from weasel<0.4.0,>=0.1.0->spacy<3.8.0,>=3.7.2->en-core-web-sm==3.7.1) (0.16.0)\n",
      "Requirement already satisfied: MarkupSafe>=2.0 in /Users/kunalsahu/anaconda3/lib/python3.10/site-packages (from jinja2->spacy<3.8.0,>=3.7.2->en-core-web-sm==3.7.1) (2.1.1)\n",
      "\u001b[38;5;2m✔ Download and installation successful\u001b[0m\n",
      "You can now load the package via spacy.load('en_core_web_sm')\n"
     ]
    }
   ],
   "source": [
    "! pip install SpaCy\n",
    "!python -m spacy download en_core_web_sm"
   ]
  },
  {
   "cell_type": "code",
   "execution_count": 8,
   "metadata": {
    "execution": {
     "iopub.execute_input": "2024-04-23T09:59:06.871350Z",
     "iopub.status.busy": "2024-04-23T09:59:06.870602Z",
     "iopub.status.idle": "2024-04-23T09:59:07.944166Z",
     "shell.execute_reply": "2024-04-23T09:59:07.943358Z",
     "shell.execute_reply.started": "2024-04-23T09:59:06.871318Z"
    },
    "id": "O-Q9pqrcJrFr"
   },
   "outputs": [],
   "source": [
    "import json\n",
    "import numpy as np\n",
    "import pandas as pd\n",
    "import re, nltk, spacy, string\n",
    "import en_core_web_sm\n",
    "nlp = en_core_web_sm.load()\n",
    "import seaborn as sns\n",
    "import matplotlib.pyplot as plt\n",
    "%matplotlib inline\n",
    "\n",
    "from plotly.offline import plot\n",
    "import plotly.graph_objects as go\n",
    "import plotly.express as px\n",
    "\n",
    "from tqdm import tqdm\n",
    "\n",
    "from sklearn.feature_extraction.text import CountVectorizer, TfidfVectorizer\n",
    "from pprint import pprint"
   ]
  },
  {
   "cell_type": "code",
   "execution_count": 110,
   "metadata": {
    "execution": {
     "iopub.execute_input": "2024-04-23T09:59:07.946025Z",
     "iopub.status.busy": "2024-04-23T09:59:07.945741Z",
     "iopub.status.idle": "2024-04-23T09:59:20.551271Z",
     "shell.execute_reply": "2024-04-23T09:59:20.550086Z",
     "shell.execute_reply.started": "2024-04-23T09:59:07.946001Z"
    },
    "id": "xRVZaXmrxvw_",
    "outputId": "9c1dd9a8-33de-4872-9108-b9f1d9804c3e"
   },
   "outputs": [
    {
     "name": "stdout",
     "output_type": "stream",
     "text": [
      "Requirement already satisfied: tqdm in /opt/conda/lib/python3.10/site-packages (4.66.1)\n"
     ]
    }
   ],
   "source": [
    "!pip install tqdm"
   ]
  },
  {
   "cell_type": "code",
   "execution_count": 2,
   "metadata": {
    "id": "HBhrbAryfXr3",
    "outputId": "607d0849-8225-4c01-b585-c775e3c17298"
   },
   "outputs": [],
   "source": [
    "#from google.colab import drive\n",
    "#drive.mount('/content/drive')\n",
    "#path = \"/content/drive/MyDrive/NLP/Symantic Case Study/Automatic Ticket Classification/data/\"\n",
    "path=\"./data\""
   ]
  },
  {
   "cell_type": "markdown",
   "metadata": {
    "id": "KtRLCsNVJrFt"
   },
   "source": [
    "## Loading the data\n",
    "\n",
    "The data is in JSON format and we need to convert it to a dataframe."
   ]
  },
  {
   "cell_type": "code",
   "execution_count": 3,
   "metadata": {
    "execution": {
     "iopub.execute_input": "2024-04-23T09:59:20.560628Z",
     "iopub.status.busy": "2024-04-23T09:59:20.560341Z",
     "iopub.status.idle": "2024-04-23T09:59:24.273860Z",
     "shell.execute_reply": "2024-04-23T09:59:24.272978Z",
     "shell.execute_reply.started": "2024-04-23T09:59:20.560605Z"
    },
    "id": "puVzIf_iJrFt"
   },
   "outputs": [],
   "source": [
    "# Opening JSON file\n",
    "file_name=path+\"/complaints-2021-05-14_08_16.json\"\n",
    "f = file = open(file_name, \"r\")# Write the path to your data file and load it\n",
    "\n",
    "# returns JSON object as\n",
    "# a dictionary\n",
    "data = json.load(f)\n",
    "df=pd.json_normalize(data)"
   ]
  },
  {
   "cell_type": "code",
   "execution_count": 4,
   "metadata": {
    "execution": {
     "iopub.execute_input": "2024-04-23T09:59:24.276367Z",
     "iopub.status.busy": "2024-04-23T09:59:24.276078Z",
     "iopub.status.idle": "2024-04-23T09:59:24.282804Z",
     "shell.execute_reply": "2024-04-23T09:59:24.281906Z",
     "shell.execute_reply.started": "2024-04-23T09:59:24.276334Z"
    },
    "id": "CWQReNjrk1Jp"
   },
   "outputs": [
    {
     "data": {
      "text/plain": [
       "(78313, 22)"
      ]
     },
     "execution_count": 4,
     "metadata": {},
     "output_type": "execute_result"
    }
   ],
   "source": [
    "df.shape"
   ]
  },
  {
   "cell_type": "markdown",
   "metadata": {
    "id": "_xYpH-sAJrFu"
   },
   "source": [
    "## Data preparation"
   ]
  },
  {
   "cell_type": "code",
   "execution_count": 114,
   "metadata": {
    "execution": {
     "iopub.execute_input": "2024-04-23T09:59:24.284585Z",
     "iopub.status.busy": "2024-04-23T09:59:24.284204Z",
     "iopub.status.idle": "2024-04-23T09:59:24.312567Z",
     "shell.execute_reply": "2024-04-23T09:59:24.311549Z",
     "shell.execute_reply.started": "2024-04-23T09:59:24.284554Z"
    },
    "id": "Lf8ufHH5JrFu",
    "outputId": "7c1217e0-9ca3-4396-a7ac-7e835131e2cc"
   },
   "outputs": [
    {
     "data": {
      "text/html": [
       "<div>\n",
       "<style scoped>\n",
       "    .dataframe tbody tr th:only-of-type {\n",
       "        vertical-align: middle;\n",
       "    }\n",
       "\n",
       "    .dataframe tbody tr th {\n",
       "        vertical-align: top;\n",
       "    }\n",
       "\n",
       "    .dataframe thead th {\n",
       "        text-align: right;\n",
       "    }\n",
       "</style>\n",
       "<table border=\"1\" class=\"dataframe\">\n",
       "  <thead>\n",
       "    <tr style=\"text-align: right;\">\n",
       "      <th></th>\n",
       "      <th>_index</th>\n",
       "      <th>_type</th>\n",
       "      <th>_id</th>\n",
       "      <th>_score</th>\n",
       "      <th>_source.tags</th>\n",
       "      <th>_source.zip_code</th>\n",
       "      <th>_source.complaint_id</th>\n",
       "      <th>_source.issue</th>\n",
       "      <th>_source.date_received</th>\n",
       "      <th>_source.state</th>\n",
       "      <th>...</th>\n",
       "      <th>_source.company_response</th>\n",
       "      <th>_source.company</th>\n",
       "      <th>_source.submitted_via</th>\n",
       "      <th>_source.date_sent_to_company</th>\n",
       "      <th>_source.company_public_response</th>\n",
       "      <th>_source.sub_product</th>\n",
       "      <th>_source.timely</th>\n",
       "      <th>_source.complaint_what_happened</th>\n",
       "      <th>_source.sub_issue</th>\n",
       "      <th>_source.consumer_consent_provided</th>\n",
       "    </tr>\n",
       "  </thead>\n",
       "  <tbody>\n",
       "    <tr>\n",
       "      <th>0</th>\n",
       "      <td>complaint-public-v2</td>\n",
       "      <td>complaint</td>\n",
       "      <td>3211475</td>\n",
       "      <td>0.0</td>\n",
       "      <td>None</td>\n",
       "      <td>90301</td>\n",
       "      <td>3211475</td>\n",
       "      <td>Attempts to collect debt not owed</td>\n",
       "      <td>2019-04-13T12:00:00-05:00</td>\n",
       "      <td>CA</td>\n",
       "      <td>...</td>\n",
       "      <td>Closed with explanation</td>\n",
       "      <td>JPMORGAN CHASE &amp; CO.</td>\n",
       "      <td>Web</td>\n",
       "      <td>2019-04-13T12:00:00-05:00</td>\n",
       "      <td>None</td>\n",
       "      <td>Credit card debt</td>\n",
       "      <td>Yes</td>\n",
       "      <td></td>\n",
       "      <td>Debt is not yours</td>\n",
       "      <td>Consent not provided</td>\n",
       "    </tr>\n",
       "    <tr>\n",
       "      <th>1</th>\n",
       "      <td>complaint-public-v2</td>\n",
       "      <td>complaint</td>\n",
       "      <td>3229299</td>\n",
       "      <td>0.0</td>\n",
       "      <td>Servicemember</td>\n",
       "      <td>319XX</td>\n",
       "      <td>3229299</td>\n",
       "      <td>Written notification about debt</td>\n",
       "      <td>2019-05-01T12:00:00-05:00</td>\n",
       "      <td>GA</td>\n",
       "      <td>...</td>\n",
       "      <td>Closed with explanation</td>\n",
       "      <td>JPMORGAN CHASE &amp; CO.</td>\n",
       "      <td>Web</td>\n",
       "      <td>2019-05-01T12:00:00-05:00</td>\n",
       "      <td>None</td>\n",
       "      <td>Credit card debt</td>\n",
       "      <td>Yes</td>\n",
       "      <td>Good morning my name is XXXX XXXX and I apprec...</td>\n",
       "      <td>Didn't receive enough information to verify debt</td>\n",
       "      <td>Consent provided</td>\n",
       "    </tr>\n",
       "    <tr>\n",
       "      <th>2</th>\n",
       "      <td>complaint-public-v2</td>\n",
       "      <td>complaint</td>\n",
       "      <td>3199379</td>\n",
       "      <td>0.0</td>\n",
       "      <td>None</td>\n",
       "      <td>77069</td>\n",
       "      <td>3199379</td>\n",
       "      <td>Other features, terms, or problems</td>\n",
       "      <td>2019-04-02T12:00:00-05:00</td>\n",
       "      <td>TX</td>\n",
       "      <td>...</td>\n",
       "      <td>Closed with explanation</td>\n",
       "      <td>JPMORGAN CHASE &amp; CO.</td>\n",
       "      <td>Web</td>\n",
       "      <td>2019-04-02T12:00:00-05:00</td>\n",
       "      <td>None</td>\n",
       "      <td>General-purpose credit card or charge card</td>\n",
       "      <td>Yes</td>\n",
       "      <td>I upgraded my XXXX XXXX card in XX/XX/2018 and...</td>\n",
       "      <td>Problem with rewards from credit card</td>\n",
       "      <td>Consent provided</td>\n",
       "    </tr>\n",
       "    <tr>\n",
       "      <th>3</th>\n",
       "      <td>complaint-public-v2</td>\n",
       "      <td>complaint</td>\n",
       "      <td>2673060</td>\n",
       "      <td>0.0</td>\n",
       "      <td>None</td>\n",
       "      <td>48066</td>\n",
       "      <td>2673060</td>\n",
       "      <td>Trouble during payment process</td>\n",
       "      <td>2017-09-13T12:00:00-05:00</td>\n",
       "      <td>MI</td>\n",
       "      <td>...</td>\n",
       "      <td>Closed with explanation</td>\n",
       "      <td>JPMORGAN CHASE &amp; CO.</td>\n",
       "      <td>Web</td>\n",
       "      <td>2017-09-14T12:00:00-05:00</td>\n",
       "      <td>None</td>\n",
       "      <td>Conventional home mortgage</td>\n",
       "      <td>Yes</td>\n",
       "      <td></td>\n",
       "      <td>None</td>\n",
       "      <td>Consent not provided</td>\n",
       "    </tr>\n",
       "    <tr>\n",
       "      <th>4</th>\n",
       "      <td>complaint-public-v2</td>\n",
       "      <td>complaint</td>\n",
       "      <td>3203545</td>\n",
       "      <td>0.0</td>\n",
       "      <td>None</td>\n",
       "      <td>10473</td>\n",
       "      <td>3203545</td>\n",
       "      <td>Fees or interest</td>\n",
       "      <td>2019-04-05T12:00:00-05:00</td>\n",
       "      <td>NY</td>\n",
       "      <td>...</td>\n",
       "      <td>Closed with explanation</td>\n",
       "      <td>JPMORGAN CHASE &amp; CO.</td>\n",
       "      <td>Referral</td>\n",
       "      <td>2019-04-05T12:00:00-05:00</td>\n",
       "      <td>None</td>\n",
       "      <td>General-purpose credit card or charge card</td>\n",
       "      <td>Yes</td>\n",
       "      <td></td>\n",
       "      <td>Charged too much interest</td>\n",
       "      <td>N/A</td>\n",
       "    </tr>\n",
       "  </tbody>\n",
       "</table>\n",
       "<p>5 rows × 22 columns</p>\n",
       "</div>"
      ],
      "text/plain": [
       "                _index      _type      _id  _score   _source.tags  \\\n",
       "0  complaint-public-v2  complaint  3211475     0.0           None   \n",
       "1  complaint-public-v2  complaint  3229299     0.0  Servicemember   \n",
       "2  complaint-public-v2  complaint  3199379     0.0           None   \n",
       "3  complaint-public-v2  complaint  2673060     0.0           None   \n",
       "4  complaint-public-v2  complaint  3203545     0.0           None   \n",
       "\n",
       "  _source.zip_code _source.complaint_id                       _source.issue  \\\n",
       "0            90301              3211475   Attempts to collect debt not owed   \n",
       "1            319XX              3229299     Written notification about debt   \n",
       "2            77069              3199379  Other features, terms, or problems   \n",
       "3            48066              2673060      Trouble during payment process   \n",
       "4            10473              3203545                    Fees or interest   \n",
       "\n",
       "       _source.date_received _source.state  ... _source.company_response  \\\n",
       "0  2019-04-13T12:00:00-05:00            CA  ...  Closed with explanation   \n",
       "1  2019-05-01T12:00:00-05:00            GA  ...  Closed with explanation   \n",
       "2  2019-04-02T12:00:00-05:00            TX  ...  Closed with explanation   \n",
       "3  2017-09-13T12:00:00-05:00            MI  ...  Closed with explanation   \n",
       "4  2019-04-05T12:00:00-05:00            NY  ...  Closed with explanation   \n",
       "\n",
       "        _source.company _source.submitted_via _source.date_sent_to_company  \\\n",
       "0  JPMORGAN CHASE & CO.                   Web    2019-04-13T12:00:00-05:00   \n",
       "1  JPMORGAN CHASE & CO.                   Web    2019-05-01T12:00:00-05:00   \n",
       "2  JPMORGAN CHASE & CO.                   Web    2019-04-02T12:00:00-05:00   \n",
       "3  JPMORGAN CHASE & CO.                   Web    2017-09-14T12:00:00-05:00   \n",
       "4  JPMORGAN CHASE & CO.              Referral    2019-04-05T12:00:00-05:00   \n",
       "\n",
       "  _source.company_public_response                         _source.sub_product  \\\n",
       "0                            None                            Credit card debt   \n",
       "1                            None                            Credit card debt   \n",
       "2                            None  General-purpose credit card or charge card   \n",
       "3                            None                  Conventional home mortgage   \n",
       "4                            None  General-purpose credit card or charge card   \n",
       "\n",
       "  _source.timely                    _source.complaint_what_happened  \\\n",
       "0            Yes                                                      \n",
       "1            Yes  Good morning my name is XXXX XXXX and I apprec...   \n",
       "2            Yes  I upgraded my XXXX XXXX card in XX/XX/2018 and...   \n",
       "3            Yes                                                      \n",
       "4            Yes                                                      \n",
       "\n",
       "                                  _source.sub_issue  \\\n",
       "0                                 Debt is not yours   \n",
       "1  Didn't receive enough information to verify debt   \n",
       "2             Problem with rewards from credit card   \n",
       "3                                              None   \n",
       "4                         Charged too much interest   \n",
       "\n",
       "  _source.consumer_consent_provided  \n",
       "0              Consent not provided  \n",
       "1                  Consent provided  \n",
       "2                  Consent provided  \n",
       "3              Consent not provided  \n",
       "4                               N/A  \n",
       "\n",
       "[5 rows x 22 columns]"
      ]
     },
     "execution_count": 114,
     "metadata": {},
     "output_type": "execute_result"
    }
   ],
   "source": [
    "# Inspect the dataframe to understand the given data.\n",
    "df.head()\n"
   ]
  },
  {
   "cell_type": "code",
   "execution_count": 115,
   "metadata": {
    "execution": {
     "iopub.execute_input": "2024-04-23T09:59:24.314196Z",
     "iopub.status.busy": "2024-04-23T09:59:24.313899Z",
     "iopub.status.idle": "2024-04-23T09:59:24.337572Z",
     "shell.execute_reply": "2024-04-23T09:59:24.336559Z",
     "shell.execute_reply.started": "2024-04-23T09:59:24.314173Z"
    },
    "id": "YdYR7Ql3k8H_",
    "outputId": "497eae41-104d-4824-a410-995953771fea"
   },
   "outputs": [
    {
     "data": {
      "text/html": [
       "<div>\n",
       "<style scoped>\n",
       "    .dataframe tbody tr th:only-of-type {\n",
       "        vertical-align: middle;\n",
       "    }\n",
       "\n",
       "    .dataframe tbody tr th {\n",
       "        vertical-align: top;\n",
       "    }\n",
       "\n",
       "    .dataframe thead th {\n",
       "        text-align: right;\n",
       "    }\n",
       "</style>\n",
       "<table border=\"1\" class=\"dataframe\">\n",
       "  <thead>\n",
       "    <tr style=\"text-align: right;\">\n",
       "      <th></th>\n",
       "      <th>_index</th>\n",
       "      <th>_type</th>\n",
       "      <th>_id</th>\n",
       "      <th>_score</th>\n",
       "      <th>_source.tags</th>\n",
       "      <th>_source.zip_code</th>\n",
       "      <th>_source.complaint_id</th>\n",
       "      <th>_source.issue</th>\n",
       "      <th>_source.date_received</th>\n",
       "      <th>_source.state</th>\n",
       "      <th>...</th>\n",
       "      <th>_source.company_response</th>\n",
       "      <th>_source.company</th>\n",
       "      <th>_source.submitted_via</th>\n",
       "      <th>_source.date_sent_to_company</th>\n",
       "      <th>_source.company_public_response</th>\n",
       "      <th>_source.sub_product</th>\n",
       "      <th>_source.timely</th>\n",
       "      <th>_source.complaint_what_happened</th>\n",
       "      <th>_source.sub_issue</th>\n",
       "      <th>_source.consumer_consent_provided</th>\n",
       "    </tr>\n",
       "  </thead>\n",
       "  <tbody>\n",
       "    <tr>\n",
       "      <th>78308</th>\n",
       "      <td>complaint-public-v2</td>\n",
       "      <td>complaint</td>\n",
       "      <td>3105617</td>\n",
       "      <td>0.0</td>\n",
       "      <td>None</td>\n",
       "      <td>08857</td>\n",
       "      <td>3105617</td>\n",
       "      <td>Closing an account</td>\n",
       "      <td>2018-12-20T12:00:00-05:00</td>\n",
       "      <td>NJ</td>\n",
       "      <td>...</td>\n",
       "      <td>Closed with explanation</td>\n",
       "      <td>JPMORGAN CHASE &amp; CO.</td>\n",
       "      <td>Web</td>\n",
       "      <td>2018-12-21T12:00:00-05:00</td>\n",
       "      <td>None</td>\n",
       "      <td>Checking account</td>\n",
       "      <td>Yes</td>\n",
       "      <td></td>\n",
       "      <td>Funds not received from closed account</td>\n",
       "      <td>Consent not provided</td>\n",
       "    </tr>\n",
       "    <tr>\n",
       "      <th>78309</th>\n",
       "      <td>complaint-public-v2</td>\n",
       "      <td>complaint</td>\n",
       "      <td>3091984</td>\n",
       "      <td>0.0</td>\n",
       "      <td>None</td>\n",
       "      <td>934XX</td>\n",
       "      <td>3091984</td>\n",
       "      <td>Other features, terms, or problems</td>\n",
       "      <td>2018-12-05T12:00:00-05:00</td>\n",
       "      <td>CA</td>\n",
       "      <td>...</td>\n",
       "      <td>Closed with monetary relief</td>\n",
       "      <td>JPMORGAN CHASE &amp; CO.</td>\n",
       "      <td>Web</td>\n",
       "      <td>2018-12-05T12:00:00-05:00</td>\n",
       "      <td>None</td>\n",
       "      <td>General-purpose credit card or charge card</td>\n",
       "      <td>Yes</td>\n",
       "      <td>On Wednesday, XX/XX/XXXX I called Chas, my XXX...</td>\n",
       "      <td>Other problem</td>\n",
       "      <td>Consent provided</td>\n",
       "    </tr>\n",
       "    <tr>\n",
       "      <th>78310</th>\n",
       "      <td>complaint-public-v2</td>\n",
       "      <td>complaint</td>\n",
       "      <td>3133355</td>\n",
       "      <td>0.0</td>\n",
       "      <td>None</td>\n",
       "      <td>923XX</td>\n",
       "      <td>3133355</td>\n",
       "      <td>Problem with a lender or other company chargin...</td>\n",
       "      <td>2019-01-25T12:00:00-05:00</td>\n",
       "      <td>CA</td>\n",
       "      <td>...</td>\n",
       "      <td>Closed with explanation</td>\n",
       "      <td>JPMORGAN CHASE &amp; CO.</td>\n",
       "      <td>Web</td>\n",
       "      <td>2019-01-25T12:00:00-05:00</td>\n",
       "      <td>None</td>\n",
       "      <td>Checking account</td>\n",
       "      <td>Yes</td>\n",
       "      <td>I am not familiar with XXXX pay and did not un...</td>\n",
       "      <td>Transaction was not authorized</td>\n",
       "      <td>Consent provided</td>\n",
       "    </tr>\n",
       "    <tr>\n",
       "      <th>78311</th>\n",
       "      <td>complaint-public-v2</td>\n",
       "      <td>complaint</td>\n",
       "      <td>3110963</td>\n",
       "      <td>0.0</td>\n",
       "      <td>None</td>\n",
       "      <td>None</td>\n",
       "      <td>3110963</td>\n",
       "      <td>Other features, terms, or problems</td>\n",
       "      <td>2018-12-27T12:00:00-05:00</td>\n",
       "      <td>PA</td>\n",
       "      <td>...</td>\n",
       "      <td>Closed with monetary relief</td>\n",
       "      <td>JPMORGAN CHASE &amp; CO.</td>\n",
       "      <td>Web</td>\n",
       "      <td>2018-12-27T12:00:00-05:00</td>\n",
       "      <td>None</td>\n",
       "      <td>General-purpose credit card or charge card</td>\n",
       "      <td>Yes</td>\n",
       "      <td>I have had flawless credit for 30 yrs. I've ha...</td>\n",
       "      <td>Problem with balance transfer</td>\n",
       "      <td>Consent provided</td>\n",
       "    </tr>\n",
       "    <tr>\n",
       "      <th>78312</th>\n",
       "      <td>complaint-public-v2</td>\n",
       "      <td>complaint</td>\n",
       "      <td>2001189</td>\n",
       "      <td>0.0</td>\n",
       "      <td>None</td>\n",
       "      <td>None</td>\n",
       "      <td>2001189</td>\n",
       "      <td>Payment to acct not credited</td>\n",
       "      <td>2016-07-06T12:00:00-05:00</td>\n",
       "      <td>MI</td>\n",
       "      <td>...</td>\n",
       "      <td>Closed with explanation</td>\n",
       "      <td>JPMORGAN CHASE &amp; CO.</td>\n",
       "      <td>Web</td>\n",
       "      <td>2016-07-07T12:00:00-05:00</td>\n",
       "      <td>None</td>\n",
       "      <td>None</td>\n",
       "      <td>Yes</td>\n",
       "      <td>Roughly 10+ years ago I closed out my accounts...</td>\n",
       "      <td>None</td>\n",
       "      <td>Consent provided</td>\n",
       "    </tr>\n",
       "  </tbody>\n",
       "</table>\n",
       "<p>5 rows × 22 columns</p>\n",
       "</div>"
      ],
      "text/plain": [
       "                    _index      _type      _id  _score _source.tags  \\\n",
       "78308  complaint-public-v2  complaint  3105617     0.0         None   \n",
       "78309  complaint-public-v2  complaint  3091984     0.0         None   \n",
       "78310  complaint-public-v2  complaint  3133355     0.0         None   \n",
       "78311  complaint-public-v2  complaint  3110963     0.0         None   \n",
       "78312  complaint-public-v2  complaint  2001189     0.0         None   \n",
       "\n",
       "      _source.zip_code _source.complaint_id  \\\n",
       "78308            08857              3105617   \n",
       "78309            934XX              3091984   \n",
       "78310            923XX              3133355   \n",
       "78311             None              3110963   \n",
       "78312             None              2001189   \n",
       "\n",
       "                                           _source.issue  \\\n",
       "78308                                 Closing an account   \n",
       "78309                 Other features, terms, or problems   \n",
       "78310  Problem with a lender or other company chargin...   \n",
       "78311                 Other features, terms, or problems   \n",
       "78312                       Payment to acct not credited   \n",
       "\n",
       "           _source.date_received _source.state  ...  \\\n",
       "78308  2018-12-20T12:00:00-05:00            NJ  ...   \n",
       "78309  2018-12-05T12:00:00-05:00            CA  ...   \n",
       "78310  2019-01-25T12:00:00-05:00            CA  ...   \n",
       "78311  2018-12-27T12:00:00-05:00            PA  ...   \n",
       "78312  2016-07-06T12:00:00-05:00            MI  ...   \n",
       "\n",
       "          _source.company_response       _source.company  \\\n",
       "78308      Closed with explanation  JPMORGAN CHASE & CO.   \n",
       "78309  Closed with monetary relief  JPMORGAN CHASE & CO.   \n",
       "78310      Closed with explanation  JPMORGAN CHASE & CO.   \n",
       "78311  Closed with monetary relief  JPMORGAN CHASE & CO.   \n",
       "78312      Closed with explanation  JPMORGAN CHASE & CO.   \n",
       "\n",
       "      _source.submitted_via _source.date_sent_to_company  \\\n",
       "78308                   Web    2018-12-21T12:00:00-05:00   \n",
       "78309                   Web    2018-12-05T12:00:00-05:00   \n",
       "78310                   Web    2019-01-25T12:00:00-05:00   \n",
       "78311                   Web    2018-12-27T12:00:00-05:00   \n",
       "78312                   Web    2016-07-07T12:00:00-05:00   \n",
       "\n",
       "      _source.company_public_response  \\\n",
       "78308                            None   \n",
       "78309                            None   \n",
       "78310                            None   \n",
       "78311                            None   \n",
       "78312                            None   \n",
       "\n",
       "                              _source.sub_product _source.timely  \\\n",
       "78308                            Checking account            Yes   \n",
       "78309  General-purpose credit card or charge card            Yes   \n",
       "78310                            Checking account            Yes   \n",
       "78311  General-purpose credit card or charge card            Yes   \n",
       "78312                                        None            Yes   \n",
       "\n",
       "                         _source.complaint_what_happened  \\\n",
       "78308                                                      \n",
       "78309  On Wednesday, XX/XX/XXXX I called Chas, my XXX...   \n",
       "78310  I am not familiar with XXXX pay and did not un...   \n",
       "78311  I have had flawless credit for 30 yrs. I've ha...   \n",
       "78312  Roughly 10+ years ago I closed out my accounts...   \n",
       "\n",
       "                            _source.sub_issue  \\\n",
       "78308  Funds not received from closed account   \n",
       "78309                           Other problem   \n",
       "78310          Transaction was not authorized   \n",
       "78311           Problem with balance transfer   \n",
       "78312                                    None   \n",
       "\n",
       "      _source.consumer_consent_provided  \n",
       "78308              Consent not provided  \n",
       "78309                  Consent provided  \n",
       "78310                  Consent provided  \n",
       "78311                  Consent provided  \n",
       "78312                  Consent provided  \n",
       "\n",
       "[5 rows x 22 columns]"
      ]
     },
     "execution_count": 115,
     "metadata": {},
     "output_type": "execute_result"
    }
   ],
   "source": [
    "df.tail()"
   ]
  },
  {
   "cell_type": "code",
   "execution_count": 116,
   "metadata": {
    "execution": {
     "iopub.execute_input": "2024-04-23T09:59:24.339205Z",
     "iopub.status.busy": "2024-04-23T09:59:24.338816Z",
     "iopub.status.idle": "2024-04-23T09:59:24.349053Z",
     "shell.execute_reply": "2024-04-23T09:59:24.348245Z",
     "shell.execute_reply.started": "2024-04-23T09:59:24.339177Z"
    },
    "id": "5noA69q_mVyf",
    "outputId": "2f6b105e-c2b7-47f6-cc06-e2bfce8fdf02"
   },
   "outputs": [
    {
     "data": {
      "text/plain": [
       "(78313, 22)"
      ]
     },
     "execution_count": 116,
     "metadata": {},
     "output_type": "execute_result"
    }
   ],
   "source": [
    "df.shape"
   ]
  },
  {
   "cell_type": "code",
   "execution_count": 117,
   "metadata": {
    "execution": {
     "iopub.execute_input": "2024-04-23T09:59:24.350426Z",
     "iopub.status.busy": "2024-04-23T09:59:24.350137Z",
     "iopub.status.idle": "2024-04-23T09:59:24.555562Z",
     "shell.execute_reply": "2024-04-23T09:59:24.554554Z",
     "shell.execute_reply.started": "2024-04-23T09:59:24.350402Z"
    },
    "id": "dpAcEMCSmaBT",
    "outputId": "bc2b60d0-72b1-4afc-b644-6796a62acf1a"
   },
   "outputs": [
    {
     "name": "stdout",
     "output_type": "stream",
     "text": [
      "<class 'pandas.core.frame.DataFrame'>\n",
      "RangeIndex: 78313 entries, 0 to 78312\n",
      "Data columns (total 22 columns):\n",
      " #   Column                             Non-Null Count  Dtype  \n",
      "---  ------                             --------------  -----  \n",
      " 0   _index                             78313 non-null  object \n",
      " 1   _type                              78313 non-null  object \n",
      " 2   _id                                78313 non-null  object \n",
      " 3   _score                             78313 non-null  float64\n",
      " 4   _source.tags                       10900 non-null  object \n",
      " 5   _source.zip_code                   71556 non-null  object \n",
      " 6   _source.complaint_id               78313 non-null  object \n",
      " 7   _source.issue                      78313 non-null  object \n",
      " 8   _source.date_received              78313 non-null  object \n",
      " 9   _source.state                      76322 non-null  object \n",
      " 10  _source.consumer_disputed          78313 non-null  object \n",
      " 11  _source.product                    78313 non-null  object \n",
      " 12  _source.company_response           78313 non-null  object \n",
      " 13  _source.company                    78313 non-null  object \n",
      " 14  _source.submitted_via              78313 non-null  object \n",
      " 15  _source.date_sent_to_company       78313 non-null  object \n",
      " 16  _source.company_public_response    4 non-null      object \n",
      " 17  _source.sub_product                67742 non-null  object \n",
      " 18  _source.timely                     78313 non-null  object \n",
      " 19  _source.complaint_what_happened    78313 non-null  object \n",
      " 20  _source.sub_issue                  32016 non-null  object \n",
      " 21  _source.consumer_consent_provided  77305 non-null  object \n",
      "dtypes: float64(1), object(21)\n",
      "memory usage: 13.1+ MB\n"
     ]
    }
   ],
   "source": [
    "df.info()"
   ]
  },
  {
   "cell_type": "code",
   "execution_count": 118,
   "metadata": {
    "execution": {
     "iopub.execute_input": "2024-04-23T09:59:24.560219Z",
     "iopub.status.busy": "2024-04-23T09:59:24.559948Z",
     "iopub.status.idle": "2024-04-23T09:59:24.753148Z",
     "shell.execute_reply": "2024-04-23T09:59:24.752150Z",
     "shell.execute_reply.started": "2024-04-23T09:59:24.560196Z"
    },
    "id": "1yAntcdOmvRO",
    "outputId": "1c9bfa1f-4c3d-4afe-8874-629d38e2b524"
   },
   "outputs": [
    {
     "data": {
      "text/plain": [
       "_source.company_public_response      0.999949\n",
       "_source.tags                         0.860815\n",
       "_source.sub_issue                    0.591179\n",
       "_source.sub_product                  0.134984\n",
       "_source.zip_code                     0.086282\n",
       "_source.state                        0.025424\n",
       "_source.consumer_consent_provided    0.012871\n",
       "_score                               0.000000\n",
       "_index                               0.000000\n",
       "_type                                0.000000\n",
       "_id                                  0.000000\n",
       "_source.complaint_id                 0.000000\n",
       "_source.issue                        0.000000\n",
       "_source.date_received                0.000000\n",
       "_source.company                      0.000000\n",
       "_source.company_response             0.000000\n",
       "_source.product                      0.000000\n",
       "_source.consumer_disputed            0.000000\n",
       "_source.submitted_via                0.000000\n",
       "_source.date_sent_to_company         0.000000\n",
       "_source.complaint_what_happened      0.000000\n",
       "_source.timely                       0.000000\n",
       "dtype: float64"
      ]
     },
     "execution_count": 118,
     "metadata": {},
     "output_type": "execute_result"
    }
   ],
   "source": [
    "# lets check the missing value in descedning order\n",
    "(df.isna().sum() / df.shape[0]).sort_values(ascending=False)\n"
   ]
  },
  {
   "cell_type": "code",
   "execution_count": 119,
   "metadata": {
    "execution": {
     "iopub.execute_input": "2024-04-23T09:59:24.754710Z",
     "iopub.status.busy": "2024-04-23T09:59:24.754408Z",
     "iopub.status.idle": "2024-04-23T09:59:24.759222Z",
     "shell.execute_reply": "2024-04-23T09:59:24.758284Z",
     "shell.execute_reply.started": "2024-04-23T09:59:24.754687Z"
    },
    "id": "6dNki-bqHsGz"
   },
   "outputs": [],
   "source": [
    "# we can see that some columns have null values"
   ]
  },
  {
   "cell_type": "code",
   "execution_count": 120,
   "metadata": {
    "execution": {
     "iopub.execute_input": "2024-04-23T09:59:24.760623Z",
     "iopub.status.busy": "2024-04-23T09:59:24.760345Z",
     "iopub.status.idle": "2024-04-23T09:59:24.771166Z",
     "shell.execute_reply": "2024-04-23T09:59:24.770271Z",
     "shell.execute_reply.started": "2024-04-23T09:59:24.760600Z"
    },
    "id": "Dwcty-wmJrFw",
    "outputId": "6367f4ff-d147-45c9-811c-e3d17ab6b7ba"
   },
   "outputs": [
    {
     "name": "stdout",
     "output_type": "stream",
     "text": [
      "Index(['_index', '_type', '_id', '_score', '_source.tags', '_source.zip_code',\n",
      "       '_source.complaint_id', '_source.issue', '_source.date_received',\n",
      "       '_source.state', '_source.consumer_disputed', '_source.product',\n",
      "       '_source.company_response', '_source.company', '_source.submitted_via',\n",
      "       '_source.date_sent_to_company', '_source.company_public_response',\n",
      "       '_source.sub_product', '_source.timely',\n",
      "       '_source.complaint_what_happened', '_source.sub_issue',\n",
      "       '_source.consumer_consent_provided'],\n",
      "      dtype='object')\n"
     ]
    }
   ],
   "source": [
    "#print the column names\n",
    "print(df.columns)"
   ]
  },
  {
   "cell_type": "code",
   "execution_count": 121,
   "metadata": {
    "execution": {
     "iopub.execute_input": "2024-04-23T09:59:24.772904Z",
     "iopub.status.busy": "2024-04-23T09:59:24.772457Z",
     "iopub.status.idle": "2024-04-23T09:59:24.781965Z",
     "shell.execute_reply": "2024-04-23T09:59:24.781178Z",
     "shell.execute_reply.started": "2024-04-23T09:59:24.772871Z"
    },
    "id": "FYCtKXD1JrFw"
   },
   "outputs": [],
   "source": [
    "#Assign new column names\n",
    "def rename_col(col):\n",
    "    if col.startswith('_source'):\n",
    "        col = col[len('_source.'):]\n",
    "    elif col.startswith('_'):\n",
    "        col = col[1:]\n",
    "    return col"
   ]
  },
  {
   "cell_type": "code",
   "execution_count": 122,
   "metadata": {
    "execution": {
     "iopub.execute_input": "2024-04-23T09:59:24.783402Z",
     "iopub.status.busy": "2024-04-23T09:59:24.783075Z",
     "iopub.status.idle": "2024-04-23T09:59:24.793856Z",
     "shell.execute_reply": "2024-04-23T09:59:24.793048Z",
     "shell.execute_reply.started": "2024-04-23T09:59:24.783376Z"
    },
    "id": "yU0lMTltn4L7"
   },
   "outputs": [],
   "source": [
    "df.rename(lambda x: rename_col(x), axis=1, inplace=True)"
   ]
  },
  {
   "cell_type": "code",
   "execution_count": 123,
   "metadata": {
    "execution": {
     "iopub.execute_input": "2024-04-23T09:59:24.795232Z",
     "iopub.status.busy": "2024-04-23T09:59:24.794952Z",
     "iopub.status.idle": "2024-04-23T09:59:24.806389Z",
     "shell.execute_reply": "2024-04-23T09:59:24.805540Z",
     "shell.execute_reply.started": "2024-04-23T09:59:24.795209Z"
    },
    "id": "0LfTRHxioBHL",
    "outputId": "8952890b-dec6-4d5f-fe1b-d250eb024c4b"
   },
   "outputs": [
    {
     "data": {
      "text/plain": [
       "Index(['index', 'type', 'id', 'score', 'tags', 'zip_code', 'complaint_id',\n",
       "       'issue', 'date_received', 'state', 'consumer_disputed', 'product',\n",
       "       'company_response', 'company', 'submitted_via', 'date_sent_to_company',\n",
       "       'company_public_response', 'sub_product', 'timely',\n",
       "       'complaint_what_happened', 'sub_issue', 'consumer_consent_provided'],\n",
       "      dtype='object')"
      ]
     },
     "execution_count": 123,
     "metadata": {},
     "output_type": "execute_result"
    }
   ],
   "source": [
    "df.columns"
   ]
  },
  {
   "cell_type": "code",
   "execution_count": 124,
   "metadata": {
    "execution": {
     "iopub.execute_input": "2024-04-23T09:59:24.807690Z",
     "iopub.status.busy": "2024-04-23T09:59:24.807418Z",
     "iopub.status.idle": "2024-04-23T09:59:24.832312Z",
     "shell.execute_reply": "2024-04-23T09:59:24.831543Z",
     "shell.execute_reply.started": "2024-04-23T09:59:24.807667Z"
    },
    "id": "grQUPFL5JrFx"
   },
   "outputs": [],
   "source": [
    "#Assign nan in place of blanks in the complaints column\n",
    "df['complaint_what_happened'].replace('', np.nan, inplace=True)\n"
   ]
  },
  {
   "cell_type": "code",
   "execution_count": 125,
   "metadata": {
    "execution": {
     "iopub.execute_input": "2024-04-23T09:59:24.833545Z",
     "iopub.status.busy": "2024-04-23T09:59:24.833253Z",
     "iopub.status.idle": "2024-04-23T09:59:24.839727Z",
     "shell.execute_reply": "2024-04-23T09:59:24.838873Z",
     "shell.execute_reply.started": "2024-04-23T09:59:24.833511Z"
    },
    "id": "iUbyRDyjH2-n",
    "outputId": "23e4667b-109c-4b44-c7ab-122bea05a57a"
   },
   "outputs": [
    {
     "data": {
      "text/plain": [
       "'Good morning my name is XXXX XXXX and I appreciate it if you could help me put a stop to Chase Bank cardmember services. \\nIn 2018 I wrote to Chase asking for debt verification and what they sent me a statement which is not acceptable. I am asking the bank to validate the debt. Instead I been receiving mail every month from them attempting to collect a debt. \\nI have a right to know this information as a consumer. \\n\\nChase account # XXXX XXXX XXXX XXXX Thanks in advance for your help.'"
      ]
     },
     "execution_count": 125,
     "metadata": {},
     "output_type": "execute_result"
    }
   ],
   "source": [
    "df['complaint_what_happened'][1]"
   ]
  },
  {
   "cell_type": "code",
   "execution_count": 126,
   "metadata": {
    "execution": {
     "iopub.execute_input": "2024-04-23T09:59:24.841130Z",
     "iopub.status.busy": "2024-04-23T09:59:24.840867Z",
     "iopub.status.idle": "2024-04-23T09:59:24.854426Z",
     "shell.execute_reply": "2024-04-23T09:59:24.853550Z",
     "shell.execute_reply.started": "2024-04-23T09:59:24.841109Z"
    },
    "id": "Jfxd8VSmJrFy",
    "outputId": "9f772c66-ae44-4bf2-f442-ace38a130f2f"
   },
   "outputs": [
    {
     "data": {
      "text/plain": [
       "57241"
      ]
     },
     "execution_count": 126,
     "metadata": {},
     "output_type": "execute_result"
    }
   ],
   "source": [
    "#Remove all rows where complaints column is nan\n",
    "\n",
    "df['complaint_what_happened'].isnull().sum()"
   ]
  },
  {
   "cell_type": "code",
   "execution_count": 127,
   "metadata": {
    "execution": {
     "iopub.execute_input": "2024-04-23T09:59:24.855892Z",
     "iopub.status.busy": "2024-04-23T09:59:24.855620Z",
     "iopub.status.idle": "2024-04-23T09:59:24.886573Z",
     "shell.execute_reply": "2024-04-23T09:59:24.885477Z",
     "shell.execute_reply.started": "2024-04-23T09:59:24.855863Z"
    },
    "id": "_S0cUbohIG2e"
   },
   "outputs": [],
   "source": [
    "#Remove all rows where complaint_what_happened column is nan\n",
    "df.dropna(subset=['complaint_what_happened'],inplace=True)"
   ]
  },
  {
   "cell_type": "code",
   "execution_count": 128,
   "metadata": {
    "execution": {
     "iopub.execute_input": "2024-04-23T09:59:24.888182Z",
     "iopub.status.busy": "2024-04-23T09:59:24.887858Z",
     "iopub.status.idle": "2024-04-23T09:59:24.897924Z",
     "shell.execute_reply": "2024-04-23T09:59:24.896904Z",
     "shell.execute_reply.started": "2024-04-23T09:59:24.888140Z"
    },
    "id": "cAU5abcgIRnj",
    "outputId": "7e57c40d-63f1-482a-ff3c-e4e6376e603b"
   },
   "outputs": [
    {
     "data": {
      "text/plain": [
       "0"
      ]
     },
     "execution_count": 128,
     "metadata": {},
     "output_type": "execute_result"
    }
   ],
   "source": [
    "df['complaint_what_happened'].isna().sum()"
   ]
  },
  {
   "cell_type": "code",
   "execution_count": 129,
   "metadata": {
    "execution": {
     "iopub.execute_input": "2024-04-23T09:59:24.899550Z",
     "iopub.status.busy": "2024-04-23T09:59:24.899180Z",
     "iopub.status.idle": "2024-04-23T09:59:24.909331Z",
     "shell.execute_reply": "2024-04-23T09:59:24.908528Z",
     "shell.execute_reply.started": "2024-04-23T09:59:24.899524Z"
    },
    "id": "2oG_z5hlKqtc",
    "outputId": "51acf601-5cbc-47b0-8bc1-0ea3751209d4"
   },
   "outputs": [
    {
     "data": {
      "text/plain": [
       "(21072, 22)"
      ]
     },
     "execution_count": 129,
     "metadata": {},
     "output_type": "execute_result"
    }
   ],
   "source": [
    "df.shape"
   ]
  },
  {
   "cell_type": "markdown",
   "metadata": {
    "id": "L944HZpsJrFy"
   },
   "source": [
    "## Prepare the text for topic modeling\n",
    "\n",
    "Once you have removed all the blank complaints, you need to:\n",
    "\n",
    "* Make the text lowercase\n",
    "* Remove text in square brackets\n",
    "* Remove punctuation\n",
    "* Remove words containing numbers\n",
    "\n",
    "\n",
    "Once you have done these cleaning operations you need to perform the following:\n",
    "* Lemmatize the texts\n",
    "* Extract the POS tags of the lemmatized text and remove all the words which have tags other than NN[tag == \"NN\"].\n"
   ]
  },
  {
   "cell_type": "code",
   "execution_count": 130,
   "metadata": {
    "execution": {
     "iopub.execute_input": "2024-04-23T09:59:24.910647Z",
     "iopub.status.busy": "2024-04-23T09:59:24.910381Z",
     "iopub.status.idle": "2024-04-23T09:59:24.919917Z",
     "shell.execute_reply": "2024-04-23T09:59:24.919052Z",
     "shell.execute_reply.started": "2024-04-23T09:59:24.910624Z"
    },
    "id": "qm7SjjSkJrFz"
   },
   "outputs": [],
   "source": [
    "# Write your function here to clean the text and remove all the unnecessary elements.\n",
    "def clean_text(text):\n",
    "  text=text.lower()  #convert to lower case\n",
    "  text=re.sub(r'\\[.*?\\]',' ',text) #Remove text in square brackets\n",
    "  text=re.sub(r'[^\\w\\s]',' ',text) #Remove punctuation\n",
    "  text=re.sub(r'\\n', '', text) # Remove line breaks\n",
    "  text=re.sub(r'\\b\\w*\\d\\w*\\b',' ',text) #Remove words with numbers\n",
    "  text = re.sub(r' +', ' ',text) #Remove unnecessary white spaces\n",
    "\n",
    "  return text"
   ]
  },
  {
   "cell_type": "code",
   "execution_count": 131,
   "metadata": {
    "execution": {
     "iopub.execute_input": "2024-04-23T09:59:24.921161Z",
     "iopub.status.busy": "2024-04-23T09:59:24.920890Z",
     "iopub.status.idle": "2024-04-23T09:59:24.935360Z",
     "shell.execute_reply": "2024-04-23T09:59:24.934456Z",
     "shell.execute_reply.started": "2024-04-23T09:59:24.921139Z"
    },
    "id": "QqD0KzjRPET2",
    "outputId": "f9790440-a931-4fcc-f7f8-f456f8e19e18"
   },
   "outputs": [
    {
     "data": {
      "text/plain": [
       "'i purchase is an airline ticket on xx xx xxxx and it was xxxx dollar but the i it was the wrong airport so i called right away to cancel the ticket and since it was before hours so i could cancel it and get a refund which is what supposed to post in my account in days and on xx xx xxxx i got the money back so i purchase another airline ticket with the same money that i got back but it was xxxx dollar and the money was taking out of my available balance on xx xx xxxx but it was saying pending on the statement but it was out of my available balance already on xx xx xxxx the xxxx dollar was taking again out of my account but showing in my account as it was only one charge and i am not even able to see the first airline ticket or the refund on my statement because they said it was dropped charge like it was never happened but it did happened thats not the first time this happened it did happened before but i usually get the money back after the weekend on monday but this time no it did got back i tried calling them and they explaining but they only say one thing i dont see it on the statement so why i cant see my purchase for the first airline ticket that it was refunded this is my money and i am supposed to see all the charges i made and the refund on my account i am missing xxxx dollar from my account which is got disappeared from my bank account and i need to get this money back i dont know what to do'"
      ]
     },
     "execution_count": 131,
     "metadata": {},
     "output_type": "execute_result"
    }
   ],
   "source": [
    "df['complaint_what_happened'][101]\n",
    "text=\"I Purchase is an airline ticket on XX/XX/XXXX and it was XXXX dollar but the I [realize] it was the wrong airport so I called right away to cancel the ticket and since it was before 24 hours so I could cancel it and get a refund which is what supposed to post in my account in 5 days and on XX/XX/XXXX I got the money back so I purchase another airline ticket with the same money that I got back but it was XXXX dollar and the money was taking out of my available balance on XX/XX/XXXX but it was saying pending on the statement but it was out of my available balance already on XX/XX/XXXX the XXXX dollar Was taking again out of my account but showing in my account as it was only one charge .. and I am not even able to see the first airline ticket or the refund on my statement because they said it was dropped charge like it was never happened but it did happened..thats not the first time this happened it did happened before but I usually get the money back after the weekend on Monday but this time no it did got back .. I tried calling them and they explaining but they only say one thing.. I dont see it on the statement.. so why I cant see my purchase for the first airline ticket that it was refunded.. this is my money and I am supposed to see all the charges I made and the refund on my account.. I am missing XXXX dollar from my account which is got Disappeared from my bank account and I need to get this money back I dont know what to do\"\n",
    "clean_text(text)"
   ]
  },
  {
   "cell_type": "code",
   "execution_count": 132,
   "metadata": {
    "execution": {
     "iopub.execute_input": "2024-04-23T09:59:24.936772Z",
     "iopub.status.busy": "2024-04-23T09:59:24.936473Z",
     "iopub.status.idle": "2024-04-23T09:59:24.948458Z",
     "shell.execute_reply": "2024-04-23T09:59:24.947652Z",
     "shell.execute_reply.started": "2024-04-23T09:59:24.936748Z"
    }
   },
   "outputs": [
    {
     "data": {
      "text/plain": [
       "(21072, 22)"
      ]
     },
     "execution_count": 132,
     "metadata": {},
     "output_type": "execute_result"
    }
   ],
   "source": [
    "df.shape"
   ]
  },
  {
   "cell_type": "code",
   "execution_count": 133,
   "metadata": {
    "execution": {
     "iopub.execute_input": "2024-04-23T09:59:24.949964Z",
     "iopub.status.busy": "2024-04-23T09:59:24.949628Z",
     "iopub.status.idle": "2024-04-23T09:59:26.015937Z",
     "shell.execute_reply": "2024-04-23T09:59:26.014936Z",
     "shell.execute_reply.started": "2024-04-23T09:59:24.949936Z"
    },
    "id": "zgOu8t8HJrFz",
    "outputId": "eba14ba4-6304-481f-f60a-4878f3167643"
   },
   "outputs": [],
   "source": [
    "#Write your function to Lemmatize the texts\n",
    "import spacy\n",
    "stop_words = spacy.lang.en.stop_words.STOP_WORDS\n",
    "# Load the English language model\n",
    "nlp = spacy.load(\"en_core_web_sm\")\n",
    "\n",
    "def lemmatize_text(text):\n",
    "    # Process the text using spaCy\n",
    "    doc = nlp(text)\n",
    "    # Lemmatize each token and remove stop words\n",
    "    lemmatized_text = \" \".join([token.lemma_ for token in doc if not token.is_stop])\n",
    "\n",
    "    return lemmatized_text"
   ]
  },
  {
   "cell_type": "code",
   "execution_count": 134,
   "metadata": {
    "execution": {
     "iopub.execute_input": "2024-04-23T09:59:26.017539Z",
     "iopub.status.busy": "2024-04-23T09:59:26.017167Z",
     "iopub.status.idle": "2024-04-23T09:59:26.096768Z",
     "shell.execute_reply": "2024-04-23T09:59:26.095741Z",
     "shell.execute_reply.started": "2024-04-23T09:59:26.017488Z"
    },
    "id": "_1_uFjl5UdrR",
    "outputId": "b2fd983c-05df-4772-e73f-92ce1b32953f"
   },
   "outputs": [
    {
     "data": {
      "text/plain": [
       "'purchase airline ticket xx xx xxxx xxxx dollar realize wrong airport call right away cancel ticket hour cancel refund suppose post account day xx xx xxxx get money purchase airline ticket money get xxxx dollar money take available balance xx xx xxxx say pende statement available balance xx xx xxxx xxxx dollar take account show account charge able airline ticket refund statement say drop charge like happen happen s time happen happen usually money weekend monday time get try call explain thing not statement not purchase airline ticket refund money suppose charge refund account miss xxxx dollar account got disappear bank account need money not know'"
      ]
     },
     "execution_count": 134,
     "metadata": {},
     "output_type": "execute_result"
    }
   ],
   "source": [
    "lemmatize_text(clean_text(df['complaint_what_happened'][101]))"
   ]
  },
  {
   "cell_type": "code",
   "execution_count": 135,
   "metadata": {
    "execution": {
     "iopub.execute_input": "2024-04-23T09:59:26.098270Z",
     "iopub.status.busy": "2024-04-23T09:59:26.097973Z",
     "iopub.status.idle": "2024-04-23T09:59:26.102657Z",
     "shell.execute_reply": "2024-04-23T09:59:26.101746Z",
     "shell.execute_reply.started": "2024-04-23T09:59:26.098237Z"
    },
    "id": "uXnN7aa_JrF0"
   },
   "outputs": [],
   "source": [
    "#Create a dataframe('df_clean') that will have only the complaints and the lemmatized complaints\n"
   ]
  },
  {
   "cell_type": "code",
   "execution_count": 136,
   "metadata": {
    "execution": {
     "iopub.execute_input": "2024-04-23T09:59:26.112811Z",
     "iopub.status.busy": "2024-04-23T09:59:26.112444Z",
     "iopub.status.idle": "2024-04-23T09:59:32.707674Z",
     "shell.execute_reply": "2024-04-23T09:59:32.706658Z",
     "shell.execute_reply.started": "2024-04-23T09:59:26.112785Z"
    },
    "id": "nOiDVvEIJrF0",
    "outputId": "6e71ec30-ba60-41b2-c1b8-e503d05b73dc"
   },
   "outputs": [
    {
     "name": "stderr",
     "output_type": "stream",
     "text": [
      "100%|██████████| 21072/21072 [00:06<00:00, 3202.28it/s]\n"
     ]
    }
   ],
   "source": [
    "# Apply data cleaning to the complaints_what_happened column\n",
    "from tqdm import tqdm\n",
    "# Use progress_apply from tqdm on the Series\n",
    "tqdm.pandas()\n",
    "df_clean = pd.DataFrame()\n",
    "df_clean['complaints'] = df['complaint_what_happened'].progress_apply(lambda x: clean_text(x))\n"
   ]
  },
  {
   "cell_type": "code",
   "execution_count": 137,
   "metadata": {
    "execution": {
     "iopub.execute_input": "2024-04-23T09:59:32.709464Z",
     "iopub.status.busy": "2024-04-23T09:59:32.709046Z",
     "iopub.status.idle": "2024-04-23T09:59:32.716557Z",
     "shell.execute_reply": "2024-04-23T09:59:32.715626Z",
     "shell.execute_reply.started": "2024-04-23T09:59:32.709425Z"
    },
    "id": "XSEeIXoqxNQR"
   },
   "outputs": [
    {
     "data": {
      "text/plain": [
       "(21072, 1)"
      ]
     },
     "execution_count": 137,
     "metadata": {},
     "output_type": "execute_result"
    }
   ],
   "source": [
    "df_clean.shape"
   ]
  },
  {
   "cell_type": "code",
   "execution_count": 204,
   "metadata": {
    "execution": {
     "iopub.execute_input": "2024-04-23T11:05:28.226003Z",
     "iopub.status.busy": "2024-04-23T11:05:28.225099Z",
     "iopub.status.idle": "2024-04-23T11:19:10.747675Z",
     "shell.execute_reply": "2024-04-23T11:19:10.746679Z",
     "shell.execute_reply.started": "2024-04-23T11:05:28.225970Z"
    },
    "id": "Fe5wnkvraGcI",
    "outputId": "a39e2b32-7e0a-4bff-d31c-bf5c56cdf30a"
   },
   "outputs": [
    {
     "name": "stderr",
     "output_type": "stream",
     "text": [
      "100%|██████████| 21072/21072 [13:42<00:00, 25.62it/s]\n"
     ]
    }
   ],
   "source": [
    "tqdm.pandas()\n",
    "df_clean['lemmatized'] = df_clean['complaints'].progress_apply(lambda x:lemmatize_text(x))"
   ]
  },
  {
   "cell_type": "code",
   "execution_count": 205,
   "metadata": {
    "execution": {
     "iopub.execute_input": "2024-04-23T11:20:22.867758Z",
     "iopub.status.busy": "2024-04-23T11:20:22.866958Z",
     "iopub.status.idle": "2024-04-23T11:20:22.874448Z",
     "shell.execute_reply": "2024-04-23T11:20:22.873351Z",
     "shell.execute_reply.started": "2024-04-23T11:20:22.867721Z"
    }
   },
   "outputs": [
    {
     "data": {
      "text/plain": [
       "(21072, 5)"
      ]
     },
     "execution_count": 205,
     "metadata": {},
     "output_type": "execute_result"
    }
   ],
   "source": [
    "df_clean.shape"
   ]
  },
  {
   "cell_type": "code",
   "execution_count": 206,
   "metadata": {
    "execution": {
     "iopub.execute_input": "2024-04-23T11:20:25.000595Z",
     "iopub.status.busy": "2024-04-23T11:20:25.000205Z",
     "iopub.status.idle": "2024-04-23T11:20:25.013617Z",
     "shell.execute_reply": "2024-04-23T11:20:25.012553Z",
     "shell.execute_reply.started": "2024-04-23T11:20:25.000566Z"
    },
    "id": "OFLwykhn5n_9",
    "outputId": "72209753-b69a-488d-d974-8ab9fa9fcb00"
   },
   "outputs": [
    {
     "data": {
      "text/html": [
       "<div>\n",
       "<style scoped>\n",
       "    .dataframe tbody tr th:only-of-type {\n",
       "        vertical-align: middle;\n",
       "    }\n",
       "\n",
       "    .dataframe tbody tr th {\n",
       "        vertical-align: top;\n",
       "    }\n",
       "\n",
       "    .dataframe thead th {\n",
       "        text-align: right;\n",
       "    }\n",
       "</style>\n",
       "<table border=\"1\" class=\"dataframe\">\n",
       "  <thead>\n",
       "    <tr style=\"text-align: right;\">\n",
       "      <th></th>\n",
       "      <th>complaints</th>\n",
       "      <th>lemmatized</th>\n",
       "      <th>complaint_POS_removed</th>\n",
       "      <th>Complaint_clean</th>\n",
       "      <th>Topic</th>\n",
       "    </tr>\n",
       "  </thead>\n",
       "  <tbody>\n",
       "    <tr>\n",
       "      <th>1</th>\n",
       "      <td>good morning my name is xxxx xxxx and i apprec...</td>\n",
       "      <td>good morning xxxx xxxx appreciate help stop ch...</td>\n",
       "      <td>morning help bank service write chase debt ver...</td>\n",
       "      <td>morning help bank service write chase debt ver...</td>\n",
       "      <td>Bank Account services</td>\n",
       "    </tr>\n",
       "    <tr>\n",
       "      <th>2</th>\n",
       "      <td>i upgraded my xxxx xxxx card in xx xx and was ...</td>\n",
       "      <td>upgrade xxxx xxxx card xx xx tell agent upgrad...</td>\n",
       "      <td>card agent upgrade anniversary date change age...</td>\n",
       "      <td>card agent upgrade anniversary date change age...</td>\n",
       "      <td>Theft/Dispute Reporting</td>\n",
       "    </tr>\n",
       "    <tr>\n",
       "      <th>10</th>\n",
       "      <td>chase card was reported on xx xx however fraud...</td>\n",
       "      <td>chase card report xx xx fraudulent application...</td>\n",
       "      <td>chase card report application submit identity ...</td>\n",
       "      <td>chase card report application submit identity ...</td>\n",
       "      <td>Credit card / Prepaid card</td>\n",
       "    </tr>\n",
       "    <tr>\n",
       "      <th>11</th>\n",
       "      <td>on xx xx while trying to book a xxxx xxxx tick...</td>\n",
       "      <td>xx xx try book xxxx xxxx ticket come offer app...</td>\n",
       "      <td>book offer ticket reward card information minu...</td>\n",
       "      <td>book offer ticket reward card information minu...</td>\n",
       "      <td>Credit card / Prepaid card</td>\n",
       "    </tr>\n",
       "    <tr>\n",
       "      <th>14</th>\n",
       "      <td>my grand son give me check for i deposit it in...</td>\n",
       "      <td>grand son check deposit chase account fund cle...</td>\n",
       "      <td>son deposit chase account fund bank account pa...</td>\n",
       "      <td>son deposit chase account fund bank account pa...</td>\n",
       "      <td>Bank Account services</td>\n",
       "    </tr>\n",
       "  </tbody>\n",
       "</table>\n",
       "</div>"
      ],
      "text/plain": [
       "                                           complaints  \\\n",
       "1   good morning my name is xxxx xxxx and i apprec...   \n",
       "2   i upgraded my xxxx xxxx card in xx xx and was ...   \n",
       "10  chase card was reported on xx xx however fraud...   \n",
       "11  on xx xx while trying to book a xxxx xxxx tick...   \n",
       "14  my grand son give me check for i deposit it in...   \n",
       "\n",
       "                                           lemmatized  \\\n",
       "1   good morning xxxx xxxx appreciate help stop ch...   \n",
       "2   upgrade xxxx xxxx card xx xx tell agent upgrad...   \n",
       "10  chase card report xx xx fraudulent application...   \n",
       "11  xx xx try book xxxx xxxx ticket come offer app...   \n",
       "14  grand son check deposit chase account fund cle...   \n",
       "\n",
       "                                complaint_POS_removed  \\\n",
       "1   morning help bank service write chase debt ver...   \n",
       "2   card agent upgrade anniversary date change age...   \n",
       "10  chase card report application submit identity ...   \n",
       "11  book offer ticket reward card information minu...   \n",
       "14  son deposit chase account fund bank account pa...   \n",
       "\n",
       "                                      Complaint_clean  \\\n",
       "1   morning help bank service write chase debt ver...   \n",
       "2   card agent upgrade anniversary date change age...   \n",
       "10  chase card report application submit identity ...   \n",
       "11  book offer ticket reward card information minu...   \n",
       "14  son deposit chase account fund bank account pa...   \n",
       "\n",
       "                         Topic  \n",
       "1        Bank Account services  \n",
       "2      Theft/Dispute Reporting  \n",
       "10  Credit card / Prepaid card  \n",
       "11  Credit card / Prepaid card  \n",
       "14       Bank Account services  "
      ]
     },
     "execution_count": 206,
     "metadata": {},
     "output_type": "execute_result"
    }
   ],
   "source": [
    "df_clean.head()"
   ]
  },
  {
   "cell_type": "code",
   "execution_count": 207,
   "metadata": {
    "execution": {
     "iopub.execute_input": "2024-04-23T11:20:28.248270Z",
     "iopub.status.busy": "2024-04-23T11:20:28.247929Z",
     "iopub.status.idle": "2024-04-23T11:20:28.254248Z",
     "shell.execute_reply": "2024-04-23T11:20:28.253281Z",
     "shell.execute_reply.started": "2024-04-23T11:20:28.248245Z"
    }
   },
   "outputs": [
    {
     "data": {
      "text/plain": [
       "(21072, 5)"
      ]
     },
     "execution_count": 207,
     "metadata": {},
     "output_type": "execute_result"
    }
   ],
   "source": [
    "df_clean.shape"
   ]
  },
  {
   "cell_type": "code",
   "execution_count": 208,
   "metadata": {
    "execution": {
     "iopub.execute_input": "2024-04-23T11:20:31.306490Z",
     "iopub.status.busy": "2024-04-23T11:20:31.305615Z",
     "iopub.status.idle": "2024-04-23T11:20:43.876468Z",
     "shell.execute_reply": "2024-04-23T11:20:43.875238Z",
     "shell.execute_reply.started": "2024-04-23T11:20:31.306446Z"
    },
    "id": "JBWvGkIuysuH",
    "outputId": "f72de5d2-f094-465b-9a79-fbe11e695e44"
   },
   "outputs": [
    {
     "name": "stdout",
     "output_type": "stream",
     "text": [
      "Requirement already satisfied: swifter in /opt/conda/lib/python3.10/site-packages (1.4.0)\n",
      "Requirement already satisfied: pandas>=1.0.0 in /opt/conda/lib/python3.10/site-packages (from swifter) (2.1.4)\n",
      "Requirement already satisfied: psutil>=5.6.6 in /opt/conda/lib/python3.10/site-packages (from swifter) (5.9.3)\n",
      "Requirement already satisfied: dask>=2.10.0 in /opt/conda/lib/python3.10/site-packages (from dask[dataframe]>=2.10.0->swifter) (2024.4.1)\n",
      "Requirement already satisfied: tqdm>=4.33.0 in /opt/conda/lib/python3.10/site-packages (from swifter) (4.66.1)\n",
      "Requirement already satisfied: click>=8.1 in /opt/conda/lib/python3.10/site-packages (from dask>=2.10.0->dask[dataframe]>=2.10.0->swifter) (8.1.7)\n",
      "Requirement already satisfied: cloudpickle>=1.5.0 in /opt/conda/lib/python3.10/site-packages (from dask>=2.10.0->dask[dataframe]>=2.10.0->swifter) (2.2.1)\n",
      "Requirement already satisfied: fsspec>=2021.09.0 in /opt/conda/lib/python3.10/site-packages (from dask>=2.10.0->dask[dataframe]>=2.10.0->swifter) (2024.2.0)\n",
      "Requirement already satisfied: packaging>=20.0 in /opt/conda/lib/python3.10/site-packages (from dask>=2.10.0->dask[dataframe]>=2.10.0->swifter) (21.3)\n",
      "Requirement already satisfied: partd>=1.2.0 in /opt/conda/lib/python3.10/site-packages (from dask>=2.10.0->dask[dataframe]>=2.10.0->swifter) (1.4.1)\n",
      "Requirement already satisfied: pyyaml>=5.3.1 in /opt/conda/lib/python3.10/site-packages (from dask>=2.10.0->dask[dataframe]>=2.10.0->swifter) (6.0.1)\n",
      "Requirement already satisfied: toolz>=0.10.0 in /opt/conda/lib/python3.10/site-packages (from dask>=2.10.0->dask[dataframe]>=2.10.0->swifter) (0.12.1)\n",
      "Requirement already satisfied: importlib-metadata>=4.13.0 in /opt/conda/lib/python3.10/site-packages (from dask>=2.10.0->dask[dataframe]>=2.10.0->swifter) (6.11.0)\n",
      "Requirement already satisfied: dask-expr<1.1,>=1.0 in /opt/conda/lib/python3.10/site-packages (from dask[dataframe]>=2.10.0->swifter) (1.0.11)\n",
      "Requirement already satisfied: numpy<2,>=1.22.4 in /opt/conda/lib/python3.10/site-packages (from pandas>=1.0.0->swifter) (1.26.4)\n",
      "Requirement already satisfied: python-dateutil>=2.8.2 in /opt/conda/lib/python3.10/site-packages (from pandas>=1.0.0->swifter) (2.9.0.post0)\n",
      "Requirement already satisfied: pytz>=2020.1 in /opt/conda/lib/python3.10/site-packages (from pandas>=1.0.0->swifter) (2023.3.post1)\n",
      "Requirement already satisfied: tzdata>=2022.1 in /opt/conda/lib/python3.10/site-packages (from pandas>=1.0.0->swifter) (2023.4)\n",
      "Requirement already satisfied: pyarrow>=7.0.0 in /opt/conda/lib/python3.10/site-packages (from dask-expr<1.1,>=1.0->dask[dataframe]>=2.10.0->swifter) (15.0.2)\n",
      "Requirement already satisfied: zipp>=0.5 in /opt/conda/lib/python3.10/site-packages (from importlib-metadata>=4.13.0->dask>=2.10.0->dask[dataframe]>=2.10.0->swifter) (3.17.0)\n",
      "Requirement already satisfied: pyparsing!=3.0.5,>=2.0.2 in /opt/conda/lib/python3.10/site-packages (from packaging>=20.0->dask>=2.10.0->dask[dataframe]>=2.10.0->swifter) (3.1.1)\n",
      "Requirement already satisfied: locket in /opt/conda/lib/python3.10/site-packages (from partd>=1.2.0->dask>=2.10.0->dask[dataframe]>=2.10.0->swifter) (1.0.0)\n",
      "Requirement already satisfied: six>=1.5 in /opt/conda/lib/python3.10/site-packages (from python-dateutil>=2.8.2->pandas>=1.0.0->swifter) (1.16.0)\n"
     ]
    }
   ],
   "source": [
    "!pip install swifter"
   ]
  },
  {
   "cell_type": "code",
   "execution_count": 211,
   "metadata": {
    "execution": {
     "iopub.execute_input": "2024-04-23T11:36:38.145211Z",
     "iopub.status.busy": "2024-04-23T11:36:38.144400Z",
     "iopub.status.idle": "2024-04-23T11:44:28.222724Z",
     "shell.execute_reply": "2024-04-23T11:44:28.221637Z",
     "shell.execute_reply.started": "2024-04-23T11:36:38.145176Z"
    },
    "id": "Kk7fc4DuJrF1",
    "outputId": "54093ff9-c935-4f50-a5a0-ee15882f9377"
   },
   "outputs": [
    {
     "data": {
      "application/vnd.jupyter.widget-view+json": {
       "model_id": "0fbcded0e8184920882a9b2e753324a4",
       "version_major": 2,
       "version_minor": 0
      },
      "text/plain": [
       "Pandas Apply:   0%|          | 0/21072 [00:00<?, ?it/s]"
      ]
     },
     "metadata": {},
     "output_type": "display_data"
    }
   ],
   "source": [
    "#Write your function to extract the POS tags\n",
    "import swifter\n",
    "\n",
    "def pos_tag(text):\n",
    "  nn_words = []\n",
    "  doc = nlp(text)\n",
    "  for tok in doc:\n",
    "      if(tok.tag_ == 'NN'):\n",
    "          nn_words.append(tok.lemma_)\n",
    "  nn_words_str = \" \".join(nn_words)\n",
    "  return nn_words_str\n",
    "\n",
    "\n",
    "df_clean['complaint_POS_removed'] = df_clean['lemmatized'].swifter.apply(pos_tag) # used swifter to enhance the performance\n",
    " #this column should contain lemmatized text with all the words removed which have tags other than NN[tag == \"NN\"].\n"
   ]
  },
  {
   "cell_type": "code",
   "execution_count": 212,
   "metadata": {
    "execution": {
     "iopub.execute_input": "2024-04-23T11:44:28.224730Z",
     "iopub.status.busy": "2024-04-23T11:44:28.224352Z",
     "iopub.status.idle": "2024-04-23T11:44:28.231445Z",
     "shell.execute_reply": "2024-04-23T11:44:28.230438Z",
     "shell.execute_reply.started": "2024-04-23T11:44:28.224696Z"
    }
   },
   "outputs": [
    {
     "data": {
      "text/plain": [
       "(21072, 5)"
      ]
     },
     "execution_count": 212,
     "metadata": {},
     "output_type": "execute_result"
    }
   ],
   "source": [
    "df_clean.shape"
   ]
  },
  {
   "cell_type": "code",
   "execution_count": 213,
   "metadata": {
    "execution": {
     "iopub.execute_input": "2024-04-23T11:57:46.702156Z",
     "iopub.status.busy": "2024-04-23T11:57:46.701710Z",
     "iopub.status.idle": "2024-04-23T11:57:46.711917Z",
     "shell.execute_reply": "2024-04-23T11:57:46.710848Z",
     "shell.execute_reply.started": "2024-04-23T11:57:46.702122Z"
    },
    "id": "kXmZYJEgrAaz",
    "outputId": "9d6c0a8f-487c-48b9-8c35-9354e0aa8bc6"
   },
   "outputs": [
    {
     "data": {
      "text/plain": [
       "1        morning help bank service write chase debt ver...\n",
       "2        card agent upgrade anniversary date change age...\n",
       "10       chase card report application submit identity ...\n",
       "11       book offer ticket reward card information minu...\n",
       "14       son deposit chase account fund bank account pa...\n",
       "                               ...                        \n",
       "78303    chase card customer decade solicitation credit...\n",
       "78309    credit card provider ask claim purchase protec...\n",
       "78310    xxxx risk consumer year trust mobile banking t...\n",
       "78311    credit yrs credit card chase freedom problem t...\n",
       "78312    year account order line credit account payment...\n",
       "Name: complaint_POS_removed, Length: 21072, dtype: object"
      ]
     },
     "execution_count": 213,
     "metadata": {},
     "output_type": "execute_result"
    }
   ],
   "source": [
    "df_clean['complaint_POS_removed']"
   ]
  },
  {
   "cell_type": "code",
   "execution_count": 214,
   "metadata": {
    "execution": {
     "iopub.execute_input": "2024-04-23T11:57:50.439990Z",
     "iopub.status.busy": "2024-04-23T11:57:50.439615Z",
     "iopub.status.idle": "2024-04-23T11:57:50.445946Z",
     "shell.execute_reply": "2024-04-23T11:57:50.444974Z",
     "shell.execute_reply.started": "2024-04-23T11:57:50.439961Z"
    },
    "id": "ObTzQaVDrk2k",
    "outputId": "2633c4f9-20a8-45b3-9a1c-e11a6231b73f"
   },
   "outputs": [
    {
     "data": {
      "text/plain": [
       "(21072, 5)"
      ]
     },
     "execution_count": 214,
     "metadata": {},
     "output_type": "execute_result"
    }
   ],
   "source": [
    "df_clean.shape"
   ]
  },
  {
   "cell_type": "code",
   "execution_count": 215,
   "metadata": {
    "execution": {
     "iopub.execute_input": "2024-04-23T11:57:54.557171Z",
     "iopub.status.busy": "2024-04-23T11:57:54.556522Z",
     "iopub.status.idle": "2024-04-23T11:57:54.569197Z",
     "shell.execute_reply": "2024-04-23T11:57:54.568190Z",
     "shell.execute_reply.started": "2024-04-23T11:57:54.557136Z"
    },
    "id": "EsL-EAuqJ9bj",
    "outputId": "3a3192fe-b3e2-49ae-b242-58e223aa3f08"
   },
   "outputs": [
    {
     "data": {
      "text/html": [
       "<div>\n",
       "<style scoped>\n",
       "    .dataframe tbody tr th:only-of-type {\n",
       "        vertical-align: middle;\n",
       "    }\n",
       "\n",
       "    .dataframe tbody tr th {\n",
       "        vertical-align: top;\n",
       "    }\n",
       "\n",
       "    .dataframe thead th {\n",
       "        text-align: right;\n",
       "    }\n",
       "</style>\n",
       "<table border=\"1\" class=\"dataframe\">\n",
       "  <thead>\n",
       "    <tr style=\"text-align: right;\">\n",
       "      <th></th>\n",
       "      <th>complaints</th>\n",
       "      <th>lemmatized</th>\n",
       "      <th>complaint_POS_removed</th>\n",
       "      <th>Complaint_clean</th>\n",
       "      <th>Topic</th>\n",
       "    </tr>\n",
       "  </thead>\n",
       "  <tbody>\n",
       "    <tr>\n",
       "      <th>1</th>\n",
       "      <td>good morning my name is xxxx xxxx and i apprec...</td>\n",
       "      <td>good morning xxxx xxxx appreciate help stop ch...</td>\n",
       "      <td>morning help bank service write chase debt ver...</td>\n",
       "      <td>morning help bank service write chase debt ver...</td>\n",
       "      <td>Bank Account services</td>\n",
       "    </tr>\n",
       "    <tr>\n",
       "      <th>2</th>\n",
       "      <td>i upgraded my xxxx xxxx card in xx xx and was ...</td>\n",
       "      <td>upgrade xxxx xxxx card xx xx tell agent upgrad...</td>\n",
       "      <td>card agent upgrade anniversary date change age...</td>\n",
       "      <td>card agent upgrade anniversary date change age...</td>\n",
       "      <td>Theft/Dispute Reporting</td>\n",
       "    </tr>\n",
       "    <tr>\n",
       "      <th>10</th>\n",
       "      <td>chase card was reported on xx xx however fraud...</td>\n",
       "      <td>chase card report xx xx fraudulent application...</td>\n",
       "      <td>chase card report application submit identity ...</td>\n",
       "      <td>chase card report application submit identity ...</td>\n",
       "      <td>Credit card / Prepaid card</td>\n",
       "    </tr>\n",
       "    <tr>\n",
       "      <th>11</th>\n",
       "      <td>on xx xx while trying to book a xxxx xxxx tick...</td>\n",
       "      <td>xx xx try book xxxx xxxx ticket come offer app...</td>\n",
       "      <td>book offer ticket reward card information minu...</td>\n",
       "      <td>book offer ticket reward card information minu...</td>\n",
       "      <td>Credit card / Prepaid card</td>\n",
       "    </tr>\n",
       "    <tr>\n",
       "      <th>14</th>\n",
       "      <td>my grand son give me check for i deposit it in...</td>\n",
       "      <td>grand son check deposit chase account fund cle...</td>\n",
       "      <td>son deposit chase account fund bank account pa...</td>\n",
       "      <td>son deposit chase account fund bank account pa...</td>\n",
       "      <td>Bank Account services</td>\n",
       "    </tr>\n",
       "  </tbody>\n",
       "</table>\n",
       "</div>"
      ],
      "text/plain": [
       "                                           complaints  \\\n",
       "1   good morning my name is xxxx xxxx and i apprec...   \n",
       "2   i upgraded my xxxx xxxx card in xx xx and was ...   \n",
       "10  chase card was reported on xx xx however fraud...   \n",
       "11  on xx xx while trying to book a xxxx xxxx tick...   \n",
       "14  my grand son give me check for i deposit it in...   \n",
       "\n",
       "                                           lemmatized  \\\n",
       "1   good morning xxxx xxxx appreciate help stop ch...   \n",
       "2   upgrade xxxx xxxx card xx xx tell agent upgrad...   \n",
       "10  chase card report xx xx fraudulent application...   \n",
       "11  xx xx try book xxxx xxxx ticket come offer app...   \n",
       "14  grand son check deposit chase account fund cle...   \n",
       "\n",
       "                                complaint_POS_removed  \\\n",
       "1   morning help bank service write chase debt ver...   \n",
       "2   card agent upgrade anniversary date change age...   \n",
       "10  chase card report application submit identity ...   \n",
       "11  book offer ticket reward card information minu...   \n",
       "14  son deposit chase account fund bank account pa...   \n",
       "\n",
       "                                      Complaint_clean  \\\n",
       "1   morning help bank service write chase debt ver...   \n",
       "2   card agent upgrade anniversary date change age...   \n",
       "10  chase card report application submit identity ...   \n",
       "11  book offer ticket reward card information minu...   \n",
       "14  son deposit chase account fund bank account pa...   \n",
       "\n",
       "                         Topic  \n",
       "1        Bank Account services  \n",
       "2      Theft/Dispute Reporting  \n",
       "10  Credit card / Prepaid card  \n",
       "11  Credit card / Prepaid card  \n",
       "14       Bank Account services  "
      ]
     },
     "execution_count": 215,
     "metadata": {},
     "output_type": "execute_result"
    }
   ],
   "source": [
    "df_clean.head()"
   ]
  },
  {
   "cell_type": "code",
   "execution_count": null,
   "metadata": {
    "id": "AjxfchvFJrF2",
    "outputId": "9799effc-1998-46b5-d0ac-1aa3ac603c11"
   },
   "outputs": [],
   "source": [
    "#The clean dataframe should now contain the raw complaint, lemmatized complaint and the complaint after removing POS tags.\n"
   ]
  },
  {
   "cell_type": "code",
   "execution_count": 216,
   "metadata": {
    "execution": {
     "iopub.execute_input": "2024-04-23T11:58:05.310576Z",
     "iopub.status.busy": "2024-04-23T11:58:05.309756Z",
     "iopub.status.idle": "2024-04-23T11:58:05.341675Z",
     "shell.execute_reply": "2024-04-23T11:58:05.340668Z",
     "shell.execute_reply.started": "2024-04-23T11:58:05.310542Z"
    },
    "id": "nFDLsrI2pKjW",
    "outputId": "f4da6f3f-93a5-49d5-dddd-5534246534f3"
   },
   "outputs": [
    {
     "data": {
      "text/html": [
       "<div>\n",
       "<style scoped>\n",
       "    .dataframe tbody tr th:only-of-type {\n",
       "        vertical-align: middle;\n",
       "    }\n",
       "\n",
       "    .dataframe tbody tr th {\n",
       "        vertical-align: top;\n",
       "    }\n",
       "\n",
       "    .dataframe thead th {\n",
       "        text-align: right;\n",
       "    }\n",
       "</style>\n",
       "<table border=\"1\" class=\"dataframe\">\n",
       "  <thead>\n",
       "    <tr style=\"text-align: right;\">\n",
       "      <th></th>\n",
       "      <th>complaints</th>\n",
       "      <th>lemmatized</th>\n",
       "      <th>complaint_POS_removed</th>\n",
       "      <th>Complaint_clean</th>\n",
       "      <th>Topic</th>\n",
       "    </tr>\n",
       "  </thead>\n",
       "  <tbody>\n",
       "    <tr>\n",
       "      <th>1</th>\n",
       "      <td>good morning my name is xxxx xxxx and i apprec...</td>\n",
       "      <td>good morning xxxx xxxx appreciate help stop ch...</td>\n",
       "      <td>morning help bank service write chase debt ver...</td>\n",
       "      <td>morning help bank service write chase debt ver...</td>\n",
       "      <td>Bank Account services</td>\n",
       "    </tr>\n",
       "    <tr>\n",
       "      <th>2</th>\n",
       "      <td>i upgraded my xxxx xxxx card in xx xx and was ...</td>\n",
       "      <td>upgrade xxxx xxxx card xx xx tell agent upgrad...</td>\n",
       "      <td>card agent upgrade anniversary date change age...</td>\n",
       "      <td>card agent upgrade anniversary date change age...</td>\n",
       "      <td>Theft/Dispute Reporting</td>\n",
       "    </tr>\n",
       "    <tr>\n",
       "      <th>10</th>\n",
       "      <td>chase card was reported on xx xx however fraud...</td>\n",
       "      <td>chase card report xx xx fraudulent application...</td>\n",
       "      <td>chase card report application submit identity ...</td>\n",
       "      <td>chase card report application submit identity ...</td>\n",
       "      <td>Credit card / Prepaid card</td>\n",
       "    </tr>\n",
       "    <tr>\n",
       "      <th>11</th>\n",
       "      <td>on xx xx while trying to book a xxxx xxxx tick...</td>\n",
       "      <td>xx xx try book xxxx xxxx ticket come offer app...</td>\n",
       "      <td>book offer ticket reward card information minu...</td>\n",
       "      <td>book offer ticket reward card information minu...</td>\n",
       "      <td>Credit card / Prepaid card</td>\n",
       "    </tr>\n",
       "    <tr>\n",
       "      <th>14</th>\n",
       "      <td>my grand son give me check for i deposit it in...</td>\n",
       "      <td>grand son check deposit chase account fund cle...</td>\n",
       "      <td>son deposit chase account fund bank account pa...</td>\n",
       "      <td>son deposit chase account fund bank account pa...</td>\n",
       "      <td>Bank Account services</td>\n",
       "    </tr>\n",
       "    <tr>\n",
       "      <th>...</th>\n",
       "      <td>...</td>\n",
       "      <td>...</td>\n",
       "      <td>...</td>\n",
       "      <td>...</td>\n",
       "      <td>...</td>\n",
       "    </tr>\n",
       "    <tr>\n",
       "      <th>78303</th>\n",
       "      <td>after being a chase card customer for well ove...</td>\n",
       "      <td>chase card customer decade offer multiple soli...</td>\n",
       "      <td>chase card customer decade solicitation credit...</td>\n",
       "      <td>chase card customer decade solicitation credit...</td>\n",
       "      <td>Credit card / Prepaid card</td>\n",
       "    </tr>\n",
       "    <tr>\n",
       "      <th>78309</th>\n",
       "      <td>on wednesday xx xx xxxx i called chas my xxxx ...</td>\n",
       "      <td>wednesday xx xx xxxx call chas xxxx xxxx visa ...</td>\n",
       "      <td>credit card provider ask claim purchase protec...</td>\n",
       "      <td>credit card provider ask claim purchase protec...</td>\n",
       "      <td>Theft/Dispute Reporting</td>\n",
       "    </tr>\n",
       "    <tr>\n",
       "      <th>78310</th>\n",
       "      <td>i am not familiar with xxxx pay and did not un...</td>\n",
       "      <td>familiar xxxx pay understand great risk provid...</td>\n",
       "      <td>xxxx risk consumer year trust mobile banking t...</td>\n",
       "      <td>risk consumer year trust mobile banking tell ...</td>\n",
       "      <td>Theft/Dispute Reporting</td>\n",
       "    </tr>\n",
       "    <tr>\n",
       "      <th>78311</th>\n",
       "      <td>i have had flawless credit for yrs i ve had ch...</td>\n",
       "      <td>flawless credit yrs ve chase credit card chase...</td>\n",
       "      <td>credit yrs credit card chase freedom problem t...</td>\n",
       "      <td>credit yrs credit card chase freedom problem t...</td>\n",
       "      <td>Mortgage/Loan</td>\n",
       "    </tr>\n",
       "    <tr>\n",
       "      <th>78312</th>\n",
       "      <td>roughly years ago i closed out my accounts wit...</td>\n",
       "      <td>roughly year ago close account jp morgan chase...</td>\n",
       "      <td>year account order line credit account payment...</td>\n",
       "      <td>year account order line credit account payment...</td>\n",
       "      <td>Mortgage/Loan</td>\n",
       "    </tr>\n",
       "  </tbody>\n",
       "</table>\n",
       "<p>21072 rows × 5 columns</p>\n",
       "</div>"
      ],
      "text/plain": [
       "                                              complaints  \\\n",
       "1      good morning my name is xxxx xxxx and i apprec...   \n",
       "2      i upgraded my xxxx xxxx card in xx xx and was ...   \n",
       "10     chase card was reported on xx xx however fraud...   \n",
       "11     on xx xx while trying to book a xxxx xxxx tick...   \n",
       "14     my grand son give me check for i deposit it in...   \n",
       "...                                                  ...   \n",
       "78303  after being a chase card customer for well ove...   \n",
       "78309  on wednesday xx xx xxxx i called chas my xxxx ...   \n",
       "78310  i am not familiar with xxxx pay and did not un...   \n",
       "78311  i have had flawless credit for yrs i ve had ch...   \n",
       "78312  roughly years ago i closed out my accounts wit...   \n",
       "\n",
       "                                              lemmatized  \\\n",
       "1      good morning xxxx xxxx appreciate help stop ch...   \n",
       "2      upgrade xxxx xxxx card xx xx tell agent upgrad...   \n",
       "10     chase card report xx xx fraudulent application...   \n",
       "11     xx xx try book xxxx xxxx ticket come offer app...   \n",
       "14     grand son check deposit chase account fund cle...   \n",
       "...                                                  ...   \n",
       "78303  chase card customer decade offer multiple soli...   \n",
       "78309  wednesday xx xx xxxx call chas xxxx xxxx visa ...   \n",
       "78310  familiar xxxx pay understand great risk provid...   \n",
       "78311  flawless credit yrs ve chase credit card chase...   \n",
       "78312  roughly year ago close account jp morgan chase...   \n",
       "\n",
       "                                   complaint_POS_removed  \\\n",
       "1      morning help bank service write chase debt ver...   \n",
       "2      card agent upgrade anniversary date change age...   \n",
       "10     chase card report application submit identity ...   \n",
       "11     book offer ticket reward card information minu...   \n",
       "14     son deposit chase account fund bank account pa...   \n",
       "...                                                  ...   \n",
       "78303  chase card customer decade solicitation credit...   \n",
       "78309  credit card provider ask claim purchase protec...   \n",
       "78310  xxxx risk consumer year trust mobile banking t...   \n",
       "78311  credit yrs credit card chase freedom problem t...   \n",
       "78312  year account order line credit account payment...   \n",
       "\n",
       "                                         Complaint_clean  \\\n",
       "1      morning help bank service write chase debt ver...   \n",
       "2      card agent upgrade anniversary date change age...   \n",
       "10     chase card report application submit identity ...   \n",
       "11     book offer ticket reward card information minu...   \n",
       "14     son deposit chase account fund bank account pa...   \n",
       "...                                                  ...   \n",
       "78303  chase card customer decade solicitation credit...   \n",
       "78309  credit card provider ask claim purchase protec...   \n",
       "78310   risk consumer year trust mobile banking tell ...   \n",
       "78311  credit yrs credit card chase freedom problem t...   \n",
       "78312  year account order line credit account payment...   \n",
       "\n",
       "                            Topic  \n",
       "1           Bank Account services  \n",
       "2         Theft/Dispute Reporting  \n",
       "10     Credit card / Prepaid card  \n",
       "11     Credit card / Prepaid card  \n",
       "14          Bank Account services  \n",
       "...                           ...  \n",
       "78303  Credit card / Prepaid card  \n",
       "78309     Theft/Dispute Reporting  \n",
       "78310     Theft/Dispute Reporting  \n",
       "78311               Mortgage/Loan  \n",
       "78312               Mortgage/Loan  \n",
       "\n",
       "[21072 rows x 5 columns]"
      ]
     },
     "execution_count": 216,
     "metadata": {},
     "output_type": "execute_result"
    }
   ],
   "source": [
    "filtered_df = df_clean[df_clean['complaint_POS_removed'].notna()]\n",
    "\n",
    "filtered_df"
   ]
  },
  {
   "cell_type": "code",
   "execution_count": null,
   "metadata": {
    "id": "_aOmjCVSqkSp"
   },
   "outputs": [],
   "source": []
  },
  {
   "cell_type": "markdown",
   "metadata": {
    "id": "_7Un1AElJrF2"
   },
   "source": [
    "## Exploratory data analysis to get familiar with the data.\n",
    "\n",
    "Write the code in this task to perform the following:\n",
    "\n",
    "*   Visualise the data according to the 'Complaint' character length\n",
    "*   Using a word cloud find the top 40 words by frequency among all the articles after processing the text\n",
    "*   Find the top unigrams,bigrams and trigrams by frequency among all the complaints after processing the text. ‘\n",
    "\n",
    "\n"
   ]
  },
  {
   "cell_type": "code",
   "execution_count": 217,
   "metadata": {
    "execution": {
     "iopub.execute_input": "2024-04-23T11:58:13.481118Z",
     "iopub.status.busy": "2024-04-23T11:58:13.480757Z",
     "iopub.status.idle": "2024-04-23T11:58:13.868913Z",
     "shell.execute_reply": "2024-04-23T11:58:13.868008Z",
     "shell.execute_reply.started": "2024-04-23T11:58:13.481089Z"
    },
    "id": "q-zaqJF6JrF2"
   },
   "outputs": [
    {
     "data": {
      "image/png": "[encoded data removed]",
      "text/plain": [
       "<Figure size 1000x600 with 1 Axes>"
      ]
     },
     "metadata": {},
     "output_type": "display_data"
    }
   ],
   "source": [
    "# Write your code here to visualise the data according to the 'Complaint' character length\n",
    "plt.figure(figsize=(10, 6))\n",
    "plt.hist(df_clean['complaint_POS_removed'].str.len(), bins=30, color='skyblue', edgecolor='black')\n",
    "plt.xlabel('Complaint Length (Characters)')\n",
    "plt.ylabel('Frequency')\n",
    "plt.title('Distribution of Complaint Length')\n",
    "plt.grid(True)\n",
    "plt.show()"
   ]
  },
  {
   "cell_type": "code",
   "execution_count": 218,
   "metadata": {
    "execution": {
     "iopub.execute_input": "2024-04-23T11:58:17.363258Z",
     "iopub.status.busy": "2024-04-23T11:58:17.362431Z",
     "iopub.status.idle": "2024-04-23T11:58:17.370570Z",
     "shell.execute_reply": "2024-04-23T11:58:17.369564Z",
     "shell.execute_reply.started": "2024-04-23T11:58:17.363225Z"
    }
   },
   "outputs": [
    {
     "data": {
      "text/plain": [
       "1        morning help bank service write chase debt ver...\n",
       "2        card agent upgrade anniversary date change age...\n",
       "10       chase card report application submit identity ...\n",
       "11       book offer ticket reward card information minu...\n",
       "14       son deposit chase account fund bank account pa...\n",
       "                               ...                        \n",
       "78303    chase card customer decade solicitation credit...\n",
       "78309    credit card provider ask claim purchase protec...\n",
       "78310    xxxx risk consumer year trust mobile banking t...\n",
       "78311    credit yrs credit card chase freedom problem t...\n",
       "78312    year account order line credit account payment...\n",
       "Name: complaint_POS_removed, Length: 21072, dtype: object"
      ]
     },
     "execution_count": 218,
     "metadata": {},
     "output_type": "execute_result"
    }
   ],
   "source": [
    "df_clean['complaint_POS_removed']"
   ]
  },
  {
   "cell_type": "markdown",
   "metadata": {
    "id": "T9jD_6SeJrF3"
   },
   "source": [
    "#### Find the top 40 words by frequency among all the articles after processing the text."
   ]
  },
  {
   "cell_type": "code",
   "execution_count": 219,
   "metadata": {
    "execution": {
     "iopub.execute_input": "2024-04-23T11:58:24.196385Z",
     "iopub.status.busy": "2024-04-23T11:58:24.195473Z",
     "iopub.status.idle": "2024-04-23T11:58:33.249798Z",
     "shell.execute_reply": "2024-04-23T11:58:33.248882Z",
     "shell.execute_reply.started": "2024-04-23T11:58:24.196343Z"
    },
    "id": "QcfdvtfZJrF3"
   },
   "outputs": [
    {
     "data": {
      "image/png": "[encoded data removed]",
      "text/plain": [
       "<Figure size 640x480 with 1 Axes>"
      ]
     },
     "metadata": {},
     "output_type": "display_data"
    }
   ],
   "source": [
    "from wordcloud import WordCloud\n",
    "wordcloud=WordCloud(stopwords=spacy.lang.en.stop_words.STOP_WORDS, background_color='white', width=2000, height=1500,max_words=40).generate(' '.join(df_clean['complaint_POS_removed']))\n",
    "plt.imshow(wordcloud, interpolation='bilinear', aspect='auto')\n",
    "plt.axis(\"off\")\n",
    "plt.show()"
   ]
  },
  {
   "cell_type": "code",
   "execution_count": 220,
   "metadata": {
    "execution": {
     "iopub.execute_input": "2024-04-23T11:58:49.479815Z",
     "iopub.status.busy": "2024-04-23T11:58:49.478958Z",
     "iopub.status.idle": "2024-04-23T11:58:49.498104Z",
     "shell.execute_reply": "2024-04-23T11:58:49.497071Z",
     "shell.execute_reply.started": "2024-04-23T11:58:49.479781Z"
    },
    "id": "OkSmc3UaJrF4"
   },
   "outputs": [],
   "source": [
    "#Removing -PRON- from the text corpus\n",
    "df_clean['Complaint_clean'] = df_clean['complaint_POS_removed'].str.replace('-PRON-', '')"
   ]
  },
  {
   "cell_type": "code",
   "execution_count": null,
   "metadata": {},
   "outputs": [],
   "source": [
    "df_clean.shape"
   ]
  },
  {
   "cell_type": "code",
   "execution_count": null,
   "metadata": {},
   "outputs": [],
   "source": []
  },
  {
   "cell_type": "code",
   "execution_count": 221,
   "metadata": {
    "execution": {
     "iopub.execute_input": "2024-04-23T11:58:56.591584Z",
     "iopub.status.busy": "2024-04-23T11:58:56.591203Z",
     "iopub.status.idle": "2024-04-23T11:58:56.598108Z",
     "shell.execute_reply": "2024-04-23T11:58:56.597028Z",
     "shell.execute_reply.started": "2024-04-23T11:58:56.591554Z"
    }
   },
   "outputs": [],
   "source": [
    "def get_top_ngram_words(corpus, n=None,count=None):\n",
    "    vec = CountVectorizer(ngram_range=(n, n)).fit(corpus)\n",
    "    bag_of_words = vec.transform(corpus)\n",
    "    sum_words = bag_of_words.sum(axis=0) \n",
    "    words_freq = [(word, sum_words[0, idx]) for word, idx in vec.vocabulary_.items()]\n",
    "    words_freq =sorted(words_freq, key = lambda x: x[1], reverse=True)\n",
    "    return words_freq[:count]"
   ]
  },
  {
   "cell_type": "markdown",
   "metadata": {
    "id": "5DfCSbbmJrF4"
   },
   "source": [
    "#### Find the top unigrams,bigrams and trigrams by frequency among all the complaints after processing the text."
   ]
  },
  {
   "cell_type": "code",
   "execution_count": 222,
   "metadata": {
    "execution": {
     "iopub.execute_input": "2024-04-23T11:58:59.500434Z",
     "iopub.status.busy": "2024-04-23T11:58:59.500071Z",
     "iopub.status.idle": "2024-04-23T11:59:01.957350Z",
     "shell.execute_reply": "2024-04-23T11:59:01.956559Z",
     "shell.execute_reply.started": "2024-04-23T11:58:59.500405Z"
    },
    "id": "5mbk5DS5JrF4"
   },
   "outputs": [],
   "source": [
    "#Write your code here to find the top 30 unigram frequency among the complaints in the cleaned datafram(df_clean).\n",
    "unigram = get_top_ngram_words(df_clean['Complaint_clean'], 1,30)\n"
   ]
  },
  {
   "cell_type": "code",
   "execution_count": 223,
   "metadata": {
    "execution": {
     "iopub.execute_input": "2024-04-23T11:59:04.225405Z",
     "iopub.status.busy": "2024-04-23T11:59:04.224685Z",
     "iopub.status.idle": "2024-04-23T11:59:04.230202Z",
     "shell.execute_reply": "2024-04-23T11:59:04.229227Z",
     "shell.execute_reply.started": "2024-04-23T11:59:04.225367Z"
    },
    "id": "YX7fedm1JrF8"
   },
   "outputs": [
    {
     "name": "stdout",
     "output_type": "stream",
     "text": [
      "chase 51987\n",
      "account 40169\n",
      "credit 33623\n",
      "card 29780\n",
      "xxxx 29651\n",
      "payment 21282\n",
      "time 16147\n",
      "bank 15952\n",
      "charge 15214\n",
      "day 13110\n"
     ]
    }
   ],
   "source": [
    "#Print the top 10 words in the unigram frequency\n",
    "for word, freq in unigram[:10]:\n",
    "        print(word, freq)\n"
   ]
  },
  {
   "cell_type": "code",
   "execution_count": 225,
   "metadata": {
    "execution": {
     "iopub.execute_input": "2024-04-23T11:59:15.198489Z",
     "iopub.status.busy": "2024-04-23T11:59:15.197448Z",
     "iopub.status.idle": "2024-04-23T11:59:15.259649Z",
     "shell.execute_reply": "2024-04-23T11:59:15.258653Z",
     "shell.execute_reply.started": "2024-04-23T11:59:15.198457Z"
    }
   },
   "outputs": [
    {
     "data": {
      "text/html": [
       "<div>                            <div id=\"21a5beb1-b283-46e6-9bc9-cdf385006d28\" class=\"plotly-graph-div\" style=\"height:525px; width:100%;\"></div>            <script type=\"text/javascript\">                require([\"plotly\"], function(Plotly) {                    window.PLOTLYENV=window.PLOTLYENV || {};                                    if (document.getElementById(\"21a5beb1-b283-46e6-9bc9-cdf385006d28\")) {                    Plotly.newPlot(                        \"21a5beb1-b283-46e6-9bc9-cdf385006d28\",                        [{\"alignmentgroup\":\"True\",\"hovertemplate\":\"x=%{x}\\u003cbr\\u003ey=%{y}\\u003cextra\\u003e\\u003c\\u002fextra\\u003e\",\"legendgroup\":\"\",\"marker\":{\"color\":\"#636efa\",\"pattern\":{\"shape\":\"\"}},\"name\":\"\",\"offsetgroup\":\"\",\"orientation\":\"v\",\"showlegend\":false,\"textposition\":\"auto\",\"x\":[\"chase\",\"account\",\"credit\",\"card\",\"xxxx\",\"payment\",\"time\",\"bank\",\"charge\",\"day\"],\"xaxis\":\"x\",\"y\":[51987,40169,33623,29780,29651,21282,16147,15952,15214,13110],\"yaxis\":\"y\",\"type\":\"bar\"}],                        {\"template\":{\"data\":{\"histogram2dcontour\":[{\"type\":\"histogram2dcontour\",\"colorbar\":{\"outlinewidth\":0,\"ticks\":\"\"},\"colorscale\":[[0.0,\"#0d0887\"],[0.1111111111111111,\"#46039f\"],[0.2222222222222222,\"#7201a8\"],[0.3333333333333333,\"#9c179e\"],[0.4444444444444444,\"#bd3786\"],[0.5555555555555556,\"#d8576b\"],[0.6666666666666666,\"#ed7953\"],[0.7777777777777778,\"#fb9f3a\"],[0.8888888888888888,\"#fdca26\"],[1.0,\"#f0f921\"]]}],\"choropleth\":[{\"type\":\"choropleth\",\"colorbar\":{\"outlinewidth\":0,\"ticks\":\"\"}}],\"histogram2d\":[{\"type\":\"histogram2d\",\"colorbar\":{\"outlinewidth\":0,\"ticks\":\"\"},\"colorscale\":[[0.0,\"#0d0887\"],[0.1111111111111111,\"#46039f\"],[0.2222222222222222,\"#7201a8\"],[0.3333333333333333,\"#9c179e\"],[0.4444444444444444,\"#bd3786\"],[0.5555555555555556,\"#d8576b\"],[0.6666666666666666,\"#ed7953\"],[0.7777777777777778,\"#fb9f3a\"],[0.8888888888888888,\"#fdca26\"],[1.0,\"#f0f921\"]]}],\"heatmap\":[{\"type\":\"heatmap\",\"colorbar\":{\"outlinewidth\":0,\"ticks\":\"\"},\"colorscale\":[[0.0,\"#0d0887\"],[0.1111111111111111,\"#46039f\"],[0.2222222222222222,\"#7201a8\"],[0.3333333333333333,\"#9c179e\"],[0.4444444444444444,\"#bd3786\"],[0.5555555555555556,\"#d8576b\"],[0.6666666666666666,\"#ed7953\"],[0.7777777777777778,\"#fb9f3a\"],[0.8888888888888888,\"#fdca26\"],[1.0,\"#f0f921\"]]}],\"heatmapgl\":[{\"type\":\"heatmapgl\",\"colorbar\":{\"outlinewidth\":0,\"ticks\":\"\"},\"colorscale\":[[0.0,\"#0d0887\"],[0.1111111111111111,\"#46039f\"],[0.2222222222222222,\"#7201a8\"],[0.3333333333333333,\"#9c179e\"],[0.4444444444444444,\"#bd3786\"],[0.5555555555555556,\"#d8576b\"],[0.6666666666666666,\"#ed7953\"],[0.7777777777777778,\"#fb9f3a\"],[0.8888888888888888,\"#fdca26\"],[1.0,\"#f0f921\"]]}],\"contourcarpet\":[{\"type\":\"contourcarpet\",\"colorbar\":{\"outlinewidth\":0,\"ticks\":\"\"}}],\"contour\":[{\"type\":\"contour\",\"colorbar\":{\"outlinewidth\":0,\"ticks\":\"\"},\"colorscale\":[[0.0,\"#0d0887\"],[0.1111111111111111,\"#46039f\"],[0.2222222222222222,\"#7201a8\"],[0.3333333333333333,\"#9c179e\"],[0.4444444444444444,\"#bd3786\"],[0.5555555555555556,\"#d8576b\"],[0.6666666666666666,\"#ed7953\"],[0.7777777777777778,\"#fb9f3a\"],[0.8888888888888888,\"#fdca26\"],[1.0,\"#f0f921\"]]}],\"surface\":[{\"type\":\"surface\",\"colorbar\":{\"outlinewidth\":0,\"ticks\":\"\"},\"colorscale\":[[0.0,\"#0d0887\"],[0.1111111111111111,\"#46039f\"],[0.2222222222222222,\"#7201a8\"],[0.3333333333333333,\"#9c179e\"],[0.4444444444444444,\"#bd3786\"],[0.5555555555555556,\"#d8576b\"],[0.6666666666666666,\"#ed7953\"],[0.7777777777777778,\"#fb9f3a\"],[0.8888888888888888,\"#fdca26\"],[1.0,\"#f0f921\"]]}],\"mesh3d\":[{\"type\":\"mesh3d\",\"colorbar\":{\"outlinewidth\":0,\"ticks\":\"\"}}],\"scatter\":[{\"fillpattern\":{\"fillmode\":\"overlay\",\"size\":10,\"solidity\":0.2},\"type\":\"scatter\"}],\"parcoords\":[{\"type\":\"parcoords\",\"line\":{\"colorbar\":{\"outlinewidth\":0,\"ticks\":\"\"}}}],\"scatterpolargl\":[{\"type\":\"scatterpolargl\",\"marker\":{\"colorbar\":{\"outlinewidth\":0,\"ticks\":\"\"}}}],\"bar\":[{\"error_x\":{\"color\":\"#2a3f5f\"},\"error_y\":{\"color\":\"#2a3f5f\"},\"marker\":{\"line\":{\"color\":\"#E5ECF6\",\"width\":0.5},\"pattern\":{\"fillmode\":\"overlay\",\"size\":10,\"solidity\":0.2}},\"type\":\"bar\"}],\"scattergeo\":[{\"type\":\"scattergeo\",\"marker\":{\"colorbar\":{\"outlinewidth\":0,\"ticks\":\"\"}}}],\"scatterpolar\":[{\"type\":\"scatterpolar\",\"marker\":{\"colorbar\":{\"outlinewidth\":0,\"ticks\":\"\"}}}],\"histogram\":[{\"marker\":{\"pattern\":{\"fillmode\":\"overlay\",\"size\":10,\"solidity\":0.2}},\"type\":\"histogram\"}],\"scattergl\":[{\"type\":\"scattergl\",\"marker\":{\"colorbar\":{\"outlinewidth\":0,\"ticks\":\"\"}}}],\"scatter3d\":[{\"type\":\"scatter3d\",\"line\":{\"colorbar\":{\"outlinewidth\":0,\"ticks\":\"\"}},\"marker\":{\"colorbar\":{\"outlinewidth\":0,\"ticks\":\"\"}}}],\"scattermapbox\":[{\"type\":\"scattermapbox\",\"marker\":{\"colorbar\":{\"outlinewidth\":0,\"ticks\":\"\"}}}],\"scatterternary\":[{\"type\":\"scatterternary\",\"marker\":{\"colorbar\":{\"outlinewidth\":0,\"ticks\":\"\"}}}],\"scattercarpet\":[{\"type\":\"scattercarpet\",\"marker\":{\"colorbar\":{\"outlinewidth\":0,\"ticks\":\"\"}}}],\"carpet\":[{\"aaxis\":{\"endlinecolor\":\"#2a3f5f\",\"gridcolor\":\"white\",\"linecolor\":\"white\",\"minorgridcolor\":\"white\",\"startlinecolor\":\"#2a3f5f\"},\"baxis\":{\"endlinecolor\":\"#2a3f5f\",\"gridcolor\":\"white\",\"linecolor\":\"white\",\"minorgridcolor\":\"white\",\"startlinecolor\":\"#2a3f5f\"},\"type\":\"carpet\"}],\"table\":[{\"cells\":{\"fill\":{\"color\":\"#EBF0F8\"},\"line\":{\"color\":\"white\"}},\"header\":{\"fill\":{\"color\":\"#C8D4E3\"},\"line\":{\"color\":\"white\"}},\"type\":\"table\"}],\"barpolar\":[{\"marker\":{\"line\":{\"color\":\"#E5ECF6\",\"width\":0.5},\"pattern\":{\"fillmode\":\"overlay\",\"size\":10,\"solidity\":0.2}},\"type\":\"barpolar\"}],\"pie\":[{\"automargin\":true,\"type\":\"pie\"}]},\"layout\":{\"autotypenumbers\":\"strict\",\"colorway\":[\"#636efa\",\"#EF553B\",\"#00cc96\",\"#ab63fa\",\"#FFA15A\",\"#19d3f3\",\"#FF6692\",\"#B6E880\",\"#FF97FF\",\"#FECB52\"],\"font\":{\"color\":\"#2a3f5f\"},\"hovermode\":\"closest\",\"hoverlabel\":{\"align\":\"left\"},\"paper_bgcolor\":\"white\",\"plot_bgcolor\":\"#E5ECF6\",\"polar\":{\"bgcolor\":\"#E5ECF6\",\"angularaxis\":{\"gridcolor\":\"white\",\"linecolor\":\"white\",\"ticks\":\"\"},\"radialaxis\":{\"gridcolor\":\"white\",\"linecolor\":\"white\",\"ticks\":\"\"}},\"ternary\":{\"bgcolor\":\"#E5ECF6\",\"aaxis\":{\"gridcolor\":\"white\",\"linecolor\":\"white\",\"ticks\":\"\"},\"baxis\":{\"gridcolor\":\"white\",\"linecolor\":\"white\",\"ticks\":\"\"},\"caxis\":{\"gridcolor\":\"white\",\"linecolor\":\"white\",\"ticks\":\"\"}},\"coloraxis\":{\"colorbar\":{\"outlinewidth\":0,\"ticks\":\"\"}},\"colorscale\":{\"sequential\":[[0.0,\"#0d0887\"],[0.1111111111111111,\"#46039f\"],[0.2222222222222222,\"#7201a8\"],[0.3333333333333333,\"#9c179e\"],[0.4444444444444444,\"#bd3786\"],[0.5555555555555556,\"#d8576b\"],[0.6666666666666666,\"#ed7953\"],[0.7777777777777778,\"#fb9f3a\"],[0.8888888888888888,\"#fdca26\"],[1.0,\"#f0f921\"]],\"sequentialminus\":[[0.0,\"#0d0887\"],[0.1111111111111111,\"#46039f\"],[0.2222222222222222,\"#7201a8\"],[0.3333333333333333,\"#9c179e\"],[0.4444444444444444,\"#bd3786\"],[0.5555555555555556,\"#d8576b\"],[0.6666666666666666,\"#ed7953\"],[0.7777777777777778,\"#fb9f3a\"],[0.8888888888888888,\"#fdca26\"],[1.0,\"#f0f921\"]],\"diverging\":[[0,\"#8e0152\"],[0.1,\"#c51b7d\"],[0.2,\"#de77ae\"],[0.3,\"#f1b6da\"],[0.4,\"#fde0ef\"],[0.5,\"#f7f7f7\"],[0.6,\"#e6f5d0\"],[0.7,\"#b8e186\"],[0.8,\"#7fbc41\"],[0.9,\"#4d9221\"],[1,\"#276419\"]]},\"xaxis\":{\"gridcolor\":\"white\",\"linecolor\":\"white\",\"ticks\":\"\",\"title\":{\"standoff\":15},\"zerolinecolor\":\"white\",\"automargin\":true,\"zerolinewidth\":2},\"yaxis\":{\"gridcolor\":\"white\",\"linecolor\":\"white\",\"ticks\":\"\",\"title\":{\"standoff\":15},\"zerolinecolor\":\"white\",\"automargin\":true,\"zerolinewidth\":2},\"scene\":{\"xaxis\":{\"backgroundcolor\":\"#E5ECF6\",\"gridcolor\":\"white\",\"linecolor\":\"white\",\"showbackground\":true,\"ticks\":\"\",\"zerolinecolor\":\"white\",\"gridwidth\":2},\"yaxis\":{\"backgroundcolor\":\"#E5ECF6\",\"gridcolor\":\"white\",\"linecolor\":\"white\",\"showbackground\":true,\"ticks\":\"\",\"zerolinecolor\":\"white\",\"gridwidth\":2},\"zaxis\":{\"backgroundcolor\":\"#E5ECF6\",\"gridcolor\":\"white\",\"linecolor\":\"white\",\"showbackground\":true,\"ticks\":\"\",\"zerolinecolor\":\"white\",\"gridwidth\":2}},\"shapedefaults\":{\"line\":{\"color\":\"#2a3f5f\"}},\"annotationdefaults\":{\"arrowcolor\":\"#2a3f5f\",\"arrowhead\":0,\"arrowwidth\":1},\"geo\":{\"bgcolor\":\"white\",\"landcolor\":\"#E5ECF6\",\"subunitcolor\":\"white\",\"showland\":true,\"showlakes\":true,\"lakecolor\":\"white\"},\"title\":{\"x\":0.05},\"mapbox\":{\"style\":\"light\"}}},\"xaxis\":{\"anchor\":\"y\",\"domain\":[0.0,1.0],\"title\":{\"text\":\"x\"}},\"yaxis\":{\"anchor\":\"x\",\"domain\":[0.0,1.0],\"title\":{\"text\":\"y\"}},\"legend\":{\"tracegroupgap\":0},\"title\":{\"text\":\"Top 10 Unigrams\"},\"barmode\":\"relative\"},                        {\"responsive\": true}                    ).then(function(){\n",
       "                            \n",
       "var gd = document.getElementById('21a5beb1-b283-46e6-9bc9-cdf385006d28');\n",
       "var x = new MutationObserver(function (mutations, observer) {{\n",
       "        var display = window.getComputedStyle(gd).display;\n",
       "        if (!display || display === 'none') {{\n",
       "            console.log([gd, 'removed!']);\n",
       "            Plotly.purge(gd);\n",
       "            observer.disconnect();\n",
       "        }}\n",
       "}});\n",
       "\n",
       "// Listen for the removal of the full notebook cells\n",
       "var notebookContainer = gd.closest('#notebook-container');\n",
       "if (notebookContainer) {{\n",
       "    x.observe(notebookContainer, {childList: true});\n",
       "}}\n",
       "\n",
       "// Listen for the clearing of the current output cell\n",
       "var outputEl = gd.closest('.output');\n",
       "if (outputEl) {{\n",
       "    x.observe(outputEl, {childList: true});\n",
       "}}\n",
       "\n",
       "                        })                };                });            </script>        </div>"
      ]
     },
     "metadata": {},
     "output_type": "display_data"
    }
   ],
   "source": [
    "# plotting the graph for unigram\n",
    "px.bar(x=[word for word, freq in unigram[:10]], y=[freq for word, freq in unigram[:10]], title='Top 10 Unigrams')\n"
   ]
  },
  {
   "cell_type": "code",
   "execution_count": 226,
   "metadata": {
    "execution": {
     "iopub.execute_input": "2024-04-23T11:59:17.993356Z",
     "iopub.status.busy": "2024-04-23T11:59:17.992419Z",
     "iopub.status.idle": "2024-04-23T11:59:23.347847Z",
     "shell.execute_reply": "2024-04-23T11:59:23.346970Z",
     "shell.execute_reply.started": "2024-04-23T11:59:17.993327Z"
    },
    "id": "aV7kD7w8JrF8"
   },
   "outputs": [],
   "source": [
    "#Write your code here to find the top 30 bigram frequency among the complaints in the cleaned datafram(df_clean).\n",
    "bigram = get_top_ngram_words(df_clean['Complaint_clean'], 2,30)\n"
   ]
  },
  {
   "cell_type": "code",
   "execution_count": 227,
   "metadata": {
    "execution": {
     "iopub.execute_input": "2024-04-23T11:59:25.104123Z",
     "iopub.status.busy": "2024-04-23T11:59:25.103407Z",
     "iopub.status.idle": "2024-04-23T11:59:25.109054Z",
     "shell.execute_reply": "2024-04-23T11:59:25.107988Z",
     "shell.execute_reply.started": "2024-04-23T11:59:25.104092Z"
    },
    "id": "NPnMNIpyJrF9"
   },
   "outputs": [
    {
     "name": "stdout",
     "output_type": "stream",
     "text": [
      "credit card 12821\n",
      "credit report 3858\n",
      "chase credit 3040\n",
      "customer service 2919\n",
      "call chase 2573\n",
      "xxxx xxxx 2173\n",
      "account chase 2144\n",
      "check account 2039\n",
      "chase bank 1968\n",
      "chase account 1926\n"
     ]
    }
   ],
   "source": [
    "#Print the top 10 words in the bigram frequency\n",
    "for word, freq in bigram[:10]:\n",
    "        print(word, freq)"
   ]
  },
  {
   "cell_type": "code",
   "execution_count": 228,
   "metadata": {
    "execution": {
     "iopub.execute_input": "2024-04-23T11:59:27.723814Z",
     "iopub.status.busy": "2024-04-23T11:59:27.723443Z",
     "iopub.status.idle": "2024-04-23T11:59:27.785720Z",
     "shell.execute_reply": "2024-04-23T11:59:27.784916Z",
     "shell.execute_reply.started": "2024-04-23T11:59:27.723784Z"
    }
   },
   "outputs": [
    {
     "data": {
      "text/html": [
       "<div>                            <div id=\"b9378483-59f3-46e6-83e3-21e3d7223ab8\" class=\"plotly-graph-div\" style=\"height:525px; width:100%;\"></div>            <script type=\"text/javascript\">                require([\"plotly\"], function(Plotly) {                    window.PLOTLYENV=window.PLOTLYENV || {};                                    if (document.getElementById(\"b9378483-59f3-46e6-83e3-21e3d7223ab8\")) {                    Plotly.newPlot(                        \"b9378483-59f3-46e6-83e3-21e3d7223ab8\",                        [{\"alignmentgroup\":\"True\",\"hovertemplate\":\"x=%{x}\\u003cbr\\u003ey=%{y}\\u003cextra\\u003e\\u003c\\u002fextra\\u003e\",\"legendgroup\":\"\",\"marker\":{\"color\":\"#636efa\",\"pattern\":{\"shape\":\"\"}},\"name\":\"\",\"offsetgroup\":\"\",\"orientation\":\"v\",\"showlegend\":false,\"textposition\":\"auto\",\"x\":[\"credit card\",\"credit report\",\"chase credit\",\"customer service\",\"call chase\",\"xxxx xxxx\",\"account chase\",\"check account\",\"chase bank\",\"chase account\"],\"xaxis\":\"x\",\"y\":[12821,3858,3040,2919,2573,2173,2144,2039,1968,1926],\"yaxis\":\"y\",\"type\":\"bar\"}],                        {\"template\":{\"data\":{\"histogram2dcontour\":[{\"type\":\"histogram2dcontour\",\"colorbar\":{\"outlinewidth\":0,\"ticks\":\"\"},\"colorscale\":[[0.0,\"#0d0887\"],[0.1111111111111111,\"#46039f\"],[0.2222222222222222,\"#7201a8\"],[0.3333333333333333,\"#9c179e\"],[0.4444444444444444,\"#bd3786\"],[0.5555555555555556,\"#d8576b\"],[0.6666666666666666,\"#ed7953\"],[0.7777777777777778,\"#fb9f3a\"],[0.8888888888888888,\"#fdca26\"],[1.0,\"#f0f921\"]]}],\"choropleth\":[{\"type\":\"choropleth\",\"colorbar\":{\"outlinewidth\":0,\"ticks\":\"\"}}],\"histogram2d\":[{\"type\":\"histogram2d\",\"colorbar\":{\"outlinewidth\":0,\"ticks\":\"\"},\"colorscale\":[[0.0,\"#0d0887\"],[0.1111111111111111,\"#46039f\"],[0.2222222222222222,\"#7201a8\"],[0.3333333333333333,\"#9c179e\"],[0.4444444444444444,\"#bd3786\"],[0.5555555555555556,\"#d8576b\"],[0.6666666666666666,\"#ed7953\"],[0.7777777777777778,\"#fb9f3a\"],[0.8888888888888888,\"#fdca26\"],[1.0,\"#f0f921\"]]}],\"heatmap\":[{\"type\":\"heatmap\",\"colorbar\":{\"outlinewidth\":0,\"ticks\":\"\"},\"colorscale\":[[0.0,\"#0d0887\"],[0.1111111111111111,\"#46039f\"],[0.2222222222222222,\"#7201a8\"],[0.3333333333333333,\"#9c179e\"],[0.4444444444444444,\"#bd3786\"],[0.5555555555555556,\"#d8576b\"],[0.6666666666666666,\"#ed7953\"],[0.7777777777777778,\"#fb9f3a\"],[0.8888888888888888,\"#fdca26\"],[1.0,\"#f0f921\"]]}],\"heatmapgl\":[{\"type\":\"heatmapgl\",\"colorbar\":{\"outlinewidth\":0,\"ticks\":\"\"},\"colorscale\":[[0.0,\"#0d0887\"],[0.1111111111111111,\"#46039f\"],[0.2222222222222222,\"#7201a8\"],[0.3333333333333333,\"#9c179e\"],[0.4444444444444444,\"#bd3786\"],[0.5555555555555556,\"#d8576b\"],[0.6666666666666666,\"#ed7953\"],[0.7777777777777778,\"#fb9f3a\"],[0.8888888888888888,\"#fdca26\"],[1.0,\"#f0f921\"]]}],\"contourcarpet\":[{\"type\":\"contourcarpet\",\"colorbar\":{\"outlinewidth\":0,\"ticks\":\"\"}}],\"contour\":[{\"type\":\"contour\",\"colorbar\":{\"outlinewidth\":0,\"ticks\":\"\"},\"colorscale\":[[0.0,\"#0d0887\"],[0.1111111111111111,\"#46039f\"],[0.2222222222222222,\"#7201a8\"],[0.3333333333333333,\"#9c179e\"],[0.4444444444444444,\"#bd3786\"],[0.5555555555555556,\"#d8576b\"],[0.6666666666666666,\"#ed7953\"],[0.7777777777777778,\"#fb9f3a\"],[0.8888888888888888,\"#fdca26\"],[1.0,\"#f0f921\"]]}],\"surface\":[{\"type\":\"surface\",\"colorbar\":{\"outlinewidth\":0,\"ticks\":\"\"},\"colorscale\":[[0.0,\"#0d0887\"],[0.1111111111111111,\"#46039f\"],[0.2222222222222222,\"#7201a8\"],[0.3333333333333333,\"#9c179e\"],[0.4444444444444444,\"#bd3786\"],[0.5555555555555556,\"#d8576b\"],[0.6666666666666666,\"#ed7953\"],[0.7777777777777778,\"#fb9f3a\"],[0.8888888888888888,\"#fdca26\"],[1.0,\"#f0f921\"]]}],\"mesh3d\":[{\"type\":\"mesh3d\",\"colorbar\":{\"outlinewidth\":0,\"ticks\":\"\"}}],\"scatter\":[{\"fillpattern\":{\"fillmode\":\"overlay\",\"size\":10,\"solidity\":0.2},\"type\":\"scatter\"}],\"parcoords\":[{\"type\":\"parcoords\",\"line\":{\"colorbar\":{\"outlinewidth\":0,\"ticks\":\"\"}}}],\"scatterpolargl\":[{\"type\":\"scatterpolargl\",\"marker\":{\"colorbar\":{\"outlinewidth\":0,\"ticks\":\"\"}}}],\"bar\":[{\"error_x\":{\"color\":\"#2a3f5f\"},\"error_y\":{\"color\":\"#2a3f5f\"},\"marker\":{\"line\":{\"color\":\"#E5ECF6\",\"width\":0.5},\"pattern\":{\"fillmode\":\"overlay\",\"size\":10,\"solidity\":0.2}},\"type\":\"bar\"}],\"scattergeo\":[{\"type\":\"scattergeo\",\"marker\":{\"colorbar\":{\"outlinewidth\":0,\"ticks\":\"\"}}}],\"scatterpolar\":[{\"type\":\"scatterpolar\",\"marker\":{\"colorbar\":{\"outlinewidth\":0,\"ticks\":\"\"}}}],\"histogram\":[{\"marker\":{\"pattern\":{\"fillmode\":\"overlay\",\"size\":10,\"solidity\":0.2}},\"type\":\"histogram\"}],\"scattergl\":[{\"type\":\"scattergl\",\"marker\":{\"colorbar\":{\"outlinewidth\":0,\"ticks\":\"\"}}}],\"scatter3d\":[{\"type\":\"scatter3d\",\"line\":{\"colorbar\":{\"outlinewidth\":0,\"ticks\":\"\"}},\"marker\":{\"colorbar\":{\"outlinewidth\":0,\"ticks\":\"\"}}}],\"scattermapbox\":[{\"type\":\"scattermapbox\",\"marker\":{\"colorbar\":{\"outlinewidth\":0,\"ticks\":\"\"}}}],\"scatterternary\":[{\"type\":\"scatterternary\",\"marker\":{\"colorbar\":{\"outlinewidth\":0,\"ticks\":\"\"}}}],\"scattercarpet\":[{\"type\":\"scattercarpet\",\"marker\":{\"colorbar\":{\"outlinewidth\":0,\"ticks\":\"\"}}}],\"carpet\":[{\"aaxis\":{\"endlinecolor\":\"#2a3f5f\",\"gridcolor\":\"white\",\"linecolor\":\"white\",\"minorgridcolor\":\"white\",\"startlinecolor\":\"#2a3f5f\"},\"baxis\":{\"endlinecolor\":\"#2a3f5f\",\"gridcolor\":\"white\",\"linecolor\":\"white\",\"minorgridcolor\":\"white\",\"startlinecolor\":\"#2a3f5f\"},\"type\":\"carpet\"}],\"table\":[{\"cells\":{\"fill\":{\"color\":\"#EBF0F8\"},\"line\":{\"color\":\"white\"}},\"header\":{\"fill\":{\"color\":\"#C8D4E3\"},\"line\":{\"color\":\"white\"}},\"type\":\"table\"}],\"barpolar\":[{\"marker\":{\"line\":{\"color\":\"#E5ECF6\",\"width\":0.5},\"pattern\":{\"fillmode\":\"overlay\",\"size\":10,\"solidity\":0.2}},\"type\":\"barpolar\"}],\"pie\":[{\"automargin\":true,\"type\":\"pie\"}]},\"layout\":{\"autotypenumbers\":\"strict\",\"colorway\":[\"#636efa\",\"#EF553B\",\"#00cc96\",\"#ab63fa\",\"#FFA15A\",\"#19d3f3\",\"#FF6692\",\"#B6E880\",\"#FF97FF\",\"#FECB52\"],\"font\":{\"color\":\"#2a3f5f\"},\"hovermode\":\"closest\",\"hoverlabel\":{\"align\":\"left\"},\"paper_bgcolor\":\"white\",\"plot_bgcolor\":\"#E5ECF6\",\"polar\":{\"bgcolor\":\"#E5ECF6\",\"angularaxis\":{\"gridcolor\":\"white\",\"linecolor\":\"white\",\"ticks\":\"\"},\"radialaxis\":{\"gridcolor\":\"white\",\"linecolor\":\"white\",\"ticks\":\"\"}},\"ternary\":{\"bgcolor\":\"#E5ECF6\",\"aaxis\":{\"gridcolor\":\"white\",\"linecolor\":\"white\",\"ticks\":\"\"},\"baxis\":{\"gridcolor\":\"white\",\"linecolor\":\"white\",\"ticks\":\"\"},\"caxis\":{\"gridcolor\":\"white\",\"linecolor\":\"white\",\"ticks\":\"\"}},\"coloraxis\":{\"colorbar\":{\"outlinewidth\":0,\"ticks\":\"\"}},\"colorscale\":{\"sequential\":[[0.0,\"#0d0887\"],[0.1111111111111111,\"#46039f\"],[0.2222222222222222,\"#7201a8\"],[0.3333333333333333,\"#9c179e\"],[0.4444444444444444,\"#bd3786\"],[0.5555555555555556,\"#d8576b\"],[0.6666666666666666,\"#ed7953\"],[0.7777777777777778,\"#fb9f3a\"],[0.8888888888888888,\"#fdca26\"],[1.0,\"#f0f921\"]],\"sequentialminus\":[[0.0,\"#0d0887\"],[0.1111111111111111,\"#46039f\"],[0.2222222222222222,\"#7201a8\"],[0.3333333333333333,\"#9c179e\"],[0.4444444444444444,\"#bd3786\"],[0.5555555555555556,\"#d8576b\"],[0.6666666666666666,\"#ed7953\"],[0.7777777777777778,\"#fb9f3a\"],[0.8888888888888888,\"#fdca26\"],[1.0,\"#f0f921\"]],\"diverging\":[[0,\"#8e0152\"],[0.1,\"#c51b7d\"],[0.2,\"#de77ae\"],[0.3,\"#f1b6da\"],[0.4,\"#fde0ef\"],[0.5,\"#f7f7f7\"],[0.6,\"#e6f5d0\"],[0.7,\"#b8e186\"],[0.8,\"#7fbc41\"],[0.9,\"#4d9221\"],[1,\"#276419\"]]},\"xaxis\":{\"gridcolor\":\"white\",\"linecolor\":\"white\",\"ticks\":\"\",\"title\":{\"standoff\":15},\"zerolinecolor\":\"white\",\"automargin\":true,\"zerolinewidth\":2},\"yaxis\":{\"gridcolor\":\"white\",\"linecolor\":\"white\",\"ticks\":\"\",\"title\":{\"standoff\":15},\"zerolinecolor\":\"white\",\"automargin\":true,\"zerolinewidth\":2},\"scene\":{\"xaxis\":{\"backgroundcolor\":\"#E5ECF6\",\"gridcolor\":\"white\",\"linecolor\":\"white\",\"showbackground\":true,\"ticks\":\"\",\"zerolinecolor\":\"white\",\"gridwidth\":2},\"yaxis\":{\"backgroundcolor\":\"#E5ECF6\",\"gridcolor\":\"white\",\"linecolor\":\"white\",\"showbackground\":true,\"ticks\":\"\",\"zerolinecolor\":\"white\",\"gridwidth\":2},\"zaxis\":{\"backgroundcolor\":\"#E5ECF6\",\"gridcolor\":\"white\",\"linecolor\":\"white\",\"showbackground\":true,\"ticks\":\"\",\"zerolinecolor\":\"white\",\"gridwidth\":2}},\"shapedefaults\":{\"line\":{\"color\":\"#2a3f5f\"}},\"annotationdefaults\":{\"arrowcolor\":\"#2a3f5f\",\"arrowhead\":0,\"arrowwidth\":1},\"geo\":{\"bgcolor\":\"white\",\"landcolor\":\"#E5ECF6\",\"subunitcolor\":\"white\",\"showland\":true,\"showlakes\":true,\"lakecolor\":\"white\"},\"title\":{\"x\":0.05},\"mapbox\":{\"style\":\"light\"}}},\"xaxis\":{\"anchor\":\"y\",\"domain\":[0.0,1.0],\"title\":{\"text\":\"x\"}},\"yaxis\":{\"anchor\":\"x\",\"domain\":[0.0,1.0],\"title\":{\"text\":\"y\"}},\"legend\":{\"tracegroupgap\":0},\"title\":{\"text\":\"Top 10 Bigrams\"},\"barmode\":\"relative\"},                        {\"responsive\": true}                    ).then(function(){\n",
       "                            \n",
       "var gd = document.getElementById('b9378483-59f3-46e6-83e3-21e3d7223ab8');\n",
       "var x = new MutationObserver(function (mutations, observer) {{\n",
       "        var display = window.getComputedStyle(gd).display;\n",
       "        if (!display || display === 'none') {{\n",
       "            console.log([gd, 'removed!']);\n",
       "            Plotly.purge(gd);\n",
       "            observer.disconnect();\n",
       "        }}\n",
       "}});\n",
       "\n",
       "// Listen for the removal of the full notebook cells\n",
       "var notebookContainer = gd.closest('#notebook-container');\n",
       "if (notebookContainer) {{\n",
       "    x.observe(notebookContainer, {childList: true});\n",
       "}}\n",
       "\n",
       "// Listen for the clearing of the current output cell\n",
       "var outputEl = gd.closest('.output');\n",
       "if (outputEl) {{\n",
       "    x.observe(outputEl, {childList: true});\n",
       "}}\n",
       "\n",
       "                        })                };                });            </script>        </div>"
      ]
     },
     "metadata": {},
     "output_type": "display_data"
    }
   ],
   "source": [
    "px.bar(x=[word for word, freq in bigram[:10]], y=[freq for word, freq in bigram[:10]], title='Top 10 Bigrams')\n"
   ]
  },
  {
   "cell_type": "code",
   "execution_count": 229,
   "metadata": {
    "execution": {
     "iopub.execute_input": "2024-04-23T11:59:31.902330Z",
     "iopub.status.busy": "2024-04-23T11:59:31.901601Z",
     "iopub.status.idle": "2024-04-23T11:59:40.810803Z",
     "shell.execute_reply": "2024-04-23T11:59:40.809980Z",
     "shell.execute_reply.started": "2024-04-23T11:59:31.902301Z"
    },
    "id": "Xkh7vtbtJrF-"
   },
   "outputs": [],
   "source": [
    "#Write your code here to find the top 30 trigram frequency among the complaints in the cleaned datafram(df_clean).\n",
    "trigram = get_top_ngram_words(df_clean['Complaint_clean'], 3,30)\n"
   ]
  },
  {
   "cell_type": "code",
   "execution_count": 230,
   "metadata": {
    "execution": {
     "iopub.execute_input": "2024-04-23T11:59:40.812597Z",
     "iopub.status.busy": "2024-04-23T11:59:40.812296Z",
     "iopub.status.idle": "2024-04-23T11:59:40.817756Z",
     "shell.execute_reply": "2024-04-23T11:59:40.816864Z",
     "shell.execute_reply.started": "2024-04-23T11:59:40.812572Z"
    },
    "id": "REcVxNfvJrF-"
   },
   "outputs": [
    {
     "name": "stdout",
     "output_type": "stream",
     "text": [
      "chase credit card 2193\n",
      "credit card account 1042\n",
      "credit card company 969\n",
      "credit card chase 726\n",
      "xxxx credit card 682\n",
      "xxxx xxxx xxxx 662\n",
      "chase customer service 547\n",
      "inquiry credit report 471\n",
      "credit card credit 434\n",
      "credit card xxxx 410\n"
     ]
    }
   ],
   "source": [
    "#Print the top 10 words in the trigram frequency\n",
    "for word, freq in trigram[:10]:\n",
    "        print(word, freq)"
   ]
  },
  {
   "cell_type": "code",
   "execution_count": 234,
   "metadata": {
    "execution": {
     "iopub.execute_input": "2024-04-23T11:59:45.220951Z",
     "iopub.status.busy": "2024-04-23T11:59:45.220454Z",
     "iopub.status.idle": "2024-04-23T11:59:45.281191Z",
     "shell.execute_reply": "2024-04-23T11:59:45.280324Z",
     "shell.execute_reply.started": "2024-04-23T11:59:45.220917Z"
    }
   },
   "outputs": [
    {
     "data": {
      "text/html": [
       "<div>                            <div id=\"4e54914f-9d71-48db-b799-6327e6770484\" class=\"plotly-graph-div\" style=\"height:525px; width:100%;\"></div>            <script type=\"text/javascript\">                require([\"plotly\"], function(Plotly) {                    window.PLOTLYENV=window.PLOTLYENV || {};                                    if (document.getElementById(\"4e54914f-9d71-48db-b799-6327e6770484\")) {                    Plotly.newPlot(                        \"4e54914f-9d71-48db-b799-6327e6770484\",                        [{\"alignmentgroup\":\"True\",\"hovertemplate\":\"x=%{x}\\u003cbr\\u003ey=%{y}\\u003cextra\\u003e\\u003c\\u002fextra\\u003e\",\"legendgroup\":\"\",\"marker\":{\"color\":\"#636efa\",\"pattern\":{\"shape\":\"\"}},\"name\":\"\",\"offsetgroup\":\"\",\"orientation\":\"v\",\"showlegend\":false,\"textposition\":\"auto\",\"x\":[\"chase credit card\",\"credit card account\",\"credit card company\",\"credit card chase\",\"xxxx credit card\",\"xxxx xxxx xxxx\",\"chase customer service\",\"inquiry credit report\",\"credit card credit\",\"credit card xxxx\"],\"xaxis\":\"x\",\"y\":[2193,1042,969,726,682,662,547,471,434,410],\"yaxis\":\"y\",\"type\":\"bar\"}],                        {\"template\":{\"data\":{\"histogram2dcontour\":[{\"type\":\"histogram2dcontour\",\"colorbar\":{\"outlinewidth\":0,\"ticks\":\"\"},\"colorscale\":[[0.0,\"#0d0887\"],[0.1111111111111111,\"#46039f\"],[0.2222222222222222,\"#7201a8\"],[0.3333333333333333,\"#9c179e\"],[0.4444444444444444,\"#bd3786\"],[0.5555555555555556,\"#d8576b\"],[0.6666666666666666,\"#ed7953\"],[0.7777777777777778,\"#fb9f3a\"],[0.8888888888888888,\"#fdca26\"],[1.0,\"#f0f921\"]]}],\"choropleth\":[{\"type\":\"choropleth\",\"colorbar\":{\"outlinewidth\":0,\"ticks\":\"\"}}],\"histogram2d\":[{\"type\":\"histogram2d\",\"colorbar\":{\"outlinewidth\":0,\"ticks\":\"\"},\"colorscale\":[[0.0,\"#0d0887\"],[0.1111111111111111,\"#46039f\"],[0.2222222222222222,\"#7201a8\"],[0.3333333333333333,\"#9c179e\"],[0.4444444444444444,\"#bd3786\"],[0.5555555555555556,\"#d8576b\"],[0.6666666666666666,\"#ed7953\"],[0.7777777777777778,\"#fb9f3a\"],[0.8888888888888888,\"#fdca26\"],[1.0,\"#f0f921\"]]}],\"heatmap\":[{\"type\":\"heatmap\",\"colorbar\":{\"outlinewidth\":0,\"ticks\":\"\"},\"colorscale\":[[0.0,\"#0d0887\"],[0.1111111111111111,\"#46039f\"],[0.2222222222222222,\"#7201a8\"],[0.3333333333333333,\"#9c179e\"],[0.4444444444444444,\"#bd3786\"],[0.5555555555555556,\"#d8576b\"],[0.6666666666666666,\"#ed7953\"],[0.7777777777777778,\"#fb9f3a\"],[0.8888888888888888,\"#fdca26\"],[1.0,\"#f0f921\"]]}],\"heatmapgl\":[{\"type\":\"heatmapgl\",\"colorbar\":{\"outlinewidth\":0,\"ticks\":\"\"},\"colorscale\":[[0.0,\"#0d0887\"],[0.1111111111111111,\"#46039f\"],[0.2222222222222222,\"#7201a8\"],[0.3333333333333333,\"#9c179e\"],[0.4444444444444444,\"#bd3786\"],[0.5555555555555556,\"#d8576b\"],[0.6666666666666666,\"#ed7953\"],[0.7777777777777778,\"#fb9f3a\"],[0.8888888888888888,\"#fdca26\"],[1.0,\"#f0f921\"]]}],\"contourcarpet\":[{\"type\":\"contourcarpet\",\"colorbar\":{\"outlinewidth\":0,\"ticks\":\"\"}}],\"contour\":[{\"type\":\"contour\",\"colorbar\":{\"outlinewidth\":0,\"ticks\":\"\"},\"colorscale\":[[0.0,\"#0d0887\"],[0.1111111111111111,\"#46039f\"],[0.2222222222222222,\"#7201a8\"],[0.3333333333333333,\"#9c179e\"],[0.4444444444444444,\"#bd3786\"],[0.5555555555555556,\"#d8576b\"],[0.6666666666666666,\"#ed7953\"],[0.7777777777777778,\"#fb9f3a\"],[0.8888888888888888,\"#fdca26\"],[1.0,\"#f0f921\"]]}],\"surface\":[{\"type\":\"surface\",\"colorbar\":{\"outlinewidth\":0,\"ticks\":\"\"},\"colorscale\":[[0.0,\"#0d0887\"],[0.1111111111111111,\"#46039f\"],[0.2222222222222222,\"#7201a8\"],[0.3333333333333333,\"#9c179e\"],[0.4444444444444444,\"#bd3786\"],[0.5555555555555556,\"#d8576b\"],[0.6666666666666666,\"#ed7953\"],[0.7777777777777778,\"#fb9f3a\"],[0.8888888888888888,\"#fdca26\"],[1.0,\"#f0f921\"]]}],\"mesh3d\":[{\"type\":\"mesh3d\",\"colorbar\":{\"outlinewidth\":0,\"ticks\":\"\"}}],\"scatter\":[{\"fillpattern\":{\"fillmode\":\"overlay\",\"size\":10,\"solidity\":0.2},\"type\":\"scatter\"}],\"parcoords\":[{\"type\":\"parcoords\",\"line\":{\"colorbar\":{\"outlinewidth\":0,\"ticks\":\"\"}}}],\"scatterpolargl\":[{\"type\":\"scatterpolargl\",\"marker\":{\"colorbar\":{\"outlinewidth\":0,\"ticks\":\"\"}}}],\"bar\":[{\"error_x\":{\"color\":\"#2a3f5f\"},\"error_y\":{\"color\":\"#2a3f5f\"},\"marker\":{\"line\":{\"color\":\"#E5ECF6\",\"width\":0.5},\"pattern\":{\"fillmode\":\"overlay\",\"size\":10,\"solidity\":0.2}},\"type\":\"bar\"}],\"scattergeo\":[{\"type\":\"scattergeo\",\"marker\":{\"colorbar\":{\"outlinewidth\":0,\"ticks\":\"\"}}}],\"scatterpolar\":[{\"type\":\"scatterpolar\",\"marker\":{\"colorbar\":{\"outlinewidth\":0,\"ticks\":\"\"}}}],\"histogram\":[{\"marker\":{\"pattern\":{\"fillmode\":\"overlay\",\"size\":10,\"solidity\":0.2}},\"type\":\"histogram\"}],\"scattergl\":[{\"type\":\"scattergl\",\"marker\":{\"colorbar\":{\"outlinewidth\":0,\"ticks\":\"\"}}}],\"scatter3d\":[{\"type\":\"scatter3d\",\"line\":{\"colorbar\":{\"outlinewidth\":0,\"ticks\":\"\"}},\"marker\":{\"colorbar\":{\"outlinewidth\":0,\"ticks\":\"\"}}}],\"scattermapbox\":[{\"type\":\"scattermapbox\",\"marker\":{\"colorbar\":{\"outlinewidth\":0,\"ticks\":\"\"}}}],\"scatterternary\":[{\"type\":\"scatterternary\",\"marker\":{\"colorbar\":{\"outlinewidth\":0,\"ticks\":\"\"}}}],\"scattercarpet\":[{\"type\":\"scattercarpet\",\"marker\":{\"colorbar\":{\"outlinewidth\":0,\"ticks\":\"\"}}}],\"carpet\":[{\"aaxis\":{\"endlinecolor\":\"#2a3f5f\",\"gridcolor\":\"white\",\"linecolor\":\"white\",\"minorgridcolor\":\"white\",\"startlinecolor\":\"#2a3f5f\"},\"baxis\":{\"endlinecolor\":\"#2a3f5f\",\"gridcolor\":\"white\",\"linecolor\":\"white\",\"minorgridcolor\":\"white\",\"startlinecolor\":\"#2a3f5f\"},\"type\":\"carpet\"}],\"table\":[{\"cells\":{\"fill\":{\"color\":\"#EBF0F8\"},\"line\":{\"color\":\"white\"}},\"header\":{\"fill\":{\"color\":\"#C8D4E3\"},\"line\":{\"color\":\"white\"}},\"type\":\"table\"}],\"barpolar\":[{\"marker\":{\"line\":{\"color\":\"#E5ECF6\",\"width\":0.5},\"pattern\":{\"fillmode\":\"overlay\",\"size\":10,\"solidity\":0.2}},\"type\":\"barpolar\"}],\"pie\":[{\"automargin\":true,\"type\":\"pie\"}]},\"layout\":{\"autotypenumbers\":\"strict\",\"colorway\":[\"#636efa\",\"#EF553B\",\"#00cc96\",\"#ab63fa\",\"#FFA15A\",\"#19d3f3\",\"#FF6692\",\"#B6E880\",\"#FF97FF\",\"#FECB52\"],\"font\":{\"color\":\"#2a3f5f\"},\"hovermode\":\"closest\",\"hoverlabel\":{\"align\":\"left\"},\"paper_bgcolor\":\"white\",\"plot_bgcolor\":\"#E5ECF6\",\"polar\":{\"bgcolor\":\"#E5ECF6\",\"angularaxis\":{\"gridcolor\":\"white\",\"linecolor\":\"white\",\"ticks\":\"\"},\"radialaxis\":{\"gridcolor\":\"white\",\"linecolor\":\"white\",\"ticks\":\"\"}},\"ternary\":{\"bgcolor\":\"#E5ECF6\",\"aaxis\":{\"gridcolor\":\"white\",\"linecolor\":\"white\",\"ticks\":\"\"},\"baxis\":{\"gridcolor\":\"white\",\"linecolor\":\"white\",\"ticks\":\"\"},\"caxis\":{\"gridcolor\":\"white\",\"linecolor\":\"white\",\"ticks\":\"\"}},\"coloraxis\":{\"colorbar\":{\"outlinewidth\":0,\"ticks\":\"\"}},\"colorscale\":{\"sequential\":[[0.0,\"#0d0887\"],[0.1111111111111111,\"#46039f\"],[0.2222222222222222,\"#7201a8\"],[0.3333333333333333,\"#9c179e\"],[0.4444444444444444,\"#bd3786\"],[0.5555555555555556,\"#d8576b\"],[0.6666666666666666,\"#ed7953\"],[0.7777777777777778,\"#fb9f3a\"],[0.8888888888888888,\"#fdca26\"],[1.0,\"#f0f921\"]],\"sequentialminus\":[[0.0,\"#0d0887\"],[0.1111111111111111,\"#46039f\"],[0.2222222222222222,\"#7201a8\"],[0.3333333333333333,\"#9c179e\"],[0.4444444444444444,\"#bd3786\"],[0.5555555555555556,\"#d8576b\"],[0.6666666666666666,\"#ed7953\"],[0.7777777777777778,\"#fb9f3a\"],[0.8888888888888888,\"#fdca26\"],[1.0,\"#f0f921\"]],\"diverging\":[[0,\"#8e0152\"],[0.1,\"#c51b7d\"],[0.2,\"#de77ae\"],[0.3,\"#f1b6da\"],[0.4,\"#fde0ef\"],[0.5,\"#f7f7f7\"],[0.6,\"#e6f5d0\"],[0.7,\"#b8e186\"],[0.8,\"#7fbc41\"],[0.9,\"#4d9221\"],[1,\"#276419\"]]},\"xaxis\":{\"gridcolor\":\"white\",\"linecolor\":\"white\",\"ticks\":\"\",\"title\":{\"standoff\":15},\"zerolinecolor\":\"white\",\"automargin\":true,\"zerolinewidth\":2},\"yaxis\":{\"gridcolor\":\"white\",\"linecolor\":\"white\",\"ticks\":\"\",\"title\":{\"standoff\":15},\"zerolinecolor\":\"white\",\"automargin\":true,\"zerolinewidth\":2},\"scene\":{\"xaxis\":{\"backgroundcolor\":\"#E5ECF6\",\"gridcolor\":\"white\",\"linecolor\":\"white\",\"showbackground\":true,\"ticks\":\"\",\"zerolinecolor\":\"white\",\"gridwidth\":2},\"yaxis\":{\"backgroundcolor\":\"#E5ECF6\",\"gridcolor\":\"white\",\"linecolor\":\"white\",\"showbackground\":true,\"ticks\":\"\",\"zerolinecolor\":\"white\",\"gridwidth\":2},\"zaxis\":{\"backgroundcolor\":\"#E5ECF6\",\"gridcolor\":\"white\",\"linecolor\":\"white\",\"showbackground\":true,\"ticks\":\"\",\"zerolinecolor\":\"white\",\"gridwidth\":2}},\"shapedefaults\":{\"line\":{\"color\":\"#2a3f5f\"}},\"annotationdefaults\":{\"arrowcolor\":\"#2a3f5f\",\"arrowhead\":0,\"arrowwidth\":1},\"geo\":{\"bgcolor\":\"white\",\"landcolor\":\"#E5ECF6\",\"subunitcolor\":\"white\",\"showland\":true,\"showlakes\":true,\"lakecolor\":\"white\"},\"title\":{\"x\":0.05},\"mapbox\":{\"style\":\"light\"}}},\"xaxis\":{\"anchor\":\"y\",\"domain\":[0.0,1.0],\"title\":{\"text\":\"x\"}},\"yaxis\":{\"anchor\":\"x\",\"domain\":[0.0,1.0],\"title\":{\"text\":\"y\"}},\"legend\":{\"tracegroupgap\":0},\"title\":{\"text\":\"Top 10 trigrams\"},\"barmode\":\"relative\"},                        {\"responsive\": true}                    ).then(function(){\n",
       "                            \n",
       "var gd = document.getElementById('4e54914f-9d71-48db-b799-6327e6770484');\n",
       "var x = new MutationObserver(function (mutations, observer) {{\n",
       "        var display = window.getComputedStyle(gd).display;\n",
       "        if (!display || display === 'none') {{\n",
       "            console.log([gd, 'removed!']);\n",
       "            Plotly.purge(gd);\n",
       "            observer.disconnect();\n",
       "        }}\n",
       "}});\n",
       "\n",
       "// Listen for the removal of the full notebook cells\n",
       "var notebookContainer = gd.closest('#notebook-container');\n",
       "if (notebookContainer) {{\n",
       "    x.observe(notebookContainer, {childList: true});\n",
       "}}\n",
       "\n",
       "// Listen for the clearing of the current output cell\n",
       "var outputEl = gd.closest('.output');\n",
       "if (outputEl) {{\n",
       "    x.observe(outputEl, {childList: true});\n",
       "}}\n",
       "\n",
       "                        })                };                });            </script>        </div>"
      ]
     },
     "metadata": {},
     "output_type": "display_data"
    }
   ],
   "source": [
    "px.bar(x=[word for word, freq in trigram[:10]], y=[freq for word, freq in trigram[:10]], title='Top 10 trigrams')\n"
   ]
  },
  {
   "cell_type": "markdown",
   "metadata": {
    "id": "yUXzFji0JrF_"
   },
   "source": [
    "## The personal details of customer has been masked in the dataset with xxxx. Let's remove the masked text as this will be of no use for our analysis"
   ]
  },
  {
   "cell_type": "code",
   "execution_count": 235,
   "metadata": {
    "execution": {
     "iopub.execute_input": "2024-04-23T11:59:49.054444Z",
     "iopub.status.busy": "2024-04-23T11:59:49.054037Z",
     "iopub.status.idle": "2024-04-23T11:59:49.081352Z",
     "shell.execute_reply": "2024-04-23T11:59:49.080153Z",
     "shell.execute_reply.started": "2024-04-23T11:59:49.054388Z"
    },
    "id": "wKda-a_IJrF_"
   },
   "outputs": [],
   "source": [
    "df_clean['Complaint_clean'] = df_clean['Complaint_clean'].str.replace('xxxx','')"
   ]
  },
  {
   "cell_type": "code",
   "execution_count": 236,
   "metadata": {
    "execution": {
     "iopub.execute_input": "2024-04-23T11:59:52.750466Z",
     "iopub.status.busy": "2024-04-23T11:59:52.749657Z",
     "iopub.status.idle": "2024-04-23T11:59:52.765464Z",
     "shell.execute_reply": "2024-04-23T11:59:52.764151Z",
     "shell.execute_reply.started": "2024-04-23T11:59:52.750430Z"
    },
    "id": "9UIFk8fQJrF_"
   },
   "outputs": [
    {
     "data": {
      "text/html": [
       "<div>\n",
       "<style scoped>\n",
       "    .dataframe tbody tr th:only-of-type {\n",
       "        vertical-align: middle;\n",
       "    }\n",
       "\n",
       "    .dataframe tbody tr th {\n",
       "        vertical-align: top;\n",
       "    }\n",
       "\n",
       "    .dataframe thead th {\n",
       "        text-align: right;\n",
       "    }\n",
       "</style>\n",
       "<table border=\"1\" class=\"dataframe\">\n",
       "  <thead>\n",
       "    <tr style=\"text-align: right;\">\n",
       "      <th></th>\n",
       "      <th>complaints</th>\n",
       "      <th>lemmatized</th>\n",
       "      <th>complaint_POS_removed</th>\n",
       "      <th>Complaint_clean</th>\n",
       "      <th>Topic</th>\n",
       "    </tr>\n",
       "  </thead>\n",
       "  <tbody>\n",
       "    <tr>\n",
       "      <th>1</th>\n",
       "      <td>good morning my name is xxxx xxxx and i apprec...</td>\n",
       "      <td>good morning xxxx xxxx appreciate help stop ch...</td>\n",
       "      <td>morning help bank service write chase debt ver...</td>\n",
       "      <td>morning help bank service write chase debt ver...</td>\n",
       "      <td>Bank Account services</td>\n",
       "    </tr>\n",
       "    <tr>\n",
       "      <th>2</th>\n",
       "      <td>i upgraded my xxxx xxxx card in xx xx and was ...</td>\n",
       "      <td>upgrade xxxx xxxx card xx xx tell agent upgrad...</td>\n",
       "      <td>card agent upgrade anniversary date change age...</td>\n",
       "      <td>card agent upgrade anniversary date change age...</td>\n",
       "      <td>Theft/Dispute Reporting</td>\n",
       "    </tr>\n",
       "    <tr>\n",
       "      <th>10</th>\n",
       "      <td>chase card was reported on xx xx however fraud...</td>\n",
       "      <td>chase card report xx xx fraudulent application...</td>\n",
       "      <td>chase card report application submit identity ...</td>\n",
       "      <td>chase card report application submit identity ...</td>\n",
       "      <td>Credit card / Prepaid card</td>\n",
       "    </tr>\n",
       "    <tr>\n",
       "      <th>11</th>\n",
       "      <td>on xx xx while trying to book a xxxx xxxx tick...</td>\n",
       "      <td>xx xx try book xxxx xxxx ticket come offer app...</td>\n",
       "      <td>book offer ticket reward card information minu...</td>\n",
       "      <td>book offer ticket reward card information minu...</td>\n",
       "      <td>Credit card / Prepaid card</td>\n",
       "    </tr>\n",
       "    <tr>\n",
       "      <th>14</th>\n",
       "      <td>my grand son give me check for i deposit it in...</td>\n",
       "      <td>grand son check deposit chase account fund cle...</td>\n",
       "      <td>son deposit chase account fund bank account pa...</td>\n",
       "      <td>son deposit chase account fund bank account pa...</td>\n",
       "      <td>Bank Account services</td>\n",
       "    </tr>\n",
       "    <tr>\n",
       "      <th>...</th>\n",
       "      <td>...</td>\n",
       "      <td>...</td>\n",
       "      <td>...</td>\n",
       "      <td>...</td>\n",
       "      <td>...</td>\n",
       "    </tr>\n",
       "    <tr>\n",
       "      <th>78303</th>\n",
       "      <td>after being a chase card customer for well ove...</td>\n",
       "      <td>chase card customer decade offer multiple soli...</td>\n",
       "      <td>chase card customer decade solicitation credit...</td>\n",
       "      <td>chase card customer decade solicitation credit...</td>\n",
       "      <td>Credit card / Prepaid card</td>\n",
       "    </tr>\n",
       "    <tr>\n",
       "      <th>78309</th>\n",
       "      <td>on wednesday xx xx xxxx i called chas my xxxx ...</td>\n",
       "      <td>wednesday xx xx xxxx call chas xxxx xxxx visa ...</td>\n",
       "      <td>credit card provider ask claim purchase protec...</td>\n",
       "      <td>credit card provider ask claim purchase protec...</td>\n",
       "      <td>Theft/Dispute Reporting</td>\n",
       "    </tr>\n",
       "    <tr>\n",
       "      <th>78310</th>\n",
       "      <td>i am not familiar with xxxx pay and did not un...</td>\n",
       "      <td>familiar xxxx pay understand great risk provid...</td>\n",
       "      <td>xxxx risk consumer year trust mobile banking t...</td>\n",
       "      <td>risk consumer year trust mobile banking tell ...</td>\n",
       "      <td>Theft/Dispute Reporting</td>\n",
       "    </tr>\n",
       "    <tr>\n",
       "      <th>78311</th>\n",
       "      <td>i have had flawless credit for yrs i ve had ch...</td>\n",
       "      <td>flawless credit yrs ve chase credit card chase...</td>\n",
       "      <td>credit yrs credit card chase freedom problem t...</td>\n",
       "      <td>credit yrs credit card chase freedom problem t...</td>\n",
       "      <td>Mortgage/Loan</td>\n",
       "    </tr>\n",
       "    <tr>\n",
       "      <th>78312</th>\n",
       "      <td>roughly years ago i closed out my accounts wit...</td>\n",
       "      <td>roughly year ago close account jp morgan chase...</td>\n",
       "      <td>year account order line credit account payment...</td>\n",
       "      <td>year account order line credit account payment...</td>\n",
       "      <td>Mortgage/Loan</td>\n",
       "    </tr>\n",
       "  </tbody>\n",
       "</table>\n",
       "<p>21072 rows × 5 columns</p>\n",
       "</div>"
      ],
      "text/plain": [
       "                                              complaints  \\\n",
       "1      good morning my name is xxxx xxxx and i apprec...   \n",
       "2      i upgraded my xxxx xxxx card in xx xx and was ...   \n",
       "10     chase card was reported on xx xx however fraud...   \n",
       "11     on xx xx while trying to book a xxxx xxxx tick...   \n",
       "14     my grand son give me check for i deposit it in...   \n",
       "...                                                  ...   \n",
       "78303  after being a chase card customer for well ove...   \n",
       "78309  on wednesday xx xx xxxx i called chas my xxxx ...   \n",
       "78310  i am not familiar with xxxx pay and did not un...   \n",
       "78311  i have had flawless credit for yrs i ve had ch...   \n",
       "78312  roughly years ago i closed out my accounts wit...   \n",
       "\n",
       "                                              lemmatized  \\\n",
       "1      good morning xxxx xxxx appreciate help stop ch...   \n",
       "2      upgrade xxxx xxxx card xx xx tell agent upgrad...   \n",
       "10     chase card report xx xx fraudulent application...   \n",
       "11     xx xx try book xxxx xxxx ticket come offer app...   \n",
       "14     grand son check deposit chase account fund cle...   \n",
       "...                                                  ...   \n",
       "78303  chase card customer decade offer multiple soli...   \n",
       "78309  wednesday xx xx xxxx call chas xxxx xxxx visa ...   \n",
       "78310  familiar xxxx pay understand great risk provid...   \n",
       "78311  flawless credit yrs ve chase credit card chase...   \n",
       "78312  roughly year ago close account jp morgan chase...   \n",
       "\n",
       "                                   complaint_POS_removed  \\\n",
       "1      morning help bank service write chase debt ver...   \n",
       "2      card agent upgrade anniversary date change age...   \n",
       "10     chase card report application submit identity ...   \n",
       "11     book offer ticket reward card information minu...   \n",
       "14     son deposit chase account fund bank account pa...   \n",
       "...                                                  ...   \n",
       "78303  chase card customer decade solicitation credit...   \n",
       "78309  credit card provider ask claim purchase protec...   \n",
       "78310  xxxx risk consumer year trust mobile banking t...   \n",
       "78311  credit yrs credit card chase freedom problem t...   \n",
       "78312  year account order line credit account payment...   \n",
       "\n",
       "                                         Complaint_clean  \\\n",
       "1      morning help bank service write chase debt ver...   \n",
       "2      card agent upgrade anniversary date change age...   \n",
       "10     chase card report application submit identity ...   \n",
       "11     book offer ticket reward card information minu...   \n",
       "14     son deposit chase account fund bank account pa...   \n",
       "...                                                  ...   \n",
       "78303  chase card customer decade solicitation credit...   \n",
       "78309  credit card provider ask claim purchase protec...   \n",
       "78310   risk consumer year trust mobile banking tell ...   \n",
       "78311  credit yrs credit card chase freedom problem t...   \n",
       "78312  year account order line credit account payment...   \n",
       "\n",
       "                            Topic  \n",
       "1           Bank Account services  \n",
       "2         Theft/Dispute Reporting  \n",
       "10     Credit card / Prepaid card  \n",
       "11     Credit card / Prepaid card  \n",
       "14          Bank Account services  \n",
       "...                           ...  \n",
       "78303  Credit card / Prepaid card  \n",
       "78309     Theft/Dispute Reporting  \n",
       "78310     Theft/Dispute Reporting  \n",
       "78311               Mortgage/Loan  \n",
       "78312               Mortgage/Loan  \n",
       "\n",
       "[21072 rows x 5 columns]"
      ]
     },
     "execution_count": 236,
     "metadata": {},
     "output_type": "execute_result"
    }
   ],
   "source": [
    "#All masked texts has been removed\n",
    "df_clean"
   ]
  },
  {
   "cell_type": "code",
   "execution_count": 237,
   "metadata": {
    "execution": {
     "iopub.execute_input": "2024-04-23T11:59:56.961646Z",
     "iopub.status.busy": "2024-04-23T11:59:56.961278Z",
     "iopub.status.idle": "2024-04-23T11:59:56.967615Z",
     "shell.execute_reply": "2024-04-23T11:59:56.966610Z",
     "shell.execute_reply.started": "2024-04-23T11:59:56.961618Z"
    }
   },
   "outputs": [
    {
     "data": {
      "text/plain": [
       "(21072, 5)"
      ]
     },
     "execution_count": 237,
     "metadata": {},
     "output_type": "execute_result"
    }
   ],
   "source": [
    "df_clean.shape"
   ]
  },
  {
   "cell_type": "markdown",
   "metadata": {
    "id": "k-I0k0QtJrGA"
   },
   "source": [
    "## Feature Extraction\n",
    "Convert the raw texts to a matrix of TF-IDF features\n",
    "\n",
    "**max_df** is used for removing terms that appear too frequently, also known as \"corpus-specific stop words\"\n",
    "max_df = 0.95 means \"ignore terms that appear in more than 95% of the complaints\"\n",
    "\n",
    "**min_df** is used for removing terms that appear too infrequently\n",
    "min_df = 2 means \"ignore terms that appear in less than 2 complaints\""
   ]
  },
  {
   "cell_type": "code",
   "execution_count": 239,
   "metadata": {
    "execution": {
     "iopub.execute_input": "2024-04-23T12:00:29.829191Z",
     "iopub.status.busy": "2024-04-23T12:00:29.828830Z",
     "iopub.status.idle": "2024-04-23T12:00:29.834140Z",
     "shell.execute_reply": "2024-04-23T12:00:29.833109Z",
     "shell.execute_reply.started": "2024-04-23T12:00:29.829160Z"
    },
    "id": "Y8fGwaCPJrGA"
   },
   "outputs": [],
   "source": [
    "#Write your code here to initialise the TfidfVectorizer\n",
    "\n",
    "from sklearn.feature_extraction.text import TfidfVectorizer\n",
    "\n",
    "# Initialize the TfidfVectorizer with max_df and min_df parameters\n",
    "tfidf_vectorizer = TfidfVectorizer(max_df=0.95, min_df=2)\n",
    "\n"
   ]
  },
  {
   "cell_type": "markdown",
   "metadata": {
    "id": "yYzD85nTJrGA"
   },
   "source": [
    "#### Create a document term matrix using fit_transform\n",
    "\n",
    "The contents of a document term matrix are tuples of (complaint_id,token_id) tf-idf score:\n",
    "The tuples that are not there have a tf-idf score of 0"
   ]
  },
  {
   "cell_type": "code",
   "execution_count": 241,
   "metadata": {
    "execution": {
     "iopub.execute_input": "2024-04-23T12:00:39.522948Z",
     "iopub.status.busy": "2024-04-23T12:00:39.522209Z",
     "iopub.status.idle": "2024-04-23T12:00:40.717040Z",
     "shell.execute_reply": "2024-04-23T12:00:40.716087Z",
     "shell.execute_reply.started": "2024-04-23T12:00:39.522913Z"
    },
    "id": "ffzdDpp_JrGB"
   },
   "outputs": [],
   "source": [
    "#Write your code here to create the Document Term Matrix by transforming the complaints column present in df_clean.\n",
    "\n",
    "# Fit and transform the raw texts to TF-IDF features\n",
    "tfidf = tfidf_vectorizer.fit_transform(df_clean['Complaint_clean'])\n",
    "\n",
    "# Now tfidf_matrix contains the TF-IDF features of the texts"
   ]
  },
  {
   "cell_type": "code",
   "execution_count": 242,
   "metadata": {
    "execution": {
     "iopub.execute_input": "2024-04-23T12:00:45.038928Z",
     "iopub.status.busy": "2024-04-23T12:00:45.038569Z",
     "iopub.status.idle": "2024-04-23T12:00:45.043889Z",
     "shell.execute_reply": "2024-04-23T12:00:45.043155Z",
     "shell.execute_reply.started": "2024-04-23T12:00:45.038893Z"
    }
   },
   "outputs": [
    {
     "name": "stdout",
     "output_type": "stream",
     "text": [
      "(21072, 6107)\n"
     ]
    }
   ],
   "source": [
    "print(tfidf.shape)"
   ]
  },
  {
   "cell_type": "markdown",
   "metadata": {
    "id": "7Q9lwvNEJrGB"
   },
   "source": [
    "## Topic Modelling using NMF\n",
    "\n",
    "Non-Negative Matrix Factorization (NMF) is an unsupervised technique so there are no labeling of topics that the model will be trained on. The way it works is that, NMF decomposes (or factorizes) high-dimensional vectors into a lower-dimensional representation. These lower-dimensional vectors are non-negative which also means their coefficients are non-negative.\n",
    "\n",
    "In this task you have to perform the following:\n",
    "\n",
    "* Find the best number of clusters\n",
    "* Apply the best number to create word clusters\n",
    "* Inspect & validate the correction of each cluster wrt the complaints\n",
    "* Correct the labels if needed\n",
    "* Map the clusters to topics/cluster names"
   ]
  },
  {
   "cell_type": "code",
   "execution_count": 243,
   "metadata": {
    "execution": {
     "iopub.execute_input": "2024-04-23T12:00:49.056480Z",
     "iopub.status.busy": "2024-04-23T12:00:49.055790Z",
     "iopub.status.idle": "2024-04-23T12:00:49.060666Z",
     "shell.execute_reply": "2024-04-23T12:00:49.059593Z",
     "shell.execute_reply.started": "2024-04-23T12:00:49.056449Z"
    },
    "id": "amLT4omWJrGB"
   },
   "outputs": [],
   "source": [
    "from sklearn.decomposition import NMF"
   ]
  },
  {
   "cell_type": "markdown",
   "metadata": {
    "id": "0wYR1xUTJrGD"
   },
   "source": [
    "## Manual Topic Modeling\n",
    "You need to do take the trial & error approach to find the best num of topics for your NMF model.\n",
    "\n",
    "The only parameter that is required is the number of components i.e. the number of topics we want. This is the most crucial step in the whole topic modeling process and will greatly affect how good your final topics are."
   ]
  },
  {
   "cell_type": "code",
   "execution_count": 244,
   "metadata": {
    "execution": {
     "iopub.execute_input": "2024-04-23T12:00:52.384585Z",
     "iopub.status.busy": "2024-04-23T12:00:52.383857Z",
     "iopub.status.idle": "2024-04-23T12:00:52.389311Z",
     "shell.execute_reply": "2024-04-23T12:00:52.388118Z",
     "shell.execute_reply.started": "2024-04-23T12:00:52.384553Z"
    },
    "id": "sgd2A6bhJrGD"
   },
   "outputs": [],
   "source": [
    "#Load your nmf_model with the n_components i.e 5\n",
    "num_topics = 5#write the value you want to test out\n",
    "\n",
    "#keep the random_state =40\n",
    "nmf_model = NMF(n_components=num_topics, init='random', random_state=40) #write your code here\n"
   ]
  },
  {
   "cell_type": "code",
   "execution_count": 245,
   "metadata": {
    "execution": {
     "iopub.execute_input": "2024-04-23T12:00:59.854595Z",
     "iopub.status.busy": "2024-04-23T12:00:59.854205Z",
     "iopub.status.idle": "2024-04-23T12:01:01.338323Z",
     "shell.execute_reply": "2024-04-23T12:01:01.337344Z",
     "shell.execute_reply.started": "2024-04-23T12:00:59.854559Z"
    },
    "id": "VPMDYbt_JrGE"
   },
   "outputs": [
    {
     "data": {
      "text/plain": [
       "6107"
      ]
     },
     "execution_count": 245,
     "metadata": {},
     "output_type": "execute_result"
    }
   ],
   "source": [
    "nmf_model.fit(tfidf)\n",
    "len(tfidf_vectorizer.get_feature_names_out())"
   ]
  },
  {
   "cell_type": "code",
   "execution_count": 246,
   "metadata": {
    "execution": {
     "iopub.execute_input": "2024-04-23T12:01:02.738385Z",
     "iopub.status.busy": "2024-04-23T12:01:02.737544Z",
     "iopub.status.idle": "2024-04-23T12:01:02.750931Z",
     "shell.execute_reply": "2024-04-23T12:01:02.749880Z",
     "shell.execute_reply.started": "2024-04-23T12:01:02.738353Z"
    },
    "id": "16kRfat5JrGE"
   },
   "outputs": [
    {
     "name": "stdout",
     "output_type": "stream",
     "text": [
      "Topic 1:\n",
      "['chase,dispute,card,charge,transaction,claim,fraud,merchant,letter,call,email,number,phone,contact,purchase']\n",
      "\n",
      "Topic 2:\n",
      "['account,check,money,deposit,bank,fund,chase,branch,day,transfer,business,number,cash,call,reason']\n",
      "\n",
      "Topic 3:\n",
      "['payment,loan,mortgage,chase,month,modification,home,year,time,pay,interest,property,rate,auto,foreclosure']\n",
      "\n",
      "Topic 4:\n",
      "['credit,card,report,inquiry,account,score,chase,company,limit,debt,application,year,reporting,information,remove']\n",
      "\n",
      "Topic 5:\n",
      "['fee,charge,balance,interest,overdraft,card,pay,statement,month,rate,account,bill,purchase,transfer,payment']\n",
      "\n"
     ]
    }
   ],
   "source": [
    "#Print the Top15 words for each of the topics\n",
    "n_top_words = 15\n",
    "feature_names = tfidf_vectorizer.get_feature_names_out()\n",
    "\n",
    "for topic_idx, topic in enumerate(nmf_model.components_):\n",
    "    print(f\"Topic {topic_idx + 1}:\")\n",
    "    print([\",\".join([feature_names[i] for i in topic.argsort()[:-n_top_words - 1:-1]])])\n",
    "    print()"
   ]
  },
  {
   "cell_type": "code",
   "execution_count": 247,
   "metadata": {
    "execution": {
     "iopub.execute_input": "2024-04-23T12:01:07.308866Z",
     "iopub.status.busy": "2024-04-23T12:01:07.308040Z",
     "iopub.status.idle": "2024-04-23T12:01:07.340239Z",
     "shell.execute_reply": "2024-04-23T12:01:07.339327Z",
     "shell.execute_reply.started": "2024-04-23T12:01:07.308832Z"
    },
    "id": "0OIT7LmFJrGF"
   },
   "outputs": [
    {
     "data": {
      "text/plain": [
       "array([1, 0, 3, ..., 0, 2, 2])"
      ]
     },
     "execution_count": 247,
     "metadata": {},
     "output_type": "execute_result"
    }
   ],
   "source": [
    "#Create the best topic for each complaint in terms of integer value 0,1,2,3 & 4\n",
    "\n",
    "topic_values = nmf_model.transform(tfidf)\n",
    "topic_values.argmax(axis=1)\n"
   ]
  },
  {
   "cell_type": "code",
   "execution_count": 248,
   "metadata": {
    "execution": {
     "iopub.execute_input": "2024-04-23T12:01:10.445750Z",
     "iopub.status.busy": "2024-04-23T12:01:10.445051Z",
     "iopub.status.idle": "2024-04-23T12:01:10.450349Z",
     "shell.execute_reply": "2024-04-23T12:01:10.449458Z",
     "shell.execute_reply.started": "2024-04-23T12:01:10.445718Z"
    },
    "id": "peyYv-ORJrGF"
   },
   "outputs": [],
   "source": [
    "#Assign the best topic to each of the cmplaints in Topic Column\n",
    "\n",
    "df_clean['Topic'] = topic_values.argmax(axis=1) #write your code to assign topics to each rows."
   ]
  },
  {
   "cell_type": "code",
   "execution_count": 249,
   "metadata": {
    "execution": {
     "iopub.execute_input": "2024-04-23T12:01:14.528568Z",
     "iopub.status.busy": "2024-04-23T12:01:14.527954Z",
     "iopub.status.idle": "2024-04-23T12:01:14.534317Z",
     "shell.execute_reply": "2024-04-23T12:01:14.533452Z",
     "shell.execute_reply.started": "2024-04-23T12:01:14.528536Z"
    }
   },
   "outputs": [
    {
     "data": {
      "text/plain": [
       "(21072, 5)"
      ]
     },
     "execution_count": 249,
     "metadata": {},
     "output_type": "execute_result"
    }
   ],
   "source": [
    "df_clean.shape"
   ]
  },
  {
   "cell_type": "code",
   "execution_count": 250,
   "metadata": {
    "execution": {
     "iopub.execute_input": "2024-04-23T12:01:16.961336Z",
     "iopub.status.busy": "2024-04-23T12:01:16.960641Z",
     "iopub.status.idle": "2024-04-23T12:01:16.968718Z",
     "shell.execute_reply": "2024-04-23T12:01:16.967696Z",
     "shell.execute_reply.started": "2024-04-23T12:01:16.961308Z"
    },
    "id": "fLh_Gf3nJrGF"
   },
   "outputs": [
    {
     "data": {
      "text/plain": [
       "1     morning help bank service write chase debt ver...\n",
       "2     card agent upgrade anniversary date change age...\n",
       "10    chase card report application submit identity ...\n",
       "11    book offer ticket reward card information minu...\n",
       "14    son deposit chase account fund bank account pa...\n",
       "Name: Complaint_clean, dtype: object"
      ]
     },
     "execution_count": 250,
     "metadata": {},
     "output_type": "execute_result"
    }
   ],
   "source": [
    "df_clean.head()['Complaint_clean']"
   ]
  },
  {
   "cell_type": "code",
   "execution_count": 251,
   "metadata": {
    "execution": {
     "iopub.execute_input": "2024-04-23T12:01:22.505166Z",
     "iopub.status.busy": "2024-04-23T12:01:22.504321Z",
     "iopub.status.idle": "2024-04-23T12:01:22.523023Z",
     "shell.execute_reply": "2024-04-23T12:01:22.522092Z",
     "shell.execute_reply.started": "2024-04-23T12:01:22.505133Z"
    },
    "id": "aQKpufSPJrGG"
   },
   "outputs": [
    {
     "data": {
      "text/html": [
       "<div>\n",
       "<style scoped>\n",
       "    .dataframe tbody tr th:only-of-type {\n",
       "        vertical-align: middle;\n",
       "    }\n",
       "\n",
       "    .dataframe tbody tr th {\n",
       "        vertical-align: top;\n",
       "    }\n",
       "\n",
       "    .dataframe thead th {\n",
       "        text-align: right;\n",
       "    }\n",
       "</style>\n",
       "<table border=\"1\" class=\"dataframe\">\n",
       "  <thead>\n",
       "    <tr style=\"text-align: right;\">\n",
       "      <th></th>\n",
       "      <th>complaints</th>\n",
       "      <th>lemmatized</th>\n",
       "      <th>complaint_POS_removed</th>\n",
       "      <th>Complaint_clean</th>\n",
       "      <th>Topic</th>\n",
       "    </tr>\n",
       "  </thead>\n",
       "  <tbody>\n",
       "    <tr>\n",
       "      <th>2</th>\n",
       "      <td>i upgraded my xxxx xxxx card in xx xx and was ...</td>\n",
       "      <td>upgrade xxxx xxxx card xx xx tell agent upgrad...</td>\n",
       "      <td>card agent upgrade anniversary date change age...</td>\n",
       "      <td>card agent upgrade anniversary date change age...</td>\n",
       "      <td>0</td>\n",
       "    </tr>\n",
       "    <tr>\n",
       "      <th>32</th>\n",
       "      <td>my chase amazon card was declined for a cateri...</td>\n",
       "      <td>chase amazon card decline catering order place...</td>\n",
       "      <td>catering order place brother contact chase noo...</td>\n",
       "      <td>catering order place brother contact chase noo...</td>\n",
       "      <td>0</td>\n",
       "    </tr>\n",
       "    <tr>\n",
       "      <th>40</th>\n",
       "      <td>xxxx xxxx a sofa love seat table and chairs an...</td>\n",
       "      <td>xxxx xxxx sofa love seat table chair deliver d...</td>\n",
       "      <td>seat table chair deliver debit card charge ban...</td>\n",
       "      <td>seat table chair deliver debit card charge ban...</td>\n",
       "      <td>0</td>\n",
       "    </tr>\n",
       "    <tr>\n",
       "      <th>21</th>\n",
       "      <td>on xxxx xx xx i made a payment to an online re...</td>\n",
       "      <td>xxxx xx xx payment online retailer chase quick...</td>\n",
       "      <td>xxxx payment retailer chase pay website scam w...</td>\n",
       "      <td>payment retailer chase pay website scam websi...</td>\n",
       "      <td>0</td>\n",
       "    </tr>\n",
       "    <tr>\n",
       "      <th>43</th>\n",
       "      <td>chase sent me an email today with the innocuou...</td>\n",
       "      <td>chase send email today innocuous title importa...</td>\n",
       "      <td>chase email today title information change cha...</td>\n",
       "      <td>chase email today title information change cha...</td>\n",
       "      <td>0</td>\n",
       "    </tr>\n",
       "    <tr>\n",
       "      <th>24</th>\n",
       "      <td>mishandling of this account by chase auto and ...</td>\n",
       "      <td>mishandle account chase auto xxxx</td>\n",
       "      <td>mishandle account chase auto xxxx</td>\n",
       "      <td>mishandle account chase auto</td>\n",
       "      <td>1</td>\n",
       "    </tr>\n",
       "    <tr>\n",
       "      <th>17</th>\n",
       "      <td>with out notice j p morgan chase restricted my...</td>\n",
       "      <td>notice j p morgan chase restrict account debit...</td>\n",
       "      <td>account debit card branch customer service rep...</td>\n",
       "      <td>account debit card branch customer service rep...</td>\n",
       "      <td>1</td>\n",
       "    </tr>\n",
       "    <tr>\n",
       "      <th>1</th>\n",
       "      <td>good morning my name is xxxx xxxx and i apprec...</td>\n",
       "      <td>good morning xxxx xxxx appreciate help stop ch...</td>\n",
       "      <td>morning help bank service write chase debt ver...</td>\n",
       "      <td>morning help bank service write chase debt ver...</td>\n",
       "      <td>1</td>\n",
       "    </tr>\n",
       "    <tr>\n",
       "      <th>27</th>\n",
       "      <td>i opened an account with chase bank on xxxx an...</td>\n",
       "      <td>open account chase bank xxxx code xxxx bonus c...</td>\n",
       "      <td>account call term account xxxx deposit bonus p...</td>\n",
       "      <td>account call term account  deposit bonus pay d...</td>\n",
       "      <td>1</td>\n",
       "    </tr>\n",
       "    <tr>\n",
       "      <th>14</th>\n",
       "      <td>my grand son give me check for i deposit it in...</td>\n",
       "      <td>grand son check deposit chase account fund cle...</td>\n",
       "      <td>son deposit chase account fund bank account pa...</td>\n",
       "      <td>son deposit chase account fund bank account pa...</td>\n",
       "      <td>1</td>\n",
       "    </tr>\n",
       "    <tr>\n",
       "      <th>57</th>\n",
       "      <td>i have been trying to do a loan modification w...</td>\n",
       "      <td>try loan modification chase runaround m mo not...</td>\n",
       "      <td>loan modification chase payment</td>\n",
       "      <td>loan modification chase payment</td>\n",
       "      <td>2</td>\n",
       "    </tr>\n",
       "    <tr>\n",
       "      <th>20</th>\n",
       "      <td>during the summer months i experience a declin...</td>\n",
       "      <td>summer month experience decline income employm...</td>\n",
       "      <td>summer month experience income employment requ...</td>\n",
       "      <td>summer month experience income employment requ...</td>\n",
       "      <td>2</td>\n",
       "    </tr>\n",
       "    <tr>\n",
       "      <th>73</th>\n",
       "      <td>i have wired through one of chase branches in ...</td>\n",
       "      <td>wire chase branch xxxx xxxx exact reinstatemen...</td>\n",
       "      <td>wire chase branch reinstatement order foreclos...</td>\n",
       "      <td>wire chase branch reinstatement order foreclos...</td>\n",
       "      <td>2</td>\n",
       "    </tr>\n",
       "    <tr>\n",
       "      <th>58</th>\n",
       "      <td>i made a purchase of on xx xx xxxx i made paym...</td>\n",
       "      <td>purchase xx xx xxxx payment xx xx xxxx xx xx x...</td>\n",
       "      <td>xxxx payment xxxx xxxx payment closing date st...</td>\n",
       "      <td>payment   payment closing date statement stat...</td>\n",
       "      <td>2</td>\n",
       "    </tr>\n",
       "    <tr>\n",
       "      <th>81</th>\n",
       "      <td>i bought a new xxxx xxxx on xx xx xxxx from xx...</td>\n",
       "      <td>buy new xxxx xxxx xx xx xxxx xxxx xxxx xxxx xx...</td>\n",
       "      <td>xxxx loan release title contact chase time res...</td>\n",
       "      <td>loan release title contact chase time resolut...</td>\n",
       "      <td>2</td>\n",
       "    </tr>\n",
       "    <tr>\n",
       "      <th>10</th>\n",
       "      <td>chase card was reported on xx xx however fraud...</td>\n",
       "      <td>chase card report xx xx fraudulent application...</td>\n",
       "      <td>chase card report application submit identity ...</td>\n",
       "      <td>chase card report application submit identity ...</td>\n",
       "      <td>3</td>\n",
       "    </tr>\n",
       "    <tr>\n",
       "      <th>11</th>\n",
       "      <td>on xx xx while trying to book a xxxx xxxx tick...</td>\n",
       "      <td>xx xx try book xxxx xxxx ticket come offer app...</td>\n",
       "      <td>book offer ticket reward card information minu...</td>\n",
       "      <td>book offer ticket reward card information minu...</td>\n",
       "      <td>3</td>\n",
       "    </tr>\n",
       "    <tr>\n",
       "      <th>26</th>\n",
       "      <td>i have reached out to xxxx several times in at...</td>\n",
       "      <td>reach xxxx time attempt fraudulent inquiry rem...</td>\n",
       "      <td>time attempt inquiry remove need contact credi...</td>\n",
       "      <td>time attempt inquiry remove need contact credi...</td>\n",
       "      <td>3</td>\n",
       "    </tr>\n",
       "    <tr>\n",
       "      <th>23</th>\n",
       "      <td>i have a chase credit card which is incorrectl...</td>\n",
       "      <td>chase credit card incorrectly report datum cre...</td>\n",
       "      <td>chase credit card datum credit report company ...</td>\n",
       "      <td>chase credit card datum credit report company ...</td>\n",
       "      <td>3</td>\n",
       "    </tr>\n",
       "    <tr>\n",
       "      <th>15</th>\n",
       "      <td>can you please remove inquiry</td>\n",
       "      <td>remove inquiry</td>\n",
       "      <td>inquiry</td>\n",
       "      <td>inquiry</td>\n",
       "      <td>3</td>\n",
       "    </tr>\n",
       "    <tr>\n",
       "      <th>30</th>\n",
       "      <td>to whom it may concern chase bank charged wron...</td>\n",
       "      <td>concern chase bank charge wrongly overdraft fe...</td>\n",
       "      <td>concern bank overdraft fee alert balance fee b...</td>\n",
       "      <td>concern bank overdraft fee alert balance fee b...</td>\n",
       "      <td>4</td>\n",
       "    </tr>\n",
       "    <tr>\n",
       "      <th>63</th>\n",
       "      <td>i tried to send almost at xxxx and the transac...</td>\n",
       "      <td>try send xxxx transaction cancel have d charge...</td>\n",
       "      <td>transaction charge receive service refund card...</td>\n",
       "      <td>transaction charge receive service refund card...</td>\n",
       "      <td>4</td>\n",
       "    </tr>\n",
       "    <tr>\n",
       "      <th>160</th>\n",
       "      <td>on more than one occasion my bank chase has ch...</td>\n",
       "      <td>occasion bank chase charge multiple overdraft ...</td>\n",
       "      <td>chase overdraft fee account way process charge...</td>\n",
       "      <td>chase overdraft fee account way process charge...</td>\n",
       "      <td>4</td>\n",
       "    </tr>\n",
       "    <tr>\n",
       "      <th>177</th>\n",
       "      <td>on xx xx i noticed a suspicious charge on my ...</td>\n",
       "      <td>xx xx notice suspicious charge account amoun...</td>\n",
       "      <td>charge account amount email seller transaction...</td>\n",
       "      <td>charge account amount email seller transaction...</td>\n",
       "      <td>4</td>\n",
       "    </tr>\n",
       "    <tr>\n",
       "      <th>198</th>\n",
       "      <td>i overdrew my account due to errors related to...</td>\n",
       "      <td>overdraw account error relate xxxx xxxx transa...</td>\n",
       "      <td>overdraw account error overdraft fee payment f...</td>\n",
       "      <td>overdraw account error overdraft fee payment f...</td>\n",
       "      <td>4</td>\n",
       "    </tr>\n",
       "  </tbody>\n",
       "</table>\n",
       "</div>"
      ],
      "text/plain": [
       "                                            complaints  \\\n",
       "2    i upgraded my xxxx xxxx card in xx xx and was ...   \n",
       "32   my chase amazon card was declined for a cateri...   \n",
       "40   xxxx xxxx a sofa love seat table and chairs an...   \n",
       "21   on xxxx xx xx i made a payment to an online re...   \n",
       "43   chase sent me an email today with the innocuou...   \n",
       "24   mishandling of this account by chase auto and ...   \n",
       "17   with out notice j p morgan chase restricted my...   \n",
       "1    good morning my name is xxxx xxxx and i apprec...   \n",
       "27   i opened an account with chase bank on xxxx an...   \n",
       "14   my grand son give me check for i deposit it in...   \n",
       "57   i have been trying to do a loan modification w...   \n",
       "20   during the summer months i experience a declin...   \n",
       "73   i have wired through one of chase branches in ...   \n",
       "58   i made a purchase of on xx xx xxxx i made paym...   \n",
       "81   i bought a new xxxx xxxx on xx xx xxxx from xx...   \n",
       "10   chase card was reported on xx xx however fraud...   \n",
       "11   on xx xx while trying to book a xxxx xxxx tick...   \n",
       "26   i have reached out to xxxx several times in at...   \n",
       "23   i have a chase credit card which is incorrectl...   \n",
       "15                       can you please remove inquiry   \n",
       "30   to whom it may concern chase bank charged wron...   \n",
       "63   i tried to send almost at xxxx and the transac...   \n",
       "160  on more than one occasion my bank chase has ch...   \n",
       "177   on xx xx i noticed a suspicious charge on my ...   \n",
       "198  i overdrew my account due to errors related to...   \n",
       "\n",
       "                                            lemmatized  \\\n",
       "2    upgrade xxxx xxxx card xx xx tell agent upgrad...   \n",
       "32   chase amazon card decline catering order place...   \n",
       "40   xxxx xxxx sofa love seat table chair deliver d...   \n",
       "21   xxxx xx xx payment online retailer chase quick...   \n",
       "43   chase send email today innocuous title importa...   \n",
       "24                   mishandle account chase auto xxxx   \n",
       "17   notice j p morgan chase restrict account debit...   \n",
       "1    good morning xxxx xxxx appreciate help stop ch...   \n",
       "27   open account chase bank xxxx code xxxx bonus c...   \n",
       "14   grand son check deposit chase account fund cle...   \n",
       "57   try loan modification chase runaround m mo not...   \n",
       "20   summer month experience decline income employm...   \n",
       "73   wire chase branch xxxx xxxx exact reinstatemen...   \n",
       "58   purchase xx xx xxxx payment xx xx xxxx xx xx x...   \n",
       "81   buy new xxxx xxxx xx xx xxxx xxxx xxxx xxxx xx...   \n",
       "10   chase card report xx xx fraudulent application...   \n",
       "11   xx xx try book xxxx xxxx ticket come offer app...   \n",
       "26   reach xxxx time attempt fraudulent inquiry rem...   \n",
       "23   chase credit card incorrectly report datum cre...   \n",
       "15                                      remove inquiry   \n",
       "30   concern chase bank charge wrongly overdraft fe...   \n",
       "63   try send xxxx transaction cancel have d charge...   \n",
       "160  occasion bank chase charge multiple overdraft ...   \n",
       "177    xx xx notice suspicious charge account amoun...   \n",
       "198  overdraw account error relate xxxx xxxx transa...   \n",
       "\n",
       "                                 complaint_POS_removed  \\\n",
       "2    card agent upgrade anniversary date change age...   \n",
       "32   catering order place brother contact chase noo...   \n",
       "40   seat table chair deliver debit card charge ban...   \n",
       "21   xxxx payment retailer chase pay website scam w...   \n",
       "43   chase email today title information change cha...   \n",
       "24                   mishandle account chase auto xxxx   \n",
       "17   account debit card branch customer service rep...   \n",
       "1    morning help bank service write chase debt ver...   \n",
       "27   account call term account xxxx deposit bonus p...   \n",
       "14   son deposit chase account fund bank account pa...   \n",
       "57                     loan modification chase payment   \n",
       "20   summer month experience income employment requ...   \n",
       "73   wire chase branch reinstatement order foreclos...   \n",
       "58   xxxx payment xxxx xxxx payment closing date st...   \n",
       "81   xxxx loan release title contact chase time res...   \n",
       "10   chase card report application submit identity ...   \n",
       "11   book offer ticket reward card information minu...   \n",
       "26   time attempt inquiry remove need contact credi...   \n",
       "23   chase credit card datum credit report company ...   \n",
       "15                                             inquiry   \n",
       "30   concern bank overdraft fee alert balance fee b...   \n",
       "63   transaction charge receive service refund card...   \n",
       "160  chase overdraft fee account way process charge...   \n",
       "177  charge account amount email seller transaction...   \n",
       "198  overdraw account error overdraft fee payment f...   \n",
       "\n",
       "                                       Complaint_clean  Topic  \n",
       "2    card agent upgrade anniversary date change age...      0  \n",
       "32   catering order place brother contact chase noo...      0  \n",
       "40   seat table chair deliver debit card charge ban...      0  \n",
       "21    payment retailer chase pay website scam websi...      0  \n",
       "43   chase email today title information change cha...      0  \n",
       "24                       mishandle account chase auto       1  \n",
       "17   account debit card branch customer service rep...      1  \n",
       "1    morning help bank service write chase debt ver...      1  \n",
       "27   account call term account  deposit bonus pay d...      1  \n",
       "14   son deposit chase account fund bank account pa...      1  \n",
       "57                     loan modification chase payment      2  \n",
       "20   summer month experience income employment requ...      2  \n",
       "73   wire chase branch reinstatement order foreclos...      2  \n",
       "58    payment   payment closing date statement stat...      2  \n",
       "81    loan release title contact chase time resolut...      2  \n",
       "10   chase card report application submit identity ...      3  \n",
       "11   book offer ticket reward card information minu...      3  \n",
       "26   time attempt inquiry remove need contact credi...      3  \n",
       "23   chase credit card datum credit report company ...      3  \n",
       "15                                             inquiry      3  \n",
       "30   concern bank overdraft fee alert balance fee b...      4  \n",
       "63   transaction charge receive service refund card...      4  \n",
       "160  chase overdraft fee account way process charge...      4  \n",
       "177  charge account amount email seller transaction...      4  \n",
       "198  overdraw account error overdraft fee payment f...      4  "
      ]
     },
     "execution_count": 251,
     "metadata": {},
     "output_type": "execute_result"
    }
   ],
   "source": [
    "#Print the first 5 Complaint for each of the Topics\n",
    "df_clean_5=df_clean.groupby('Topic').head(5)\n",
    "df_clean_5.sort_values('Topic')\n"
   ]
  },
  {
   "cell_type": "code",
   "execution_count": 252,
   "metadata": {
    "execution": {
     "iopub.execute_input": "2024-04-23T12:01:26.940514Z",
     "iopub.status.busy": "2024-04-23T12:01:26.940131Z",
     "iopub.status.idle": "2024-04-23T12:01:26.946851Z",
     "shell.execute_reply": "2024-04-23T12:01:26.945812Z",
     "shell.execute_reply.started": "2024-04-23T12:01:26.940472Z"
    }
   },
   "outputs": [
    {
     "data": {
      "text/plain": [
       "(25, 5)"
      ]
     },
     "execution_count": 252,
     "metadata": {},
     "output_type": "execute_result"
    }
   ],
   "source": [
    " df_clean_5.shape"
   ]
  },
  {
   "cell_type": "markdown",
   "metadata": {
    "id": "piyLxzj6v07j"
   },
   "source": [
    "#### After evaluating the mapping, if the topics assigned are correct then assign these names to the relevant topic:\n",
    "* Bank Account services\n",
    "* Credit card or prepaid card\n",
    "* Theft/Dispute Reporting\n",
    "* Mortgage/Loan\n",
    "* Others"
   ]
  },
  {
   "cell_type": "code",
   "execution_count": 253,
   "metadata": {
    "execution": {
     "iopub.execute_input": "2024-04-23T12:01:34.816295Z",
     "iopub.status.busy": "2024-04-23T12:01:34.815367Z",
     "iopub.status.idle": "2024-04-23T12:01:34.822436Z",
     "shell.execute_reply": "2024-04-23T12:01:34.821683Z",
     "shell.execute_reply.started": "2024-04-23T12:01:34.816256Z"
    },
    "id": "TWpwDG4RJrGG"
   },
   "outputs": [],
   "source": [
    "#Create the dictionary of Topic names and Topics\n",
    "\n",
    "Topic_names = {\n",
    "    0: 'Theft/Dispute Reporting',\n",
    "    1: 'Bank Account services',\n",
    "    2: 'Mortgage/Loan',\n",
    "    3: 'Credit card / Prepaid card',\n",
    "    4: 'Others'\n",
    "}\n",
    "#Replace Topics with Topic Names\n",
    "df_clean['Topic'] = df_clean['Topic'].map(Topic_names)"
   ]
  },
  {
   "cell_type": "code",
   "execution_count": 254,
   "metadata": {
    "execution": {
     "iopub.execute_input": "2024-04-23T12:01:39.103070Z",
     "iopub.status.busy": "2024-04-23T12:01:39.102377Z",
     "iopub.status.idle": "2024-04-23T12:01:39.128871Z",
     "shell.execute_reply": "2024-04-23T12:01:39.127864Z",
     "shell.execute_reply.started": "2024-04-23T12:01:39.103038Z"
    },
    "id": "-2ULY5K6JrGG"
   },
   "outputs": [
    {
     "name": "stdout",
     "output_type": "stream",
     "text": [
      "<class 'pandas.core.frame.DataFrame'>\n",
      "Index: 21072 entries, 1 to 78312\n",
      "Data columns (total 5 columns):\n",
      " #   Column                 Non-Null Count  Dtype \n",
      "---  ------                 --------------  ----- \n",
      " 0   complaints             21072 non-null  object\n",
      " 1   lemmatized             21072 non-null  object\n",
      " 2   complaint_POS_removed  21072 non-null  object\n",
      " 3   Complaint_clean        21072 non-null  object\n",
      " 4   Topic                  21072 non-null  object\n",
      "dtypes: object(5)\n",
      "memory usage: 1.5+ MB\n"
     ]
    }
   ],
   "source": [
    "df_clean.info()\n"
   ]
  },
  {
   "cell_type": "code",
   "execution_count": 255,
   "metadata": {
    "execution": {
     "iopub.execute_input": "2024-04-23T12:01:41.866710Z",
     "iopub.status.busy": "2024-04-23T12:01:41.865731Z",
     "iopub.status.idle": "2024-04-23T12:01:41.872767Z",
     "shell.execute_reply": "2024-04-23T12:01:41.871916Z",
     "shell.execute_reply.started": "2024-04-23T12:01:41.866663Z"
    }
   },
   "outputs": [
    {
     "data": {
      "text/plain": [
       "(21072, 5)"
      ]
     },
     "execution_count": 255,
     "metadata": {},
     "output_type": "execute_result"
    }
   ],
   "source": [
    "df_clean.shape"
   ]
  },
  {
   "cell_type": "markdown",
   "metadata": {
    "id": "7Mu0QBOcJrGH"
   },
   "source": [
    "## Supervised model to predict any new complaints to the relevant Topics.\n",
    "\n",
    "You have now build the model to create the topics for each complaints.Now in the below section you will use them to classify any new complaints.\n",
    "\n",
    "Since you will be using supervised learning technique we have to convert the topic names to numbers(numpy arrays only understand numbers)"
   ]
  },
  {
   "cell_type": "code",
   "execution_count": 256,
   "metadata": {
    "execution": {
     "iopub.execute_input": "2024-04-23T12:01:45.028278Z",
     "iopub.status.busy": "2024-04-23T12:01:45.027422Z",
     "iopub.status.idle": "2024-04-23T12:01:45.041154Z",
     "shell.execute_reply": "2024-04-23T12:01:45.040299Z",
     "shell.execute_reply.started": "2024-04-23T12:01:45.028245Z"
    },
    "id": "BWIgJUkQJrGH"
   },
   "outputs": [
    {
     "data": {
      "text/html": [
       "<div>\n",
       "<style scoped>\n",
       "    .dataframe tbody tr th:only-of-type {\n",
       "        vertical-align: middle;\n",
       "    }\n",
       "\n",
       "    .dataframe tbody tr th {\n",
       "        vertical-align: top;\n",
       "    }\n",
       "\n",
       "    .dataframe thead th {\n",
       "        text-align: right;\n",
       "    }\n",
       "</style>\n",
       "<table border=\"1\" class=\"dataframe\">\n",
       "  <thead>\n",
       "    <tr style=\"text-align: right;\">\n",
       "      <th></th>\n",
       "      <th>complaints</th>\n",
       "      <th>lemmatized</th>\n",
       "      <th>complaint_POS_removed</th>\n",
       "      <th>Complaint_clean</th>\n",
       "      <th>Topic</th>\n",
       "    </tr>\n",
       "  </thead>\n",
       "  <tbody>\n",
       "    <tr>\n",
       "      <th>1</th>\n",
       "      <td>good morning my name is xxxx xxxx and i apprec...</td>\n",
       "      <td>good morning xxxx xxxx appreciate help stop ch...</td>\n",
       "      <td>morning help bank service write chase debt ver...</td>\n",
       "      <td>morning help bank service write chase debt ver...</td>\n",
       "      <td>Bank Account services</td>\n",
       "    </tr>\n",
       "    <tr>\n",
       "      <th>2</th>\n",
       "      <td>i upgraded my xxxx xxxx card in xx xx and was ...</td>\n",
       "      <td>upgrade xxxx xxxx card xx xx tell agent upgrad...</td>\n",
       "      <td>card agent upgrade anniversary date change age...</td>\n",
       "      <td>card agent upgrade anniversary date change age...</td>\n",
       "      <td>Theft/Dispute Reporting</td>\n",
       "    </tr>\n",
       "    <tr>\n",
       "      <th>10</th>\n",
       "      <td>chase card was reported on xx xx however fraud...</td>\n",
       "      <td>chase card report xx xx fraudulent application...</td>\n",
       "      <td>chase card report application submit identity ...</td>\n",
       "      <td>chase card report application submit identity ...</td>\n",
       "      <td>Credit card / Prepaid card</td>\n",
       "    </tr>\n",
       "    <tr>\n",
       "      <th>11</th>\n",
       "      <td>on xx xx while trying to book a xxxx xxxx tick...</td>\n",
       "      <td>xx xx try book xxxx xxxx ticket come offer app...</td>\n",
       "      <td>book offer ticket reward card information minu...</td>\n",
       "      <td>book offer ticket reward card information minu...</td>\n",
       "      <td>Credit card / Prepaid card</td>\n",
       "    </tr>\n",
       "    <tr>\n",
       "      <th>14</th>\n",
       "      <td>my grand son give me check for i deposit it in...</td>\n",
       "      <td>grand son check deposit chase account fund cle...</td>\n",
       "      <td>son deposit chase account fund bank account pa...</td>\n",
       "      <td>son deposit chase account fund bank account pa...</td>\n",
       "      <td>Bank Account services</td>\n",
       "    </tr>\n",
       "    <tr>\n",
       "      <th>...</th>\n",
       "      <td>...</td>\n",
       "      <td>...</td>\n",
       "      <td>...</td>\n",
       "      <td>...</td>\n",
       "      <td>...</td>\n",
       "    </tr>\n",
       "    <tr>\n",
       "      <th>78303</th>\n",
       "      <td>after being a chase card customer for well ove...</td>\n",
       "      <td>chase card customer decade offer multiple soli...</td>\n",
       "      <td>chase card customer decade solicitation credit...</td>\n",
       "      <td>chase card customer decade solicitation credit...</td>\n",
       "      <td>Credit card / Prepaid card</td>\n",
       "    </tr>\n",
       "    <tr>\n",
       "      <th>78309</th>\n",
       "      <td>on wednesday xx xx xxxx i called chas my xxxx ...</td>\n",
       "      <td>wednesday xx xx xxxx call chas xxxx xxxx visa ...</td>\n",
       "      <td>credit card provider ask claim purchase protec...</td>\n",
       "      <td>credit card provider ask claim purchase protec...</td>\n",
       "      <td>Theft/Dispute Reporting</td>\n",
       "    </tr>\n",
       "    <tr>\n",
       "      <th>78310</th>\n",
       "      <td>i am not familiar with xxxx pay and did not un...</td>\n",
       "      <td>familiar xxxx pay understand great risk provid...</td>\n",
       "      <td>xxxx risk consumer year trust mobile banking t...</td>\n",
       "      <td>risk consumer year trust mobile banking tell ...</td>\n",
       "      <td>Theft/Dispute Reporting</td>\n",
       "    </tr>\n",
       "    <tr>\n",
       "      <th>78311</th>\n",
       "      <td>i have had flawless credit for yrs i ve had ch...</td>\n",
       "      <td>flawless credit yrs ve chase credit card chase...</td>\n",
       "      <td>credit yrs credit card chase freedom problem t...</td>\n",
       "      <td>credit yrs credit card chase freedom problem t...</td>\n",
       "      <td>Mortgage/Loan</td>\n",
       "    </tr>\n",
       "    <tr>\n",
       "      <th>78312</th>\n",
       "      <td>roughly years ago i closed out my accounts wit...</td>\n",
       "      <td>roughly year ago close account jp morgan chase...</td>\n",
       "      <td>year account order line credit account payment...</td>\n",
       "      <td>year account order line credit account payment...</td>\n",
       "      <td>Mortgage/Loan</td>\n",
       "    </tr>\n",
       "  </tbody>\n",
       "</table>\n",
       "<p>21072 rows × 5 columns</p>\n",
       "</div>"
      ],
      "text/plain": [
       "                                              complaints  \\\n",
       "1      good morning my name is xxxx xxxx and i apprec...   \n",
       "2      i upgraded my xxxx xxxx card in xx xx and was ...   \n",
       "10     chase card was reported on xx xx however fraud...   \n",
       "11     on xx xx while trying to book a xxxx xxxx tick...   \n",
       "14     my grand son give me check for i deposit it in...   \n",
       "...                                                  ...   \n",
       "78303  after being a chase card customer for well ove...   \n",
       "78309  on wednesday xx xx xxxx i called chas my xxxx ...   \n",
       "78310  i am not familiar with xxxx pay and did not un...   \n",
       "78311  i have had flawless credit for yrs i ve had ch...   \n",
       "78312  roughly years ago i closed out my accounts wit...   \n",
       "\n",
       "                                              lemmatized  \\\n",
       "1      good morning xxxx xxxx appreciate help stop ch...   \n",
       "2      upgrade xxxx xxxx card xx xx tell agent upgrad...   \n",
       "10     chase card report xx xx fraudulent application...   \n",
       "11     xx xx try book xxxx xxxx ticket come offer app...   \n",
       "14     grand son check deposit chase account fund cle...   \n",
       "...                                                  ...   \n",
       "78303  chase card customer decade offer multiple soli...   \n",
       "78309  wednesday xx xx xxxx call chas xxxx xxxx visa ...   \n",
       "78310  familiar xxxx pay understand great risk provid...   \n",
       "78311  flawless credit yrs ve chase credit card chase...   \n",
       "78312  roughly year ago close account jp morgan chase...   \n",
       "\n",
       "                                   complaint_POS_removed  \\\n",
       "1      morning help bank service write chase debt ver...   \n",
       "2      card agent upgrade anniversary date change age...   \n",
       "10     chase card report application submit identity ...   \n",
       "11     book offer ticket reward card information minu...   \n",
       "14     son deposit chase account fund bank account pa...   \n",
       "...                                                  ...   \n",
       "78303  chase card customer decade solicitation credit...   \n",
       "78309  credit card provider ask claim purchase protec...   \n",
       "78310  xxxx risk consumer year trust mobile banking t...   \n",
       "78311  credit yrs credit card chase freedom problem t...   \n",
       "78312  year account order line credit account payment...   \n",
       "\n",
       "                                         Complaint_clean  \\\n",
       "1      morning help bank service write chase debt ver...   \n",
       "2      card agent upgrade anniversary date change age...   \n",
       "10     chase card report application submit identity ...   \n",
       "11     book offer ticket reward card information minu...   \n",
       "14     son deposit chase account fund bank account pa...   \n",
       "...                                                  ...   \n",
       "78303  chase card customer decade solicitation credit...   \n",
       "78309  credit card provider ask claim purchase protec...   \n",
       "78310   risk consumer year trust mobile banking tell ...   \n",
       "78311  credit yrs credit card chase freedom problem t...   \n",
       "78312  year account order line credit account payment...   \n",
       "\n",
       "                            Topic  \n",
       "1           Bank Account services  \n",
       "2         Theft/Dispute Reporting  \n",
       "10     Credit card / Prepaid card  \n",
       "11     Credit card / Prepaid card  \n",
       "14          Bank Account services  \n",
       "...                           ...  \n",
       "78303  Credit card / Prepaid card  \n",
       "78309     Theft/Dispute Reporting  \n",
       "78310     Theft/Dispute Reporting  \n",
       "78311               Mortgage/Loan  \n",
       "78312               Mortgage/Loan  \n",
       "\n",
       "[21072 rows x 5 columns]"
      ]
     },
     "execution_count": 256,
     "metadata": {},
     "output_type": "execute_result"
    }
   ],
   "source": [
    "df_clean"
   ]
  },
  {
   "cell_type": "code",
   "execution_count": 257,
   "metadata": {
    "execution": {
     "iopub.execute_input": "2024-04-23T12:01:48.627283Z",
     "iopub.status.busy": "2024-04-23T12:01:48.626907Z",
     "iopub.status.idle": "2024-04-23T12:01:48.638115Z",
     "shell.execute_reply": "2024-04-23T12:01:48.637081Z",
     "shell.execute_reply.started": "2024-04-23T12:01:48.627246Z"
    },
    "id": "Xx-FrbkWJrGH"
   },
   "outputs": [],
   "source": [
    "#Keep the columns\"complaint_what_happened\" & \"Topic\" only in the new dataframe --> training_data\n",
    "training_data=training_data = df_clean[[\"complaints\", \"Topic\"]].copy()"
   ]
  },
  {
   "cell_type": "code",
   "execution_count": 259,
   "metadata": {
    "execution": {
     "iopub.execute_input": "2024-04-23T12:05:24.737105Z",
     "iopub.status.busy": "2024-04-23T12:05:24.736694Z",
     "iopub.status.idle": "2024-04-23T12:05:24.748518Z",
     "shell.execute_reply": "2024-04-23T12:05:24.747526Z",
     "shell.execute_reply.started": "2024-04-23T12:05:24.737073Z"
    },
    "id": "lVg2pa12JrGI"
   },
   "outputs": [
    {
     "data": {
      "text/html": [
       "<div>\n",
       "<style scoped>\n",
       "    .dataframe tbody tr th:only-of-type {\n",
       "        vertical-align: middle;\n",
       "    }\n",
       "\n",
       "    .dataframe tbody tr th {\n",
       "        vertical-align: top;\n",
       "    }\n",
       "\n",
       "    .dataframe thead th {\n",
       "        text-align: right;\n",
       "    }\n",
       "</style>\n",
       "<table border=\"1\" class=\"dataframe\">\n",
       "  <thead>\n",
       "    <tr style=\"text-align: right;\">\n",
       "      <th></th>\n",
       "      <th>complaints</th>\n",
       "      <th>Topic</th>\n",
       "    </tr>\n",
       "  </thead>\n",
       "  <tbody>\n",
       "    <tr>\n",
       "      <th>1</th>\n",
       "      <td>good morning my name is xxxx xxxx and i apprec...</td>\n",
       "      <td>Bank Account services</td>\n",
       "    </tr>\n",
       "    <tr>\n",
       "      <th>2</th>\n",
       "      <td>i upgraded my xxxx xxxx card in xx xx and was ...</td>\n",
       "      <td>Theft/Dispute Reporting</td>\n",
       "    </tr>\n",
       "    <tr>\n",
       "      <th>10</th>\n",
       "      <td>chase card was reported on xx xx however fraud...</td>\n",
       "      <td>Credit card / Prepaid card</td>\n",
       "    </tr>\n",
       "    <tr>\n",
       "      <th>11</th>\n",
       "      <td>on xx xx while trying to book a xxxx xxxx tick...</td>\n",
       "      <td>Credit card / Prepaid card</td>\n",
       "    </tr>\n",
       "    <tr>\n",
       "      <th>14</th>\n",
       "      <td>my grand son give me check for i deposit it in...</td>\n",
       "      <td>Bank Account services</td>\n",
       "    </tr>\n",
       "    <tr>\n",
       "      <th>...</th>\n",
       "      <td>...</td>\n",
       "      <td>...</td>\n",
       "    </tr>\n",
       "    <tr>\n",
       "      <th>78303</th>\n",
       "      <td>after being a chase card customer for well ove...</td>\n",
       "      <td>Credit card / Prepaid card</td>\n",
       "    </tr>\n",
       "    <tr>\n",
       "      <th>78309</th>\n",
       "      <td>on wednesday xx xx xxxx i called chas my xxxx ...</td>\n",
       "      <td>Theft/Dispute Reporting</td>\n",
       "    </tr>\n",
       "    <tr>\n",
       "      <th>78310</th>\n",
       "      <td>i am not familiar with xxxx pay and did not un...</td>\n",
       "      <td>Theft/Dispute Reporting</td>\n",
       "    </tr>\n",
       "    <tr>\n",
       "      <th>78311</th>\n",
       "      <td>i have had flawless credit for yrs i ve had ch...</td>\n",
       "      <td>Mortgage/Loan</td>\n",
       "    </tr>\n",
       "    <tr>\n",
       "      <th>78312</th>\n",
       "      <td>roughly years ago i closed out my accounts wit...</td>\n",
       "      <td>Mortgage/Loan</td>\n",
       "    </tr>\n",
       "  </tbody>\n",
       "</table>\n",
       "<p>21072 rows × 2 columns</p>\n",
       "</div>"
      ],
      "text/plain": [
       "                                              complaints  \\\n",
       "1      good morning my name is xxxx xxxx and i apprec...   \n",
       "2      i upgraded my xxxx xxxx card in xx xx and was ...   \n",
       "10     chase card was reported on xx xx however fraud...   \n",
       "11     on xx xx while trying to book a xxxx xxxx tick...   \n",
       "14     my grand son give me check for i deposit it in...   \n",
       "...                                                  ...   \n",
       "78303  after being a chase card customer for well ove...   \n",
       "78309  on wednesday xx xx xxxx i called chas my xxxx ...   \n",
       "78310  i am not familiar with xxxx pay and did not un...   \n",
       "78311  i have had flawless credit for yrs i ve had ch...   \n",
       "78312  roughly years ago i closed out my accounts wit...   \n",
       "\n",
       "                            Topic  \n",
       "1           Bank Account services  \n",
       "2         Theft/Dispute Reporting  \n",
       "10     Credit card / Prepaid card  \n",
       "11     Credit card / Prepaid card  \n",
       "14          Bank Account services  \n",
       "...                           ...  \n",
       "78303  Credit card / Prepaid card  \n",
       "78309     Theft/Dispute Reporting  \n",
       "78310     Theft/Dispute Reporting  \n",
       "78311               Mortgage/Loan  \n",
       "78312               Mortgage/Loan  \n",
       "\n",
       "[21072 rows x 2 columns]"
      ]
     },
     "execution_count": 259,
     "metadata": {},
     "output_type": "execute_result"
    }
   ],
   "source": [
    "training_data"
   ]
  },
  {
   "cell_type": "code",
   "execution_count": 260,
   "metadata": {
    "execution": {
     "iopub.execute_input": "2024-04-23T12:05:27.973324Z",
     "iopub.status.busy": "2024-04-23T12:05:27.972436Z",
     "iopub.status.idle": "2024-04-23T12:05:28.003147Z",
     "shell.execute_reply": "2024-04-23T12:05:28.001952Z",
     "shell.execute_reply.started": "2024-04-23T12:05:27.973280Z"
    }
   },
   "outputs": [
    {
     "name": "stdout",
     "output_type": "stream",
     "text": [
      "<class 'pandas.core.frame.DataFrame'>\n",
      "Index: 21072 entries, 1 to 78312\n",
      "Data columns (total 5 columns):\n",
      " #   Column                 Non-Null Count  Dtype \n",
      "---  ------                 --------------  ----- \n",
      " 0   complaints             21072 non-null  object\n",
      " 1   lemmatized             21072 non-null  object\n",
      " 2   complaint_POS_removed  21072 non-null  object\n",
      " 3   Complaint_clean        21072 non-null  object\n",
      " 4   Topic                  21072 non-null  object\n",
      "dtypes: object(5)\n",
      "memory usage: 1.5+ MB\n"
     ]
    }
   ],
   "source": [
    "df_clean.info()"
   ]
  },
  {
   "cell_type": "markdown",
   "metadata": {
    "id": "280Vbqk-7a8M"
   },
   "source": [
    "####Apply the supervised models on the training data created. In this process, you have to do the following:\n",
    "* Create the vector counts using Count Vectoriser\n",
    "* Transform the word vecotr to tf-idf\n",
    "* Create the train & test data using the train_test_split on the tf-idf & topics\n"
   ]
  },
  {
   "cell_type": "code",
   "execution_count": 261,
   "metadata": {
    "execution": {
     "iopub.execute_input": "2024-04-23T12:05:30.836539Z",
     "iopub.status.busy": "2024-04-23T12:05:30.836143Z",
     "iopub.status.idle": "2024-04-23T12:05:35.596944Z",
     "shell.execute_reply": "2024-04-23T12:05:35.596116Z",
     "shell.execute_reply.started": "2024-04-23T12:05:30.836487Z"
    },
    "id": "oUlQpgkzJrGI"
   },
   "outputs": [],
   "source": [
    "from sklearn.feature_extraction.text import TfidfVectorizer, TfidfTransformer\n",
    "\n",
    "count_vect=CountVectorizer()\n",
    "#Write your code to get the Vector count\n",
    "X_train_counts=count_vect.fit_transform(training_data['complaints'])\n",
    "#Write your code here to transform the word vector to tf-idf\n",
    "tfidf_transformer=TfidfTransformer()\n",
    "X_train_tfidf=tfidf_transformer.fit_transform(X_train_counts)"
   ]
  },
  {
   "cell_type": "code",
   "execution_count": 262,
   "metadata": {
    "execution": {
     "iopub.execute_input": "2024-04-23T12:05:36.840880Z",
     "iopub.status.busy": "2024-04-23T12:05:36.840014Z",
     "iopub.status.idle": "2024-04-23T12:05:36.846572Z",
     "shell.execute_reply": "2024-04-23T12:05:36.845628Z",
     "shell.execute_reply.started": "2024-04-23T12:05:36.840846Z"
    }
   },
   "outputs": [
    {
     "data": {
      "text/plain": [
       "28025"
      ]
     },
     "execution_count": 262,
     "metadata": {},
     "output_type": "execute_result"
    }
   ],
   "source": [
    "X_train_tfidf.shape[1]"
   ]
  },
  {
   "cell_type": "code",
   "execution_count": 263,
   "metadata": {
    "execution": {
     "iopub.execute_input": "2024-04-23T12:05:39.518042Z",
     "iopub.status.busy": "2024-04-23T12:05:39.517652Z",
     "iopub.status.idle": "2024-04-23T12:05:39.592926Z",
     "shell.execute_reply": "2024-04-23T12:05:39.592129Z",
     "shell.execute_reply.started": "2024-04-23T12:05:39.518012Z"
    }
   },
   "outputs": [
    {
     "data": {
      "text/html": [
       "<div>                            <div id=\"922f9026-943a-4f93-8960-80a338bda6bc\" class=\"plotly-graph-div\" style=\"height:525px; width:100%;\"></div>            <script type=\"text/javascript\">                require([\"plotly\"], function(Plotly) {                    window.PLOTLYENV=window.PLOTLYENV || {};                                    if (document.getElementById(\"922f9026-943a-4f93-8960-80a338bda6bc\")) {                    Plotly.newPlot(                        \"922f9026-943a-4f93-8960-80a338bda6bc\",                        [{\"alignmentgroup\":\"True\",\"hovertemplate\":\"x=%{x}\\u003cbr\\u003ey=%{y}\\u003cextra\\u003e\\u003c\\u002fextra\\u003e\",\"legendgroup\":\"\",\"marker\":{\"color\":\"#636efa\",\"pattern\":{\"shape\":\"\"}},\"name\":\"\",\"offsetgroup\":\"\",\"orientation\":\"v\",\"showlegend\":false,\"textposition\":\"auto\",\"x\":[\"Bank Account services\",\"Theft\\u002fDispute Reporting\",\"Mortgage\\u002fLoan\",\"Credit card \\u002f Prepaid card\",\"Others\"],\"xaxis\":\"x\",\"y\":[1.0,0.918918918918919,0.8568709554625048,0.8264179672630377,0.4084507042253521],\"yaxis\":\"y\",\"type\":\"bar\"}],                        {\"template\":{\"data\":{\"histogram2dcontour\":[{\"type\":\"histogram2dcontour\",\"colorbar\":{\"outlinewidth\":0,\"ticks\":\"\"},\"colorscale\":[[0.0,\"#0d0887\"],[0.1111111111111111,\"#46039f\"],[0.2222222222222222,\"#7201a8\"],[0.3333333333333333,\"#9c179e\"],[0.4444444444444444,\"#bd3786\"],[0.5555555555555556,\"#d8576b\"],[0.6666666666666666,\"#ed7953\"],[0.7777777777777778,\"#fb9f3a\"],[0.8888888888888888,\"#fdca26\"],[1.0,\"#f0f921\"]]}],\"choropleth\":[{\"type\":\"choropleth\",\"colorbar\":{\"outlinewidth\":0,\"ticks\":\"\"}}],\"histogram2d\":[{\"type\":\"histogram2d\",\"colorbar\":{\"outlinewidth\":0,\"ticks\":\"\"},\"colorscale\":[[0.0,\"#0d0887\"],[0.1111111111111111,\"#46039f\"],[0.2222222222222222,\"#7201a8\"],[0.3333333333333333,\"#9c179e\"],[0.4444444444444444,\"#bd3786\"],[0.5555555555555556,\"#d8576b\"],[0.6666666666666666,\"#ed7953\"],[0.7777777777777778,\"#fb9f3a\"],[0.8888888888888888,\"#fdca26\"],[1.0,\"#f0f921\"]]}],\"heatmap\":[{\"type\":\"heatmap\",\"colorbar\":{\"outlinewidth\":0,\"ticks\":\"\"},\"colorscale\":[[0.0,\"#0d0887\"],[0.1111111111111111,\"#46039f\"],[0.2222222222222222,\"#7201a8\"],[0.3333333333333333,\"#9c179e\"],[0.4444444444444444,\"#bd3786\"],[0.5555555555555556,\"#d8576b\"],[0.6666666666666666,\"#ed7953\"],[0.7777777777777778,\"#fb9f3a\"],[0.8888888888888888,\"#fdca26\"],[1.0,\"#f0f921\"]]}],\"heatmapgl\":[{\"type\":\"heatmapgl\",\"colorbar\":{\"outlinewidth\":0,\"ticks\":\"\"},\"colorscale\":[[0.0,\"#0d0887\"],[0.1111111111111111,\"#46039f\"],[0.2222222222222222,\"#7201a8\"],[0.3333333333333333,\"#9c179e\"],[0.4444444444444444,\"#bd3786\"],[0.5555555555555556,\"#d8576b\"],[0.6666666666666666,\"#ed7953\"],[0.7777777777777778,\"#fb9f3a\"],[0.8888888888888888,\"#fdca26\"],[1.0,\"#f0f921\"]]}],\"contourcarpet\":[{\"type\":\"contourcarpet\",\"colorbar\":{\"outlinewidth\":0,\"ticks\":\"\"}}],\"contour\":[{\"type\":\"contour\",\"colorbar\":{\"outlinewidth\":0,\"ticks\":\"\"},\"colorscale\":[[0.0,\"#0d0887\"],[0.1111111111111111,\"#46039f\"],[0.2222222222222222,\"#7201a8\"],[0.3333333333333333,\"#9c179e\"],[0.4444444444444444,\"#bd3786\"],[0.5555555555555556,\"#d8576b\"],[0.6666666666666666,\"#ed7953\"],[0.7777777777777778,\"#fb9f3a\"],[0.8888888888888888,\"#fdca26\"],[1.0,\"#f0f921\"]]}],\"surface\":[{\"type\":\"surface\",\"colorbar\":{\"outlinewidth\":0,\"ticks\":\"\"},\"colorscale\":[[0.0,\"#0d0887\"],[0.1111111111111111,\"#46039f\"],[0.2222222222222222,\"#7201a8\"],[0.3333333333333333,\"#9c179e\"],[0.4444444444444444,\"#bd3786\"],[0.5555555555555556,\"#d8576b\"],[0.6666666666666666,\"#ed7953\"],[0.7777777777777778,\"#fb9f3a\"],[0.8888888888888888,\"#fdca26\"],[1.0,\"#f0f921\"]]}],\"mesh3d\":[{\"type\":\"mesh3d\",\"colorbar\":{\"outlinewidth\":0,\"ticks\":\"\"}}],\"scatter\":[{\"fillpattern\":{\"fillmode\":\"overlay\",\"size\":10,\"solidity\":0.2},\"type\":\"scatter\"}],\"parcoords\":[{\"type\":\"parcoords\",\"line\":{\"colorbar\":{\"outlinewidth\":0,\"ticks\":\"\"}}}],\"scatterpolargl\":[{\"type\":\"scatterpolargl\",\"marker\":{\"colorbar\":{\"outlinewidth\":0,\"ticks\":\"\"}}}],\"bar\":[{\"error_x\":{\"color\":\"#2a3f5f\"},\"error_y\":{\"color\":\"#2a3f5f\"},\"marker\":{\"line\":{\"color\":\"#E5ECF6\",\"width\":0.5},\"pattern\":{\"fillmode\":\"overlay\",\"size\":10,\"solidity\":0.2}},\"type\":\"bar\"}],\"scattergeo\":[{\"type\":\"scattergeo\",\"marker\":{\"colorbar\":{\"outlinewidth\":0,\"ticks\":\"\"}}}],\"scatterpolar\":[{\"type\":\"scatterpolar\",\"marker\":{\"colorbar\":{\"outlinewidth\":0,\"ticks\":\"\"}}}],\"histogram\":[{\"marker\":{\"pattern\":{\"fillmode\":\"overlay\",\"size\":10,\"solidity\":0.2}},\"type\":\"histogram\"}],\"scattergl\":[{\"type\":\"scattergl\",\"marker\":{\"colorbar\":{\"outlinewidth\":0,\"ticks\":\"\"}}}],\"scatter3d\":[{\"type\":\"scatter3d\",\"line\":{\"colorbar\":{\"outlinewidth\":0,\"ticks\":\"\"}},\"marker\":{\"colorbar\":{\"outlinewidth\":0,\"ticks\":\"\"}}}],\"scattermapbox\":[{\"type\":\"scattermapbox\",\"marker\":{\"colorbar\":{\"outlinewidth\":0,\"ticks\":\"\"}}}],\"scatterternary\":[{\"type\":\"scatterternary\",\"marker\":{\"colorbar\":{\"outlinewidth\":0,\"ticks\":\"\"}}}],\"scattercarpet\":[{\"type\":\"scattercarpet\",\"marker\":{\"colorbar\":{\"outlinewidth\":0,\"ticks\":\"\"}}}],\"carpet\":[{\"aaxis\":{\"endlinecolor\":\"#2a3f5f\",\"gridcolor\":\"white\",\"linecolor\":\"white\",\"minorgridcolor\":\"white\",\"startlinecolor\":\"#2a3f5f\"},\"baxis\":{\"endlinecolor\":\"#2a3f5f\",\"gridcolor\":\"white\",\"linecolor\":\"white\",\"minorgridcolor\":\"white\",\"startlinecolor\":\"#2a3f5f\"},\"type\":\"carpet\"}],\"table\":[{\"cells\":{\"fill\":{\"color\":\"#EBF0F8\"},\"line\":{\"color\":\"white\"}},\"header\":{\"fill\":{\"color\":\"#C8D4E3\"},\"line\":{\"color\":\"white\"}},\"type\":\"table\"}],\"barpolar\":[{\"marker\":{\"line\":{\"color\":\"#E5ECF6\",\"width\":0.5},\"pattern\":{\"fillmode\":\"overlay\",\"size\":10,\"solidity\":0.2}},\"type\":\"barpolar\"}],\"pie\":[{\"automargin\":true,\"type\":\"pie\"}]},\"layout\":{\"autotypenumbers\":\"strict\",\"colorway\":[\"#636efa\",\"#EF553B\",\"#00cc96\",\"#ab63fa\",\"#FFA15A\",\"#19d3f3\",\"#FF6692\",\"#B6E880\",\"#FF97FF\",\"#FECB52\"],\"font\":{\"color\":\"#2a3f5f\"},\"hovermode\":\"closest\",\"hoverlabel\":{\"align\":\"left\"},\"paper_bgcolor\":\"white\",\"plot_bgcolor\":\"#E5ECF6\",\"polar\":{\"bgcolor\":\"#E5ECF6\",\"angularaxis\":{\"gridcolor\":\"white\",\"linecolor\":\"white\",\"ticks\":\"\"},\"radialaxis\":{\"gridcolor\":\"white\",\"linecolor\":\"white\",\"ticks\":\"\"}},\"ternary\":{\"bgcolor\":\"#E5ECF6\",\"aaxis\":{\"gridcolor\":\"white\",\"linecolor\":\"white\",\"ticks\":\"\"},\"baxis\":{\"gridcolor\":\"white\",\"linecolor\":\"white\",\"ticks\":\"\"},\"caxis\":{\"gridcolor\":\"white\",\"linecolor\":\"white\",\"ticks\":\"\"}},\"coloraxis\":{\"colorbar\":{\"outlinewidth\":0,\"ticks\":\"\"}},\"colorscale\":{\"sequential\":[[0.0,\"#0d0887\"],[0.1111111111111111,\"#46039f\"],[0.2222222222222222,\"#7201a8\"],[0.3333333333333333,\"#9c179e\"],[0.4444444444444444,\"#bd3786\"],[0.5555555555555556,\"#d8576b\"],[0.6666666666666666,\"#ed7953\"],[0.7777777777777778,\"#fb9f3a\"],[0.8888888888888888,\"#fdca26\"],[1.0,\"#f0f921\"]],\"sequentialminus\":[[0.0,\"#0d0887\"],[0.1111111111111111,\"#46039f\"],[0.2222222222222222,\"#7201a8\"],[0.3333333333333333,\"#9c179e\"],[0.4444444444444444,\"#bd3786\"],[0.5555555555555556,\"#d8576b\"],[0.6666666666666666,\"#ed7953\"],[0.7777777777777778,\"#fb9f3a\"],[0.8888888888888888,\"#fdca26\"],[1.0,\"#f0f921\"]],\"diverging\":[[0,\"#8e0152\"],[0.1,\"#c51b7d\"],[0.2,\"#de77ae\"],[0.3,\"#f1b6da\"],[0.4,\"#fde0ef\"],[0.5,\"#f7f7f7\"],[0.6,\"#e6f5d0\"],[0.7,\"#b8e186\"],[0.8,\"#7fbc41\"],[0.9,\"#4d9221\"],[1,\"#276419\"]]},\"xaxis\":{\"gridcolor\":\"white\",\"linecolor\":\"white\",\"ticks\":\"\",\"title\":{\"standoff\":15},\"zerolinecolor\":\"white\",\"automargin\":true,\"zerolinewidth\":2},\"yaxis\":{\"gridcolor\":\"white\",\"linecolor\":\"white\",\"ticks\":\"\",\"title\":{\"standoff\":15},\"zerolinecolor\":\"white\",\"automargin\":true,\"zerolinewidth\":2},\"scene\":{\"xaxis\":{\"backgroundcolor\":\"#E5ECF6\",\"gridcolor\":\"white\",\"linecolor\":\"white\",\"showbackground\":true,\"ticks\":\"\",\"zerolinecolor\":\"white\",\"gridwidth\":2},\"yaxis\":{\"backgroundcolor\":\"#E5ECF6\",\"gridcolor\":\"white\",\"linecolor\":\"white\",\"showbackground\":true,\"ticks\":\"\",\"zerolinecolor\":\"white\",\"gridwidth\":2},\"zaxis\":{\"backgroundcolor\":\"#E5ECF6\",\"gridcolor\":\"white\",\"linecolor\":\"white\",\"showbackground\":true,\"ticks\":\"\",\"zerolinecolor\":\"white\",\"gridwidth\":2}},\"shapedefaults\":{\"line\":{\"color\":\"#2a3f5f\"}},\"annotationdefaults\":{\"arrowcolor\":\"#2a3f5f\",\"arrowhead\":0,\"arrowwidth\":1},\"geo\":{\"bgcolor\":\"white\",\"landcolor\":\"#E5ECF6\",\"subunitcolor\":\"white\",\"showland\":true,\"showlakes\":true,\"lakecolor\":\"white\"},\"title\":{\"x\":0.05},\"mapbox\":{\"style\":\"light\"}}},\"xaxis\":{\"anchor\":\"y\",\"domain\":[0.0,1.0],\"title\":{\"text\":\"x\"}},\"yaxis\":{\"anchor\":\"x\",\"domain\":[0.0,1.0],\"title\":{\"text\":\"y\"}},\"legend\":{\"tracegroupgap\":0},\"title\":{\"text\":\"Class Imbalance\"},\"barmode\":\"relative\"},                        {\"responsive\": true}                    ).then(function(){\n",
       "                            \n",
       "var gd = document.getElementById('922f9026-943a-4f93-8960-80a338bda6bc');\n",
       "var x = new MutationObserver(function (mutations, observer) {{\n",
       "        var display = window.getComputedStyle(gd).display;\n",
       "        if (!display || display === 'none') {{\n",
       "            console.log([gd, 'removed!']);\n",
       "            Plotly.purge(gd);\n",
       "            observer.disconnect();\n",
       "        }}\n",
       "}});\n",
       "\n",
       "// Listen for the removal of the full notebook cells\n",
       "var notebookContainer = gd.closest('#notebook-container');\n",
       "if (notebookContainer) {{\n",
       "    x.observe(notebookContainer, {childList: true});\n",
       "}}\n",
       "\n",
       "// Listen for the clearing of the current output cell\n",
       "var outputEl = gd.closest('.output');\n",
       "if (outputEl) {{\n",
       "    x.observe(outputEl, {childList: true});\n",
       "}}\n",
       "\n",
       "                        })                };                });            </script>        </div>"
      ]
     },
     "metadata": {},
     "output_type": "display_data"
    }
   ],
   "source": [
    "px.bar(x=training_data['Topic'].value_counts().index, y=training_data['Topic'].value_counts().values/max(training_data['Topic'].value_counts().values), title='Class Imbalance')"
   ]
  },
  {
   "cell_type": "code",
   "execution_count": null,
   "metadata": {},
   "outputs": [],
   "source": [
    "# Here we can see that, there is data imbalaced, but not much."
   ]
  },
  {
   "cell_type": "markdown",
   "metadata": {
    "id": "uMU3vj6w-wqL"
   },
   "source": [
    "You have to try atleast 3 models on the train & test data from these options:\n",
    "* Logistic regression\n",
    "* Decision Tree\n",
    "* Random Forest\n",
    "* Naive Bayes (optional)\n",
    "\n",
    "**Using the required evaluation metrics judge the tried models and select the ones performing the best**"
   ]
  },
  {
   "cell_type": "code",
   "execution_count": null,
   "metadata": {
    "id": "udLHpPsZJrGI"
   },
   "outputs": [],
   "source": [
    "# Write your code here to build any 3 models and evaluate them using the required metrics\n",
    "\n",
    "\n",
    "\n"
   ]
  },
  {
   "cell_type": "code",
   "execution_count": 264,
   "metadata": {
    "execution": {
     "iopub.execute_input": "2024-04-23T12:05:53.843886Z",
     "iopub.status.busy": "2024-04-23T12:05:53.843527Z",
     "iopub.status.idle": "2024-04-23T12:05:53.849735Z",
     "shell.execute_reply": "2024-04-23T12:05:53.848745Z",
     "shell.execute_reply.started": "2024-04-23T12:05:53.843858Z"
    },
    "id": "N2OznsObJrGP"
   },
   "outputs": [],
   "source": [
    "# importing libraries required for model building and evaluation\n",
    "from sklearn.linear_model import LogisticRegression\n",
    "from sklearn.tree import DecisionTreeClassifier\n",
    "from sklearn.ensemble import RandomForestClassifier\n",
    "from sklearn.naive_bayes import MultinomialNB\n",
    "from xgboost import XGBClassifier\n",
    "\n",
    "from sklearn.model_selection import StratifiedKFold,GridSearchCV,train_test_split\n",
    "\n",
    "from sklearn.metrics import roc_auc_score,accuracy_score,precision_score,recall_score,f1_score,classification_report\n",
    "from sklearn.metrics import confusion_matrix,ConfusionMatrixDisplay"
   ]
  },
  {
   "cell_type": "code",
   "execution_count": 265,
   "metadata": {
    "execution": {
     "iopub.execute_input": "2024-04-23T12:06:01.679837Z",
     "iopub.status.busy": "2024-04-23T12:06:01.679435Z",
     "iopub.status.idle": "2024-04-23T12:06:01.696434Z",
     "shell.execute_reply": "2024-04-23T12:06:01.695299Z",
     "shell.execute_reply.started": "2024-04-23T12:06:01.679808Z"
    }
   },
   "outputs": [],
   "source": [
    "from sklearn.model_selection import train_test_split\n",
    "# Train-Test split\n",
    "\n",
    "train_X, test_X, train_y, test_y = train_test_split(X_train_tfidf, training_data['Topic'], test_size=0.2, random_state=40)\n"
   ]
  },
  {
   "cell_type": "code",
   "execution_count": 266,
   "metadata": {
    "execution": {
     "iopub.execute_input": "2024-04-23T12:06:05.318584Z",
     "iopub.status.busy": "2024-04-23T12:06:05.317661Z",
     "iopub.status.idle": "2024-04-23T12:06:05.327563Z",
     "shell.execute_reply": "2024-04-23T12:06:05.326674Z",
     "shell.execute_reply.started": "2024-04-23T12:06:05.318546Z"
    }
   },
   "outputs": [
    {
     "name": "stdout",
     "output_type": "stream",
     "text": [
      "train_X shape:  (16857, 28025)\n",
      "train_y shape:  (16857,)\n",
      "test_X shape:  (4215, 28025)\n",
      "test_y shape:  (4215,)\n"
     ]
    }
   ],
   "source": [
    "print('train_X shape: ', train_X.shape)\n",
    "print('train_y shape: ', train_y.shape)\n",
    "print('test_X shape: ', test_X.shape)\n",
    "print('test_y shape: ', test_y.shape)"
   ]
  },
  {
   "cell_type": "code",
   "execution_count": 267,
   "metadata": {
    "execution": {
     "iopub.execute_input": "2024-04-23T12:06:08.203319Z",
     "iopub.status.busy": "2024-04-23T12:06:08.202463Z",
     "iopub.status.idle": "2024-04-23T12:06:08.208995Z",
     "shell.execute_reply": "2024-04-23T12:06:08.207883Z",
     "shell.execute_reply.started": "2024-04-23T12:06:08.203284Z"
    }
   },
   "outputs": [],
   "source": [
    "# importing libraries\n",
    "from sklearn.tree import DecisionTreeClassifier\n",
    "from sklearn.model_selection import StratifiedKFold\n",
    "from sklearn.model_selection import GridSearchCV\n",
    "from sklearn.metrics import accuracy_score\n",
    "from sklearn.metrics import precision_score\n",
    "from sklearn.metrics import recall_score\n",
    "from sklearn.metrics import f1_score\n",
    "from sklearn.metrics import roc_auc_score\n",
    "from sklearn.metrics import classification_report\n",
    "from sklearn.metrics import confusion_matrix\n",
    "from sklearn.metrics import ConfusionMatrixDisplay"
   ]
  },
  {
   "cell_type": "code",
   "execution_count": 268,
   "metadata": {
    "execution": {
     "iopub.execute_input": "2024-04-23T12:06:26.729834Z",
     "iopub.status.busy": "2024-04-23T12:06:26.729465Z",
     "iopub.status.idle": "2024-04-23T12:06:26.737711Z",
     "shell.execute_reply": "2024-04-23T12:06:26.736753Z",
     "shell.execute_reply.started": "2024-04-23T12:06:26.729806Z"
    }
   },
   "outputs": [],
   "source": [
    "# evaluate models\n",
    "def eval_model(y_test,y_pred,y_pred_proba,type='Training'):\n",
    "    print(type,'results')\n",
    "    print('Accuracy: ', accuracy_score(y_test,y_pred).round(2))\n",
    "    print('Precision: ', precision_score(y_test,y_pred,average='weighted').round(2))\n",
    "    print('Recall: ', recall_score(y_test,y_pred,average='weighted').round(2))\n",
    "    print('F1 Score: ', f1_score(y_test,y_pred,average='weighted').round(2))\n",
    "    print('ROC AUC Score: ', roc_auc_score(y_test,y_pred_proba,average='weighted',multi_class='ovr').round(2))\n",
    "    print('Classification Report: ', classification_report(y_test,y_pred))\n",
    "    cm = confusion_matrix(y_test,y_pred)\n",
    "    disp = ConfusionMatrixDisplay(confusion_matrix=cm,display_labels=training_data['Topic'].unique())\n",
    "    disp.plot()"
   ]
  },
  {
   "cell_type": "code",
   "execution_count": 269,
   "metadata": {
    "execution": {
     "iopub.execute_input": "2024-04-23T12:06:31.813345Z",
     "iopub.status.busy": "2024-04-23T12:06:31.812718Z",
     "iopub.status.idle": "2024-04-23T12:06:31.818765Z",
     "shell.execute_reply": "2024-04-23T12:06:31.817773Z",
     "shell.execute_reply.started": "2024-04-23T12:06:31.813310Z"
    }
   },
   "outputs": [],
   "source": [
    "# run model\n",
    "def run_model(model,param_grid):\n",
    "    cv=StratifiedKFold(n_splits=5,shuffle=True,random_state=40)\n",
    "    grid=GridSearchCV(model,param_grid={},cv=cv,scoring='f1_weighted',verbose=1,n_jobs=-1)\n",
    "    grid.fit(train_X,train_y)\n",
    "    return grid.best_estimator_"
   ]
  },
  {
   "cell_type": "markdown",
   "metadata": {},
   "source": [
    "**1. Logistic Regression**"
   ]
  },
  {
   "cell_type": "code",
   "execution_count": 270,
   "metadata": {
    "execution": {
     "iopub.execute_input": "2024-04-23T12:06:34.622716Z",
     "iopub.status.busy": "2024-04-23T12:06:34.622255Z",
     "iopub.status.idle": "2024-04-23T12:07:04.319360Z",
     "shell.execute_reply": "2024-04-23T12:07:04.318345Z",
     "shell.execute_reply.started": "2024-04-23T12:06:34.622684Z"
    }
   },
   "outputs": [
    {
     "name": "stdout",
     "output_type": "stream",
     "text": [
      "Fitting 5 folds for each of 1 candidates, totalling 5 fits\n"
     ]
    },
    {
     "name": "stderr",
     "output_type": "stream",
     "text": [
      "/opt/conda/lib/python3.10/site-packages/sklearn/linear_model/_logistic.py:458: ConvergenceWarning: lbfgs failed to converge (status=1):\n",
      "STOP: TOTAL NO. of ITERATIONS REACHED LIMIT.\n",
      "\n",
      "Increase the number of iterations (max_iter) or scale the data as shown in:\n",
      "    https://scikit-learn.org/stable/modules/preprocessing.html\n",
      "Please also refer to the documentation for alternative solver options:\n",
      "    https://scikit-learn.org/stable/modules/linear_model.html#logistic-regression\n",
      "  n_iter_i = _check_optimize_result(\n",
      "/opt/conda/lib/python3.10/site-packages/sklearn/linear_model/_logistic.py:458: ConvergenceWarning: lbfgs failed to converge (status=1):\n",
      "STOP: TOTAL NO. of ITERATIONS REACHED LIMIT.\n",
      "\n",
      "Increase the number of iterations (max_iter) or scale the data as shown in:\n",
      "    https://scikit-learn.org/stable/modules/preprocessing.html\n",
      "Please also refer to the documentation for alternative solver options:\n",
      "    https://scikit-learn.org/stable/modules/linear_model.html#logistic-regression\n",
      "  n_iter_i = _check_optimize_result(\n",
      "/opt/conda/lib/python3.10/site-packages/sklearn/linear_model/_logistic.py:458: ConvergenceWarning: lbfgs failed to converge (status=1):\n",
      "STOP: TOTAL NO. of ITERATIONS REACHED LIMIT.\n",
      "\n",
      "Increase the number of iterations (max_iter) or scale the data as shown in:\n",
      "    https://scikit-learn.org/stable/modules/preprocessing.html\n",
      "Please also refer to the documentation for alternative solver options:\n",
      "    https://scikit-learn.org/stable/modules/linear_model.html#logistic-regression\n",
      "  n_iter_i = _check_optimize_result(\n",
      "/opt/conda/lib/python3.10/site-packages/sklearn/linear_model/_logistic.py:458: ConvergenceWarning: lbfgs failed to converge (status=1):\n",
      "STOP: TOTAL NO. of ITERATIONS REACHED LIMIT.\n",
      "\n",
      "Increase the number of iterations (max_iter) or scale the data as shown in:\n",
      "    https://scikit-learn.org/stable/modules/preprocessing.html\n",
      "Please also refer to the documentation for alternative solver options:\n",
      "    https://scikit-learn.org/stable/modules/linear_model.html#logistic-regression\n",
      "  n_iter_i = _check_optimize_result(\n",
      "/opt/conda/lib/python3.10/site-packages/sklearn/linear_model/_logistic.py:458: ConvergenceWarning: lbfgs failed to converge (status=1):\n",
      "STOP: TOTAL NO. of ITERATIONS REACHED LIMIT.\n",
      "\n",
      "Increase the number of iterations (max_iter) or scale the data as shown in:\n",
      "    https://scikit-learn.org/stable/modules/preprocessing.html\n",
      "Please also refer to the documentation for alternative solver options:\n",
      "    https://scikit-learn.org/stable/modules/linear_model.html#logistic-regression\n",
      "  n_iter_i = _check_optimize_result(\n",
      "/opt/conda/lib/python3.10/site-packages/sklearn/linear_model/_logistic.py:458: ConvergenceWarning:\n",
      "\n",
      "lbfgs failed to converge (status=1):\n",
      "STOP: TOTAL NO. of ITERATIONS REACHED LIMIT.\n",
      "\n",
      "Increase the number of iterations (max_iter) or scale the data as shown in:\n",
      "    https://scikit-learn.org/stable/modules/preprocessing.html\n",
      "Please also refer to the documentation for alternative solver options:\n",
      "    https://scikit-learn.org/stable/modules/linear_model.html#logistic-regression\n",
      "\n"
     ]
    },
    {
     "name": "stdout",
     "output_type": "stream",
     "text": [
      "Training results\n",
      "Accuracy:  0.96\n",
      "Precision:  0.96\n",
      "Recall:  0.96\n",
      "F1 Score:  0.96\n",
      "ROC AUC Score:  1.0\n",
      "Classification Report:                              precision    recall  f1-score   support\n",
      "\n",
      "     Bank Account services       0.96      0.97      0.96      4203\n",
      "Credit card / Prepaid card       0.97      0.97      0.97      3459\n",
      "             Mortgage/Loan       0.97      0.97      0.97      3622\n",
      "                    Others       0.98      0.90      0.94      1701\n",
      "   Theft/Dispute Reporting       0.94      0.96      0.95      3872\n",
      "\n",
      "                  accuracy                           0.96     16857\n",
      "                 macro avg       0.96      0.95      0.96     16857\n",
      "              weighted avg       0.96      0.96      0.96     16857\n",
      "\n",
      "Test results\n",
      "Accuracy:  0.91\n",
      "Precision:  0.91\n",
      "Recall:  0.91\n",
      "F1 Score:  0.91\n",
      "ROC AUC Score:  0.99\n",
      "Classification Report:                              precision    recall  f1-score   support\n",
      "\n",
      "     Bank Account services       0.92      0.93      0.93      1051\n",
      "Credit card / Prepaid card       0.94      0.92      0.93       883\n",
      "             Mortgage/Loan       0.92      0.95      0.94       880\n",
      "                    Others       0.95      0.80      0.87       445\n",
      "   Theft/Dispute Reporting       0.86      0.90      0.88       956\n",
      "\n",
      "                  accuracy                           0.91      4215\n",
      "                 macro avg       0.92      0.90      0.91      4215\n",
      "              weighted avg       0.91      0.91      0.91      4215\n",
      "\n"
     ]
    },
    {
     "data": {
      "image/png": "[encoded data removed]",
      "text/plain": [
       "<Figure size 640x480 with 2 Axes>"
      ]
     },
     "metadata": {},
     "output_type": "display_data"
    },
    {
     "data": {
      "image/png": "[encoded data removed]",
      "text/plain": [
       "<Figure size 640x480 with 2 Axes>"
      ]
     },
     "metadata": {},
     "output_type": "display_data"
    }
   ],
   "source": [
    "#running and evaluating the Logistic Regression model\n",
    "params = {\n",
    "    'C': [0.001, 0.01, 0.1, 1, 10, 100],\n",
    "    'penalty': ['l1', 'l2', 'elasticnet', 'none'],\n",
    "    'solver': ['newton-cg', 'lbfgs', 'liblinear', 'sag', 'saga'],\n",
    "    'max_iter': [100, 200, 300, 500, 1000],\n",
    "    'class_weight': [None, 'balanced']\n",
    "}\n",
    "lr_model=run_model(LogisticRegression(),params)\n",
    "eval_model(train_y,lr_model.predict(train_X),lr_model.predict_proba(train_X),type='Training')\n",
    "eval_model(test_y,lr_model.predict(test_X),lr_model.predict_proba(test_X),type='Test')"
   ]
  },
  {
   "cell_type": "markdown",
   "metadata": {},
   "source": [
    " **2. Decision Tree**"
   ]
  },
  {
   "cell_type": "code",
   "execution_count": 271,
   "metadata": {
    "execution": {
     "iopub.execute_input": "2024-04-23T12:07:04.321589Z",
     "iopub.status.busy": "2024-04-23T12:07:04.321266Z",
     "iopub.status.idle": "2024-04-23T12:07:48.687421Z",
     "shell.execute_reply": "2024-04-23T12:07:48.686444Z",
     "shell.execute_reply.started": "2024-04-23T12:07:04.321560Z"
    }
   },
   "outputs": [
    {
     "name": "stdout",
     "output_type": "stream",
     "text": [
      "Fitting 5 folds for each of 1 candidates, totalling 5 fits\n",
      "Training results\n",
      "Accuracy:  1.0\n",
      "Precision:  1.0\n",
      "Recall:  1.0\n",
      "F1 Score:  1.0\n",
      "ROC AUC Score:  1.0\n",
      "Classification Report:                              precision    recall  f1-score   support\n",
      "\n",
      "     Bank Account services       1.00      1.00      1.00      4203\n",
      "Credit card / Prepaid card       1.00      1.00      1.00      3459\n",
      "             Mortgage/Loan       1.00      1.00      1.00      3622\n",
      "                    Others       1.00      1.00      1.00      1701\n",
      "   Theft/Dispute Reporting       1.00      1.00      1.00      3872\n",
      "\n",
      "                  accuracy                           1.00     16857\n",
      "                 macro avg       1.00      1.00      1.00     16857\n",
      "              weighted avg       1.00      1.00      1.00     16857\n",
      "\n",
      "Test results\n",
      "Accuracy:  0.75\n",
      "Precision:  0.75\n",
      "Recall:  0.75\n",
      "F1 Score:  0.75\n",
      "ROC AUC Score:  0.84\n",
      "Classification Report:                              precision    recall  f1-score   support\n",
      "\n",
      "     Bank Account services       0.77      0.77      0.77      1051\n",
      "Credit card / Prepaid card       0.79      0.75      0.77       883\n",
      "             Mortgage/Loan       0.81      0.80      0.81       880\n",
      "                    Others       0.66      0.64      0.65       445\n",
      "   Theft/Dispute Reporting       0.67      0.72      0.70       956\n",
      "\n",
      "                  accuracy                           0.75      4215\n",
      "                 macro avg       0.74      0.74      0.74      4215\n",
      "              weighted avg       0.75      0.75      0.75      4215\n",
      "\n"
     ]
    },
    {
     "data": {
      "image/png": "[encoded data removed]",
      "text/plain": [
       "<Figure size 640x480 with 2 Axes>"
      ]
     },
     "metadata": {},
     "output_type": "display_data"
    },
    {
     "data": {
      "image/png": "[encoded data removed]",
      "text/plain": [
       "<Figure size 640x480 with 2 Axes>"
      ]
     },
     "metadata": {},
     "output_type": "display_data"
    }
   ],
   "source": [
    "#running and evaluating the Decision Tree model\n",
    "params = {\n",
    "    'criterion': ['gini', 'entropy'],\n",
    "    'splitter': ['best', 'random'],\n",
    "    'max_depth': [None, 2, 4, 6, 8, 10,12],\n",
    "    'min_samples_split': [2, 4, 6, 8, 10,15],\n",
    "    'min_samples_leaf': [1, 2, 4, 6, 8, 10,12],\n",
    "    'max_features': [None, 'auto', 'sqrt', 'log2']\n",
    "}\n",
    "dtr_model=run_model(DecisionTreeClassifier(),params)\n",
    "eval_model(train_y,dtr_model.predict(train_X),dtr_model.predict_proba(train_X),type='Training')\n",
    "eval_model(test_y,dtr_model.predict(test_X),dtr_model.predict_proba(test_X),type='Test')"
   ]
  },
  {
   "cell_type": "markdown",
   "metadata": {},
   "source": [
    "**3. Random Forest**"
   ]
  },
  {
   "cell_type": "code",
   "execution_count": 272,
   "metadata": {
    "execution": {
     "iopub.execute_input": "2024-04-23T12:07:48.688777Z",
     "iopub.status.busy": "2024-04-23T12:07:48.688484Z",
     "iopub.status.idle": "2024-04-23T12:09:57.662807Z",
     "shell.execute_reply": "2024-04-23T12:09:57.661791Z",
     "shell.execute_reply.started": "2024-04-23T12:07:48.688753Z"
    }
   },
   "outputs": [
    {
     "name": "stdout",
     "output_type": "stream",
     "text": [
      "Fitting 5 folds for each of 1 candidates, totalling 5 fits\n",
      "Training results\n",
      "Accuracy:  1.0\n",
      "Precision:  1.0\n",
      "Recall:  1.0\n",
      "F1 Score:  1.0\n",
      "ROC AUC Score:  1.0\n",
      "Classification Report:                              precision    recall  f1-score   support\n",
      "\n",
      "     Bank Account services       1.00      1.00      1.00      4203\n",
      "Credit card / Prepaid card       1.00      1.00      1.00      3459\n",
      "             Mortgage/Loan       1.00      1.00      1.00      3622\n",
      "                    Others       1.00      1.00      1.00      1701\n",
      "   Theft/Dispute Reporting       1.00      1.00      1.00      3872\n",
      "\n",
      "                  accuracy                           1.00     16857\n",
      "                 macro avg       1.00      1.00      1.00     16857\n",
      "              weighted avg       1.00      1.00      1.00     16857\n",
      "\n",
      "Test results\n",
      "Accuracy:  0.81\n",
      "Precision:  0.82\n",
      "Recall:  0.81\n",
      "F1 Score:  0.81\n",
      "ROC AUC Score:  0.97\n",
      "Classification Report:                              precision    recall  f1-score   support\n",
      "\n",
      "     Bank Account services       0.79      0.90      0.85      1051\n",
      "Credit card / Prepaid card       0.83      0.84      0.83       883\n",
      "             Mortgage/Loan       0.83      0.89      0.86       880\n",
      "                    Others       0.93      0.54      0.69       445\n",
      "   Theft/Dispute Reporting       0.78      0.75      0.76       956\n",
      "\n",
      "                  accuracy                           0.81      4215\n",
      "                 macro avg       0.83      0.78      0.80      4215\n",
      "              weighted avg       0.82      0.81      0.81      4215\n",
      "\n"
     ]
    },
    {
     "data": {
      "image/png": "[encoded data removed]",
      "text/plain": [
       "<Figure size 640x480 with 2 Axes>"
      ]
     },
     "metadata": {},
     "output_type": "display_data"
    },
    {
     "data": {
      "image/png": "[encoded data removed]",
      "text/plain": [
       "<Figure size 640x480 with 2 Axes>"
      ]
     },
     "metadata": {},
     "output_type": "display_data"
    }
   ],
   "source": [
    "#running and evaluating the Random Forest model\n",
    "params = {\n",
    "    'n_estimators': [10, 50, 100, 200, 400,500],\n",
    "    'criterion': ['gini', 'entropy'],\n",
    "    'max_depth': [None, 2, 4, 6, 8, 10,15],\n",
    "    'min_samples_split': [2, 4, 6, 8, 10,20],\n",
    "    'min_samples_leaf': [1, 2, 4, 6, 8, 10,12],\n",
    "    'max_features': [None, 'auto', 'sqrt', 'log2'],\n",
    "    'bootstrap': [True, False]\n",
    "}\n",
    "rf_model=run_model(RandomForestClassifier(),params)\n",
    "eval_model(train_y,rf_model.predict(train_X),rf_model.predict_proba(train_X),type='Training')\n",
    "eval_model(test_y,rf_model.predict(test_X),rf_model.predict_proba(test_X),type='Test')"
   ]
  },
  {
   "cell_type": "markdown",
   "metadata": {},
   "source": [
    "**4. Multinomial Naive Bayes**"
   ]
  },
  {
   "cell_type": "code",
   "execution_count": 274,
   "metadata": {
    "execution": {
     "iopub.execute_input": "2024-04-23T12:10:00.442963Z",
     "iopub.status.busy": "2024-04-23T12:10:00.442627Z",
     "iopub.status.idle": "2024-04-23T12:10:03.251998Z",
     "shell.execute_reply": "2024-04-23T12:10:03.251018Z",
     "shell.execute_reply.started": "2024-04-23T12:10:00.442935Z"
    }
   },
   "outputs": [
    {
     "name": "stdout",
     "output_type": "stream",
     "text": [
      "Fitting 5 folds for each of 1 candidates, totalling 5 fits\n",
      "Training results\n",
      "Accuracy:  0.74\n",
      "Precision:  0.77\n",
      "Recall:  0.74\n",
      "F1 Score:  0.7\n",
      "ROC AUC Score:  0.96\n",
      "Classification Report:                              precision    recall  f1-score   support\n",
      "\n",
      "     Bank Account services       0.65      0.93      0.77      4203\n",
      "Credit card / Prepaid card       0.86      0.66      0.75      3459\n",
      "             Mortgage/Loan       0.77      0.87      0.82      3622\n",
      "                    Others       1.00      0.05      0.10      1701\n",
      "   Theft/Dispute Reporting       0.74      0.76      0.75      3872\n",
      "\n",
      "                  accuracy                           0.74     16857\n",
      "                 macro avg       0.80      0.66      0.64     16857\n",
      "              weighted avg       0.77      0.74      0.70     16857\n",
      "\n",
      "Test results\n",
      "Accuracy:  0.7\n",
      "Precision:  0.75\n",
      "Recall:  0.7\n",
      "F1 Score:  0.67\n",
      "ROC AUC Score:  0.94\n",
      "Classification Report:                              precision    recall  f1-score   support\n",
      "\n",
      "     Bank Account services       0.63      0.93      0.75      1051\n",
      "Credit card / Prepaid card       0.84      0.61      0.71       883\n",
      "             Mortgage/Loan       0.74      0.85      0.79       880\n",
      "                    Others       1.00      0.04      0.07       445\n",
      "   Theft/Dispute Reporting       0.68      0.71      0.70       956\n",
      "\n",
      "                  accuracy                           0.70      4215\n",
      "                 macro avg       0.78      0.63      0.60      4215\n",
      "              weighted avg       0.75      0.70      0.67      4215\n",
      "\n"
     ]
    },
    {
     "data": {
      "image/png": "[encoded data removed]",
      "text/plain": [
       "<Figure size 640x480 with 2 Axes>"
      ]
     },
     "metadata": {},
     "output_type": "display_data"
    },
    {
     "data": {
      "image/png": "[encoded data removed]",
      "text/plain": [
       "<Figure size 640x480 with 2 Axes>"
      ]
     },
     "metadata": {},
     "output_type": "display_data"
    }
   ],
   "source": [
    "#running and evaluating the  Multinomial Naive Bayes\n",
    "params = {\n",
    "    'n_estimators': [10, 50, 100, 200, 400,500],\n",
    "    'criterion': ['gini', 'entropy'],\n",
    "    'max_depth': [None, 2, 4, 6, 8, 10,15],\n",
    "    'min_samples_split': [2, 4, 6, 8, 10,20],\n",
    "    'min_samples_leaf': [1, 2, 4, 6, 8, 10,12],\n",
    "    'max_features': [None, 'auto', 'sqrt', 'log2'],\n",
    "    'bootstrap': [True, False]\n",
    "}\n",
    "mnb_model=run_model(MultinomialNB(),params)\n",
    "eval_model(train_y,mnb_model.predict(train_X),mnb_model.predict_proba(train_X),type='Training')\n",
    "eval_model(test_y,mnb_model.predict(test_X),mnb_model.predict_proba(test_X),type='Test')"
   ]
  },
  {
   "cell_type": "markdown",
   "metadata": {},
   "source": [
    "### Results on Test Data"
   ]
  },
  {
   "cell_type": "code",
   "execution_count": null,
   "metadata": {},
   "outputs": [],
   "source": [
    "Mode \t Accuracy \t Precision\tRecall\tF1 Score\t ROC AUC Score\n",
    "Logistic Regression\t 0.91\t  0.91\t0.91\t0.91\t0.99\n",
    "DecisionTreeClassifier\t0.75\t0.75\t0.75\t0.75\t0.84\n",
    "RandomForestClassifier\t0.81\t0.81\t0.8  0.81\t0.97\n",
    "MultinomialNB\t0.7 \t0.75\t0.71\t0.67\t0.96\n"
   ]
  },
  {
   "cell_type": "markdown",
   "metadata": {},
   "source": [
    "### Conclusions"
   ]
  },
  {
   "cell_type": "markdown",
   "metadata": {},
   "source": [
    "From above analysis we can say that,Logistic Regression is best performing model which giving F1-Score of 0.91 on Test. We will use Logistic Regressioin to predict   topics for the new complaints."
   ]
  },
  {
   "cell_type": "markdown",
   "metadata": {},
   "source": []
  },
  {
   "cell_type": "code",
   "execution_count": 275,
   "metadata": {
    "execution": {
     "iopub.execute_input": "2024-04-23T12:10:08.417714Z",
     "iopub.status.busy": "2024-04-23T12:10:08.417351Z",
     "iopub.status.idle": "2024-04-23T12:10:08.423379Z",
     "shell.execute_reply": "2024-04-23T12:10:08.422382Z",
     "shell.execute_reply.started": "2024-04-23T12:10:08.417686Z"
    }
   },
   "outputs": [],
   "source": [
    "# Applying the best model on the Custom Text\n",
    "# We will use the Logistic Regression model as it has the best performance\n",
    "df_complaints = pd.DataFrame({'complaints': [\"I can not get from chase who services my mortgage, who owns it and who has original loan docs\", \n",
    "                                  \"The bill amount of my credit card was debited twice. Please look into the matter and resolve at the earliest.\",\n",
    "                                  \"I want to open a salary account at your downtown branch. Please provide me the procedure.\",\n",
    "                                  \"Yesterday, I received a fraudulent email regarding renewal of my services.\",\n",
    "                                  \"What is the procedure to know my CIBIL score?\",\n",
    "                                  \"I need to know the number of bank branches and their locations in the city of Dubai\"]})"
   ]
  },
  {
   "cell_type": "code",
   "execution_count": 276,
   "metadata": {
    "execution": {
     "iopub.execute_input": "2024-04-23T12:10:13.911313Z",
     "iopub.status.busy": "2024-04-23T12:10:13.910465Z",
     "iopub.status.idle": "2024-04-23T12:10:13.920020Z",
     "shell.execute_reply": "2024-04-23T12:10:13.919063Z",
     "shell.execute_reply.started": "2024-04-23T12:10:13.911278Z"
    }
   },
   "outputs": [
    {
     "data": {
      "text/html": [
       "<div>\n",
       "<style scoped>\n",
       "    .dataframe tbody tr th:only-of-type {\n",
       "        vertical-align: middle;\n",
       "    }\n",
       "\n",
       "    .dataframe tbody tr th {\n",
       "        vertical-align: top;\n",
       "    }\n",
       "\n",
       "    .dataframe thead th {\n",
       "        text-align: right;\n",
       "    }\n",
       "</style>\n",
       "<table border=\"1\" class=\"dataframe\">\n",
       "  <thead>\n",
       "    <tr style=\"text-align: right;\">\n",
       "      <th></th>\n",
       "      <th>complaints</th>\n",
       "    </tr>\n",
       "  </thead>\n",
       "  <tbody>\n",
       "    <tr>\n",
       "      <th>0</th>\n",
       "      <td>I can not get from chase who services my mortg...</td>\n",
       "    </tr>\n",
       "    <tr>\n",
       "      <th>1</th>\n",
       "      <td>The bill amount of my credit card was debited ...</td>\n",
       "    </tr>\n",
       "    <tr>\n",
       "      <th>2</th>\n",
       "      <td>I want to open a salary account at your downto...</td>\n",
       "    </tr>\n",
       "    <tr>\n",
       "      <th>3</th>\n",
       "      <td>Yesterday, I received a fraudulent email regar...</td>\n",
       "    </tr>\n",
       "    <tr>\n",
       "      <th>4</th>\n",
       "      <td>What is the procedure to know my CIBIL score?</td>\n",
       "    </tr>\n",
       "    <tr>\n",
       "      <th>5</th>\n",
       "      <td>I need to know the number of bank branches and...</td>\n",
       "    </tr>\n",
       "  </tbody>\n",
       "</table>\n",
       "</div>"
      ],
      "text/plain": [
       "                                          complaints\n",
       "0  I can not get from chase who services my mortg...\n",
       "1  The bill amount of my credit card was debited ...\n",
       "2  I want to open a salary account at your downto...\n",
       "3  Yesterday, I received a fraudulent email regar...\n",
       "4      What is the procedure to know my CIBIL score?\n",
       "5  I need to know the number of bank branches and..."
      ]
     },
     "execution_count": 276,
     "metadata": {},
     "output_type": "execute_result"
    }
   ],
   "source": [
    "df_complaints"
   ]
  },
  {
   "cell_type": "code",
   "execution_count": 277,
   "metadata": {
    "execution": {
     "iopub.execute_input": "2024-04-23T12:10:16.410093Z",
     "iopub.status.busy": "2024-04-23T12:10:16.409725Z",
     "iopub.status.idle": "2024-04-23T12:10:16.416525Z",
     "shell.execute_reply": "2024-04-23T12:10:16.415447Z",
     "shell.execute_reply.started": "2024-04-23T12:10:16.410067Z"
    }
   },
   "outputs": [],
   "source": [
    "def predict_lr(text):\n",
    "    Topic_names = {\n",
    "        0: 'Theft/Dispute Reporting',\n",
    "        1: 'Bank Account services',\n",
    "        2: 'Mortgage/Loan',\n",
    "        3: 'Credit card / Prepaid card',\n",
    "        4: 'Others'\n",
    "    }    \n",
    "    X_new_counts = count_vect.transform([text])  # Pass text as a list containing one string\n",
    "    X_new_tfidf = tfidf_transformer.transform(X_new_counts)\n",
    "    predicted = lr_model.predict(X_new_tfidf)\n",
    "    predicted_label = predicted[0]\n",
    "    if isinstance(predicted_label, int):\n",
    "        return Topic_names[predicted_label]\n",
    "    else:\n",
    "        # If the predicted label is a string, return it directly\n",
    "        return predicted_label"
   ]
  },
  {
   "cell_type": "code",
   "execution_count": 278,
   "metadata": {
    "execution": {
     "iopub.execute_input": "2024-04-23T12:10:21.000885Z",
     "iopub.status.busy": "2024-04-23T12:10:21.000504Z",
     "iopub.status.idle": "2024-04-23T12:10:21.024001Z",
     "shell.execute_reply": "2024-04-23T12:10:21.023103Z",
     "shell.execute_reply.started": "2024-04-23T12:10:21.000858Z"
    }
   },
   "outputs": [
    {
     "data": {
      "text/html": [
       "<div>\n",
       "<style scoped>\n",
       "    .dataframe tbody tr th:only-of-type {\n",
       "        vertical-align: middle;\n",
       "    }\n",
       "\n",
       "    .dataframe tbody tr th {\n",
       "        vertical-align: top;\n",
       "    }\n",
       "\n",
       "    .dataframe thead th {\n",
       "        text-align: right;\n",
       "    }\n",
       "</style>\n",
       "<table border=\"1\" class=\"dataframe\">\n",
       "  <thead>\n",
       "    <tr style=\"text-align: right;\">\n",
       "      <th></th>\n",
       "      <th>complaints</th>\n",
       "      <th>predicted_label</th>\n",
       "    </tr>\n",
       "  </thead>\n",
       "  <tbody>\n",
       "    <tr>\n",
       "      <th>0</th>\n",
       "      <td>I can not get from chase who services my mortg...</td>\n",
       "      <td>Mortgage/Loan</td>\n",
       "    </tr>\n",
       "    <tr>\n",
       "      <th>1</th>\n",
       "      <td>The bill amount of my credit card was debited ...</td>\n",
       "      <td>Credit card / Prepaid card</td>\n",
       "    </tr>\n",
       "    <tr>\n",
       "      <th>2</th>\n",
       "      <td>I want to open a salary account at your downto...</td>\n",
       "      <td>Bank Account services</td>\n",
       "    </tr>\n",
       "    <tr>\n",
       "      <th>3</th>\n",
       "      <td>Yesterday, I received a fraudulent email regar...</td>\n",
       "      <td>Theft/Dispute Reporting</td>\n",
       "    </tr>\n",
       "    <tr>\n",
       "      <th>4</th>\n",
       "      <td>What is the procedure to know my CIBIL score?</td>\n",
       "      <td>Credit card / Prepaid card</td>\n",
       "    </tr>\n",
       "    <tr>\n",
       "      <th>5</th>\n",
       "      <td>I need to know the number of bank branches and...</td>\n",
       "      <td>Bank Account services</td>\n",
       "    </tr>\n",
       "  </tbody>\n",
       "</table>\n",
       "</div>"
      ],
      "text/plain": [
       "                                          complaints  \\\n",
       "0  I can not get from chase who services my mortg...   \n",
       "1  The bill amount of my credit card was debited ...   \n",
       "2  I want to open a salary account at your downto...   \n",
       "3  Yesterday, I received a fraudulent email regar...   \n",
       "4      What is the procedure to know my CIBIL score?   \n",
       "5  I need to know the number of bank branches and...   \n",
       "\n",
       "              predicted_label  \n",
       "0               Mortgage/Loan  \n",
       "1  Credit card / Prepaid card  \n",
       "2       Bank Account services  \n",
       "3     Theft/Dispute Reporting  \n",
       "4  Credit card / Prepaid card  \n",
       "5       Bank Account services  "
      ]
     },
     "execution_count": 278,
     "metadata": {},
     "output_type": "execute_result"
    }
   ],
   "source": [
    "# predicted text\n",
    "df_complaints['predicted_label'] = df_complaints['complaints'].apply(predict_lr)\n",
    "df_complaints"
   ]
  },
  {
   "cell_type": "markdown",
   "metadata": {},
   "source": [
    "##### we can see that Logistic Regression model working well on unseen data. Hence,we can use Logistic model for prediction."
   ]
  },
  {
   "cell_type": "code",
   "execution_count": null,
   "metadata": {},
   "outputs": [],
   "source": []
  }
 ],
 "metadata": {
  "accelerator": "GPU",
  "colab": {
   "collapsed_sections": [
    "T9jD_6SeJrF3",
    "5DfCSbbmJrF4",
    "yYzD85nTJrGA",
    "piyLxzj6v07j",
    "280Vbqk-7a8M"
   ],
   "gpuType": "T4",
   "provenance": []
  },
  "kaggle": {
   "accelerator": "gpu",
   "dataSources": [
    {
     "datasetId": 4846775,
     "sourceId": 8185419,
     "sourceType": "datasetVersion"
    }
   ],
   "dockerImageVersionId": 30698,
   "isGpuEnabled": true,
   "isInternetEnabled": true,
   "language": "python",
   "sourceType": "notebook"
  },
  "kernelspec": {
   "display_name": "Python 3 (ipykernel)",
   "language": "python",
   "name": "python3"
  },
  "language_info": {
   "codemirror_mode": {
    "name": "ipython",
    "version": 3
   },
   "file_extension": ".py",
   "mimetype": "text/x-python",
   "name": "python",
   "nbconvert_exporter": "python",
   "pygments_lexer": "ipython3",
   "version": "3.10.9"
  },
  "widgets": {
   "application/vnd.jupyter.widget-state+json": {
    "034b69a18a7d4069804253f068a1d267": {
     "model_module": "@jupyter-widgets/controls",
     "model_module_version": "1.5.0",
     "model_name": "HBoxModel",
     "state": {
      "_dom_classes": [],
      "_model_module": "@jupyter-widgets/controls",
      "_model_module_version": "1.5.0",
      "_model_name": "HBoxModel",
      "_view_count": null,
      "_view_module": "@jupyter-widgets/controls",
      "_view_module_version": "1.5.0",
      "_view_name": "HBoxView",
      "box_style": "",
      "children": [
       "IPY_MODEL_b9a27fde57064f6ab463389e90cdb6bf",
       "IPY_MODEL_e4d10ed23d8f41709fb610d9043588ba",
       "IPY_MODEL_6d8c2db6201743808deb11b2fb3e3de1"
      ],
      "layout": "IPY_MODEL_441f8df6a0b24d67b3ba82a9ea7b05de"
     }
    },
    "07b075bb8ec94b68860f5ebb2c77d936": {
     "model_module": "@jupyter-widgets/base",
     "model_module_version": "1.2.0",
     "model_name": "LayoutModel",
     "state": {
      "_model_module": "@jupyter-widgets/base",
      "_model_module_version": "1.2.0",
      "_model_name": "LayoutModel",
      "_view_count": null,
      "_view_module": "@jupyter-widgets/base",
      "_view_module_version": "1.2.0",
      "_view_name": "LayoutView",
      "align_content": null,
      "align_items": null,
      "align_self": null,
      "border": null,
      "bottom": null,
      "display": null,
      "flex": null,
      "flex_flow": null,
      "grid_area": null,
      "grid_auto_columns": null,
      "grid_auto_flow": null,
      "grid_auto_rows": null,
      "grid_column": null,
      "grid_gap": null,
      "grid_row": null,
      "grid_template_areas": null,
      "grid_template_columns": null,
      "grid_template_rows": null,
      "height": null,
      "justify_content": null,
      "justify_items": null,
      "left": null,
      "margin": null,
      "max_height": null,
      "max_width": null,
      "min_height": null,
      "min_width": null,
      "object_fit": null,
      "object_position": null,
      "order": null,
      "overflow": null,
      "overflow_x": null,
      "overflow_y": null,
      "padding": null,
      "right": null,
      "top": null,
      "visibility": null,
      "width": null
     }
    },
    "252faf4a63d8467ab2cce9fbbef23ff4": {
     "model_module": "@jupyter-widgets/base",
     "model_module_version": "1.2.0",
     "model_name": "LayoutModel",
     "state": {
      "_model_module": "@jupyter-widgets/base",
      "_model_module_version": "1.2.0",
      "_model_name": "LayoutModel",
      "_view_count": null,
      "_view_module": "@jupyter-widgets/base",
      "_view_module_version": "1.2.0",
      "_view_name": "LayoutView",
      "align_content": null,
      "align_items": null,
      "align_self": null,
      "border": null,
      "bottom": null,
      "display": null,
      "flex": null,
      "flex_flow": null,
      "grid_area": null,
      "grid_auto_columns": null,
      "grid_auto_flow": null,
      "grid_auto_rows": null,
      "grid_column": null,
      "grid_gap": null,
      "grid_row": null,
      "grid_template_areas": null,
      "grid_template_columns": null,
      "grid_template_rows": null,
      "height": null,
      "justify_content": null,
      "justify_items": null,
      "left": null,
      "margin": null,
      "max_height": null,
      "max_width": null,
      "min_height": null,
      "min_width": null,
      "object_fit": null,
      "object_position": null,
      "order": null,
      "overflow": null,
      "overflow_x": null,
      "overflow_y": null,
      "padding": null,
      "right": null,
      "top": null,
      "visibility": null,
      "width": null
     }
    },
    "292130b00b054c3f99c720df19a1fb53": {
     "model_module": "@jupyter-widgets/controls",
     "model_module_version": "1.5.0",
     "model_name": "DescriptionStyleModel",
     "state": {
      "_model_module": "@jupyter-widgets/controls",
      "_model_module_version": "1.5.0",
      "_model_name": "DescriptionStyleModel",
      "_view_count": null,
      "_view_module": "@jupyter-widgets/base",
      "_view_module_version": "1.2.0",
      "_view_name": "StyleView",
      "description_width": ""
     }
    },
    "441f8df6a0b24d67b3ba82a9ea7b05de": {
     "model_module": "@jupyter-widgets/base",
     "model_module_version": "1.2.0",
     "model_name": "LayoutModel",
     "state": {
      "_model_module": "@jupyter-widgets/base",
      "_model_module_version": "1.2.0",
      "_model_name": "LayoutModel",
      "_view_count": null,
      "_view_module": "@jupyter-widgets/base",
      "_view_module_version": "1.2.0",
      "_view_name": "LayoutView",
      "align_content": null,
      "align_items": null,
      "align_self": null,
      "border": null,
      "bottom": null,
      "display": null,
      "flex": null,
      "flex_flow": null,
      "grid_area": null,
      "grid_auto_columns": null,
      "grid_auto_flow": null,
      "grid_auto_rows": null,
      "grid_column": null,
      "grid_gap": null,
      "grid_row": null,
      "grid_template_areas": null,
      "grid_template_columns": null,
      "grid_template_rows": null,
      "height": null,
      "justify_content": null,
      "justify_items": null,
      "left": null,
      "margin": null,
      "max_height": null,
      "max_width": null,
      "min_height": null,
      "min_width": null,
      "object_fit": null,
      "object_position": null,
      "order": null,
      "overflow": null,
      "overflow_x": null,
      "overflow_y": null,
      "padding": null,
      "right": null,
      "top": null,
      "visibility": null,
      "width": null
     }
    },
    "6d8c2db6201743808deb11b2fb3e3de1": {
     "model_module": "@jupyter-widgets/controls",
     "model_module_version": "1.5.0",
     "model_name": "HTMLModel",
     "state": {
      "_dom_classes": [],
      "_model_module": "@jupyter-widgets/controls",
      "_model_module_version": "1.5.0",
      "_model_name": "HTMLModel",
      "_view_count": null,
      "_view_module": "@jupyter-widgets/controls",
      "_view_module_version": "1.5.0",
      "_view_name": "HTMLView",
      "description": "",
      "description_tooltip": null,
      "layout": "IPY_MODEL_07b075bb8ec94b68860f5ebb2c77d936",
      "placeholder": "​",
      "style": "IPY_MODEL_292130b00b054c3f99c720df19a1fb53",
      "value": " 21072/21072 [08:25&lt;00:00, 44.65it/s]"
     }
    },
    "76e3f4730f414711a89dac59fa193371": {
     "model_module": "@jupyter-widgets/base",
     "model_module_version": "1.2.0",
     "model_name": "LayoutModel",
     "state": {
      "_model_module": "@jupyter-widgets/base",
      "_model_module_version": "1.2.0",
      "_model_name": "LayoutModel",
      "_view_count": null,
      "_view_module": "@jupyter-widgets/base",
      "_view_module_version": "1.2.0",
      "_view_name": "LayoutView",
      "align_content": null,
      "align_items": null,
      "align_self": null,
      "border": null,
      "bottom": null,
      "display": null,
      "flex": null,
      "flex_flow": null,
      "grid_area": null,
      "grid_auto_columns": null,
      "grid_auto_flow": null,
      "grid_auto_rows": null,
      "grid_column": null,
      "grid_gap": null,
      "grid_row": null,
      "grid_template_areas": null,
      "grid_template_columns": null,
      "grid_template_rows": null,
      "height": null,
      "justify_content": null,
      "justify_items": null,
      "left": null,
      "margin": null,
      "max_height": null,
      "max_width": null,
      "min_height": null,
      "min_width": null,
      "object_fit": null,
      "object_position": null,
      "order": null,
      "overflow": null,
      "overflow_x": null,
      "overflow_y": null,
      "padding": null,
      "right": null,
      "top": null,
      "visibility": null,
      "width": null
     }
    },
    "a48c60be42284d24bd68fb471b5d95b2": {
     "model_module": "@jupyter-widgets/controls",
     "model_module_version": "1.5.0",
     "model_name": "ProgressStyleModel",
     "state": {
      "_model_module": "@jupyter-widgets/controls",
      "_model_module_version": "1.5.0",
      "_model_name": "ProgressStyleModel",
      "_view_count": null,
      "_view_module": "@jupyter-widgets/base",
      "_view_module_version": "1.2.0",
      "_view_name": "StyleView",
      "bar_color": null,
      "description_width": ""
     }
    },
    "b9a27fde57064f6ab463389e90cdb6bf": {
     "model_module": "@jupyter-widgets/controls",
     "model_module_version": "1.5.0",
     "model_name": "HTMLModel",
     "state": {
      "_dom_classes": [],
      "_model_module": "@jupyter-widgets/controls",
      "_model_module_version": "1.5.0",
      "_model_name": "HTMLModel",
      "_view_count": null,
      "_view_module": "@jupyter-widgets/controls",
      "_view_module_version": "1.5.0",
      "_view_name": "HTMLView",
      "description": "",
      "description_tooltip": null,
      "layout": "IPY_MODEL_252faf4a63d8467ab2cce9fbbef23ff4",
      "placeholder": "​",
      "style": "IPY_MODEL_f4c936ed613a42b7a3c54a018d9ffb33",
      "value": "Pandas Apply: 100%"
     }
    },
    "e4d10ed23d8f41709fb610d9043588ba": {
     "model_module": "@jupyter-widgets/controls",
     "model_module_version": "1.5.0",
     "model_name": "FloatProgressModel",
     "state": {
      "_dom_classes": [],
      "_model_module": "@jupyter-widgets/controls",
      "_model_module_version": "1.5.0",
      "_model_name": "FloatProgressModel",
      "_view_count": null,
      "_view_module": "@jupyter-widgets/controls",
      "_view_module_version": "1.5.0",
      "_view_name": "ProgressView",
      "bar_style": "success",
      "description": "",
      "description_tooltip": null,
      "layout": "IPY_MODEL_76e3f4730f414711a89dac59fa193371",
      "max": 21072,
      "min": 0,
      "orientation": "horizontal",
      "style": "IPY_MODEL_a48c60be42284d24bd68fb471b5d95b2",
      "value": 21072
     }
    },
    "f4c936ed613a42b7a3c54a018d9ffb33": {
     "model_module": "@jupyter-widgets/controls",
     "model_module_version": "1.5.0",
     "model_name": "DescriptionStyleModel",
     "state": {
      "_model_module": "@jupyter-widgets/controls",
      "_model_module_version": "1.5.0",
      "_model_name": "DescriptionStyleModel",
      "_view_count": null,
      "_view_module": "@jupyter-widgets/base",
      "_view_module_version": "1.2.0",
      "_view_name": "StyleView",
      "description_width": ""
     }
    }
   }
  }
 },
 "nbformat": 4,
 "nbformat_minor": 4
}
